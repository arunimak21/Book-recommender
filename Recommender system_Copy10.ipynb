{
 "cells": [
  {
   "cell_type": "code",
   "execution_count": 1,
   "id": "df853508",
   "metadata": {},
   "outputs": [],
   "source": [
    "#impored the required libraries\n",
    "#for the data wrangling\n",
    "import pandas as pd\n",
    "import numpy as np\n",
    "\n",
    "#for data visualization\n",
    "import seaborn as sns\n",
    "import matplotlib.pyplot as plt\n",
    "\n",
    "import warnings\n",
    "warnings.filterwarnings(\"ignore\")"
   ]
  },
  {
   "cell_type": "code",
   "execution_count": 2,
   "id": "bbea28df",
   "metadata": {},
   "outputs": [],
   "source": [
    "#loading the required dataset\n",
    "books=pd.read_csv(\"Books.csv\")\n",
    "users=pd.read_csv(\"Users main.csv\")\n",
    "ratings=pd.read_csv(\"Ratings.csv\")"
   ]
  },
  {
   "cell_type": "code",
   "execution_count": 3,
   "id": "23b6cce3",
   "metadata": {
    "scrolled": true
   },
   "outputs": [
    {
     "data": {
      "text/html": [
       "<div>\n",
       "<style scoped>\n",
       "    .dataframe tbody tr th:only-of-type {\n",
       "        vertical-align: middle;\n",
       "    }\n",
       "\n",
       "    .dataframe tbody tr th {\n",
       "        vertical-align: top;\n",
       "    }\n",
       "\n",
       "    .dataframe thead th {\n",
       "        text-align: right;\n",
       "    }\n",
       "</style>\n",
       "<table border=\"1\" class=\"dataframe\">\n",
       "  <thead>\n",
       "    <tr style=\"text-align: right;\">\n",
       "      <th></th>\n",
       "      <th>ISBN</th>\n",
       "      <th>Book-Title</th>\n",
       "      <th>Book-Author</th>\n",
       "      <th>Year-Of-Publication</th>\n",
       "      <th>Publisher</th>\n",
       "      <th>Image-URL-S</th>\n",
       "      <th>Image-URL-M</th>\n",
       "      <th>Image-URL-L</th>\n",
       "    </tr>\n",
       "  </thead>\n",
       "  <tbody>\n",
       "    <tr>\n",
       "      <th>0</th>\n",
       "      <td>0195153448</td>\n",
       "      <td>Classical Mythology</td>\n",
       "      <td>Mark P. O. Morford</td>\n",
       "      <td>2002</td>\n",
       "      <td>Oxford University Press</td>\n",
       "      <td>http://images.amazon.com/images/P/0195153448.0...</td>\n",
       "      <td>http://images.amazon.com/images/P/0195153448.0...</td>\n",
       "      <td>http://images.amazon.com/images/P/0195153448.0...</td>\n",
       "    </tr>\n",
       "    <tr>\n",
       "      <th>1</th>\n",
       "      <td>0002005018</td>\n",
       "      <td>Clara Callan</td>\n",
       "      <td>Richard Bruce Wright</td>\n",
       "      <td>2001</td>\n",
       "      <td>HarperFlamingo Canada</td>\n",
       "      <td>http://images.amazon.com/images/P/0002005018.0...</td>\n",
       "      <td>http://images.amazon.com/images/P/0002005018.0...</td>\n",
       "      <td>http://images.amazon.com/images/P/0002005018.0...</td>\n",
       "    </tr>\n",
       "    <tr>\n",
       "      <th>2</th>\n",
       "      <td>0060973129</td>\n",
       "      <td>Decision in Normandy</td>\n",
       "      <td>Carlo D'Este</td>\n",
       "      <td>1991</td>\n",
       "      <td>HarperPerennial</td>\n",
       "      <td>http://images.amazon.com/images/P/0060973129.0...</td>\n",
       "      <td>http://images.amazon.com/images/P/0060973129.0...</td>\n",
       "      <td>http://images.amazon.com/images/P/0060973129.0...</td>\n",
       "    </tr>\n",
       "    <tr>\n",
       "      <th>3</th>\n",
       "      <td>0374157065</td>\n",
       "      <td>Flu: The Story of the Great Influenza Pandemic...</td>\n",
       "      <td>Gina Bari Kolata</td>\n",
       "      <td>1999</td>\n",
       "      <td>Farrar Straus Giroux</td>\n",
       "      <td>http://images.amazon.com/images/P/0374157065.0...</td>\n",
       "      <td>http://images.amazon.com/images/P/0374157065.0...</td>\n",
       "      <td>http://images.amazon.com/images/P/0374157065.0...</td>\n",
       "    </tr>\n",
       "    <tr>\n",
       "      <th>4</th>\n",
       "      <td>0393045218</td>\n",
       "      <td>The Mummies of Urumchi</td>\n",
       "      <td>E. J. W. Barber</td>\n",
       "      <td>1999</td>\n",
       "      <td>W. W. Norton &amp;amp; Company</td>\n",
       "      <td>http://images.amazon.com/images/P/0393045218.0...</td>\n",
       "      <td>http://images.amazon.com/images/P/0393045218.0...</td>\n",
       "      <td>http://images.amazon.com/images/P/0393045218.0...</td>\n",
       "    </tr>\n",
       "  </tbody>\n",
       "</table>\n",
       "</div>"
      ],
      "text/plain": [
       "         ISBN                                         Book-Title  \\\n",
       "0  0195153448                                Classical Mythology   \n",
       "1  0002005018                                       Clara Callan   \n",
       "2  0060973129                               Decision in Normandy   \n",
       "3  0374157065  Flu: The Story of the Great Influenza Pandemic...   \n",
       "4  0393045218                             The Mummies of Urumchi   \n",
       "\n",
       "            Book-Author Year-Of-Publication                   Publisher  \\\n",
       "0    Mark P. O. Morford                2002     Oxford University Press   \n",
       "1  Richard Bruce Wright                2001       HarperFlamingo Canada   \n",
       "2          Carlo D'Este                1991             HarperPerennial   \n",
       "3      Gina Bari Kolata                1999        Farrar Straus Giroux   \n",
       "4       E. J. W. Barber                1999  W. W. Norton &amp; Company   \n",
       "\n",
       "                                         Image-URL-S  \\\n",
       "0  http://images.amazon.com/images/P/0195153448.0...   \n",
       "1  http://images.amazon.com/images/P/0002005018.0...   \n",
       "2  http://images.amazon.com/images/P/0060973129.0...   \n",
       "3  http://images.amazon.com/images/P/0374157065.0...   \n",
       "4  http://images.amazon.com/images/P/0393045218.0...   \n",
       "\n",
       "                                         Image-URL-M  \\\n",
       "0  http://images.amazon.com/images/P/0195153448.0...   \n",
       "1  http://images.amazon.com/images/P/0002005018.0...   \n",
       "2  http://images.amazon.com/images/P/0060973129.0...   \n",
       "3  http://images.amazon.com/images/P/0374157065.0...   \n",
       "4  http://images.amazon.com/images/P/0393045218.0...   \n",
       "\n",
       "                                         Image-URL-L  \n",
       "0  http://images.amazon.com/images/P/0195153448.0...  \n",
       "1  http://images.amazon.com/images/P/0002005018.0...  \n",
       "2  http://images.amazon.com/images/P/0060973129.0...  \n",
       "3  http://images.amazon.com/images/P/0374157065.0...  \n",
       "4  http://images.amazon.com/images/P/0393045218.0...  "
      ]
     },
     "execution_count": 3,
     "metadata": {},
     "output_type": "execute_result"
    }
   ],
   "source": [
    "#taking look at dataset\n",
    "books.head()"
   ]
  },
  {
   "cell_type": "code",
   "execution_count": 4,
   "id": "f885a1d6",
   "metadata": {},
   "outputs": [
    {
     "data": {
      "text/plain": [
       "(271360, 8)"
      ]
     },
     "execution_count": 4,
     "metadata": {},
     "output_type": "execute_result"
    }
   ],
   "source": [
    "books.shape"
   ]
  },
  {
   "cell_type": "code",
   "execution_count": 5,
   "id": "dc44395c",
   "metadata": {},
   "outputs": [
    {
     "data": {
      "text/html": [
       "<div>\n",
       "<style scoped>\n",
       "    .dataframe tbody tr th:only-of-type {\n",
       "        vertical-align: middle;\n",
       "    }\n",
       "\n",
       "    .dataframe tbody tr th {\n",
       "        vertical-align: top;\n",
       "    }\n",
       "\n",
       "    .dataframe thead th {\n",
       "        text-align: right;\n",
       "    }\n",
       "</style>\n",
       "<table border=\"1\" class=\"dataframe\">\n",
       "  <thead>\n",
       "    <tr style=\"text-align: right;\">\n",
       "      <th></th>\n",
       "      <th>User-ID</th>\n",
       "      <th>City</th>\n",
       "      <th>State</th>\n",
       "      <th>Country</th>\n",
       "      <th>Age</th>\n",
       "    </tr>\n",
       "  </thead>\n",
       "  <tbody>\n",
       "    <tr>\n",
       "      <th>0</th>\n",
       "      <td>1</td>\n",
       "      <td>nyc</td>\n",
       "      <td>new york</td>\n",
       "      <td>usa</td>\n",
       "      <td>NaN</td>\n",
       "    </tr>\n",
       "    <tr>\n",
       "      <th>1</th>\n",
       "      <td>2</td>\n",
       "      <td>stockton</td>\n",
       "      <td>california</td>\n",
       "      <td>usa</td>\n",
       "      <td>18.0</td>\n",
       "    </tr>\n",
       "    <tr>\n",
       "      <th>2</th>\n",
       "      <td>3</td>\n",
       "      <td>moscow</td>\n",
       "      <td>yukon territory</td>\n",
       "      <td>russia</td>\n",
       "      <td>NaN</td>\n",
       "    </tr>\n",
       "    <tr>\n",
       "      <th>3</th>\n",
       "      <td>4</td>\n",
       "      <td>porto</td>\n",
       "      <td>v.n.gaia</td>\n",
       "      <td>portugal</td>\n",
       "      <td>17.0</td>\n",
       "    </tr>\n",
       "    <tr>\n",
       "      <th>4</th>\n",
       "      <td>5</td>\n",
       "      <td>farnborough</td>\n",
       "      <td>hants</td>\n",
       "      <td>united kingdom</td>\n",
       "      <td>NaN</td>\n",
       "    </tr>\n",
       "  </tbody>\n",
       "</table>\n",
       "</div>"
      ],
      "text/plain": [
       "   User-ID         City             State          Country   Age\n",
       "0        1          nyc          new york              usa   NaN\n",
       "1        2     stockton        california              usa  18.0\n",
       "2        3       moscow   yukon territory           russia   NaN\n",
       "3        4        porto          v.n.gaia         portugal  17.0\n",
       "4        5  farnborough             hants   united kingdom   NaN"
      ]
     },
     "execution_count": 5,
     "metadata": {},
     "output_type": "execute_result"
    }
   ],
   "source": [
    "users.head(5)"
   ]
  },
  {
   "cell_type": "code",
   "execution_count": 6,
   "id": "2d1a30f3",
   "metadata": {},
   "outputs": [
    {
     "data": {
      "text/html": [
       "<div>\n",
       "<style scoped>\n",
       "    .dataframe tbody tr th:only-of-type {\n",
       "        vertical-align: middle;\n",
       "    }\n",
       "\n",
       "    .dataframe tbody tr th {\n",
       "        vertical-align: top;\n",
       "    }\n",
       "\n",
       "    .dataframe thead th {\n",
       "        text-align: right;\n",
       "    }\n",
       "</style>\n",
       "<table border=\"1\" class=\"dataframe\">\n",
       "  <thead>\n",
       "    <tr style=\"text-align: right;\">\n",
       "      <th></th>\n",
       "      <th>User-ID</th>\n",
       "      <th>ISBN</th>\n",
       "      <th>Book-Rating</th>\n",
       "    </tr>\n",
       "  </thead>\n",
       "  <tbody>\n",
       "    <tr>\n",
       "      <th>0</th>\n",
       "      <td>276725</td>\n",
       "      <td>034545104X</td>\n",
       "      <td>0</td>\n",
       "    </tr>\n",
       "    <tr>\n",
       "      <th>1</th>\n",
       "      <td>276726</td>\n",
       "      <td>0155061224</td>\n",
       "      <td>5</td>\n",
       "    </tr>\n",
       "    <tr>\n",
       "      <th>2</th>\n",
       "      <td>276727</td>\n",
       "      <td>0446520802</td>\n",
       "      <td>0</td>\n",
       "    </tr>\n",
       "    <tr>\n",
       "      <th>3</th>\n",
       "      <td>276729</td>\n",
       "      <td>052165615X</td>\n",
       "      <td>3</td>\n",
       "    </tr>\n",
       "    <tr>\n",
       "      <th>4</th>\n",
       "      <td>276729</td>\n",
       "      <td>0521795028</td>\n",
       "      <td>6</td>\n",
       "    </tr>\n",
       "  </tbody>\n",
       "</table>\n",
       "</div>"
      ],
      "text/plain": [
       "   User-ID        ISBN  Book-Rating\n",
       "0   276725  034545104X            0\n",
       "1   276726  0155061224            5\n",
       "2   276727  0446520802            0\n",
       "3   276729  052165615X            3\n",
       "4   276729  0521795028            6"
      ]
     },
     "execution_count": 6,
     "metadata": {},
     "output_type": "execute_result"
    }
   ],
   "source": [
    "ratings.head()"
   ]
  },
  {
   "cell_type": "code",
   "execution_count": 7,
   "id": "fd95a98b",
   "metadata": {},
   "outputs": [
    {
     "name": "stdout",
     "output_type": "stream",
     "text": [
      "(271360, 8)\n",
      "(278858, 5)\n",
      "(1149780, 3)\n"
     ]
    }
   ],
   "source": [
    "#shape of all the data set\n",
    "print(books.shape)\n",
    "print(users.shape)\n",
    "print(ratings.shape)"
   ]
  },
  {
   "cell_type": "markdown",
   "id": "7038aa25",
   "metadata": {},
   "source": [
    "### books data"
   ]
  },
  {
   "cell_type": "code",
   "execution_count": 8,
   "id": "96789b3c",
   "metadata": {},
   "outputs": [
    {
     "name": "stdout",
     "output_type": "stream",
     "text": [
      "<class 'pandas.core.frame.DataFrame'>\n",
      "RangeIndex: 271360 entries, 0 to 271359\n",
      "Data columns (total 8 columns):\n",
      " #   Column               Non-Null Count   Dtype \n",
      "---  ------               --------------   ----- \n",
      " 0   ISBN                 271360 non-null  object\n",
      " 1   Book-Title           271360 non-null  object\n",
      " 2   Book-Author          271359 non-null  object\n",
      " 3   Year-Of-Publication  271360 non-null  object\n",
      " 4   Publisher            271358 non-null  object\n",
      " 5   Image-URL-S          271360 non-null  object\n",
      " 6   Image-URL-M          271360 non-null  object\n",
      " 7   Image-URL-L          271357 non-null  object\n",
      "dtypes: object(8)\n",
      "memory usage: 16.6+ MB\n",
      "None\n"
     ]
    }
   ],
   "source": [
    "print(books.info())"
   ]
  },
  {
   "cell_type": "markdown",
   "id": "f865a2df",
   "metadata": {},
   "source": [
    "in the books dataset there is some missing values"
   ]
  },
  {
   "cell_type": "code",
   "execution_count": 9,
   "id": "18b0db2b",
   "metadata": {},
   "outputs": [
    {
     "data": {
      "text/html": [
       "<div>\n",
       "<style scoped>\n",
       "    .dataframe tbody tr th:only-of-type {\n",
       "        vertical-align: middle;\n",
       "    }\n",
       "\n",
       "    .dataframe tbody tr th {\n",
       "        vertical-align: top;\n",
       "    }\n",
       "\n",
       "    .dataframe thead th {\n",
       "        text-align: right;\n",
       "    }\n",
       "</style>\n",
       "<table border=\"1\" class=\"dataframe\">\n",
       "  <thead>\n",
       "    <tr style=\"text-align: right;\">\n",
       "      <th></th>\n",
       "      <th>ISBN</th>\n",
       "      <th>Book-Title</th>\n",
       "      <th>Book-Author</th>\n",
       "      <th>Year-Of-Publication</th>\n",
       "      <th>Publisher</th>\n",
       "      <th>Image-URL-S</th>\n",
       "      <th>Image-URL-M</th>\n",
       "      <th>Image-URL-L</th>\n",
       "    </tr>\n",
       "  </thead>\n",
       "  <tbody>\n",
       "    <tr>\n",
       "      <th>count</th>\n",
       "      <td>271360</td>\n",
       "      <td>271360</td>\n",
       "      <td>271359</td>\n",
       "      <td>271360</td>\n",
       "      <td>271358</td>\n",
       "      <td>271360</td>\n",
       "      <td>271360</td>\n",
       "      <td>271357</td>\n",
       "    </tr>\n",
       "    <tr>\n",
       "      <th>unique</th>\n",
       "      <td>271360</td>\n",
       "      <td>242135</td>\n",
       "      <td>102023</td>\n",
       "      <td>202</td>\n",
       "      <td>16807</td>\n",
       "      <td>271044</td>\n",
       "      <td>271044</td>\n",
       "      <td>271041</td>\n",
       "    </tr>\n",
       "    <tr>\n",
       "      <th>top</th>\n",
       "      <td>0195153448</td>\n",
       "      <td>Selected Poems</td>\n",
       "      <td>Agatha Christie</td>\n",
       "      <td>2002</td>\n",
       "      <td>Harlequin</td>\n",
       "      <td>http://images.amazon.com/images/P/185326119X.0...</td>\n",
       "      <td>http://images.amazon.com/images/P/185326119X.0...</td>\n",
       "      <td>http://images.amazon.com/images/P/225307649X.0...</td>\n",
       "    </tr>\n",
       "    <tr>\n",
       "      <th>freq</th>\n",
       "      <td>1</td>\n",
       "      <td>27</td>\n",
       "      <td>632</td>\n",
       "      <td>13903</td>\n",
       "      <td>7535</td>\n",
       "      <td>2</td>\n",
       "      <td>2</td>\n",
       "      <td>2</td>\n",
       "    </tr>\n",
       "  </tbody>\n",
       "</table>\n",
       "</div>"
      ],
      "text/plain": [
       "              ISBN      Book-Title      Book-Author  Year-Of-Publication  \\\n",
       "count       271360          271360           271359               271360   \n",
       "unique      271360          242135           102023                  202   \n",
       "top     0195153448  Selected Poems  Agatha Christie                 2002   \n",
       "freq             1              27              632                13903   \n",
       "\n",
       "        Publisher                                        Image-URL-S  \\\n",
       "count      271358                                             271360   \n",
       "unique      16807                                             271044   \n",
       "top     Harlequin  http://images.amazon.com/images/P/185326119X.0...   \n",
       "freq         7535                                                  2   \n",
       "\n",
       "                                              Image-URL-M  \\\n",
       "count                                              271360   \n",
       "unique                                             271044   \n",
       "top     http://images.amazon.com/images/P/185326119X.0...   \n",
       "freq                                                    2   \n",
       "\n",
       "                                              Image-URL-L  \n",
       "count                                              271357  \n",
       "unique                                             271041  \n",
       "top     http://images.amazon.com/images/P/225307649X.0...  \n",
       "freq                                                    2  "
      ]
     },
     "execution_count": 9,
     "metadata": {},
     "output_type": "execute_result"
    }
   ],
   "source": [
    "books.describe()"
   ]
  },
  {
   "cell_type": "code",
   "execution_count": 10,
   "id": "92a7e309",
   "metadata": {},
   "outputs": [
    {
     "name": "stdout",
     "output_type": "stream",
     "text": [
      "Number of missing values:  ISBN                   0\n",
      "Book-Title             0\n",
      "Book-Author            1\n",
      "Year-Of-Publication    0\n",
      "Publisher              2\n",
      "Image-URL-S            0\n",
      "Image-URL-M            0\n",
      "Image-URL-L            3\n",
      "dtype: int64\n"
     ]
    }
   ],
   "source": [
    "#books.isnull().sum()\n",
    "print(\"Number of missing values: \",books.isnull().sum())"
   ]
  },
  {
   "cell_type": "code",
   "execution_count": 11,
   "id": "728eaac4",
   "metadata": {},
   "outputs": [
    {
     "name": "stdout",
     "output_type": "stream",
     "text": [
      "ISBN                   0.000000\n",
      "Book-Title             0.000000\n",
      "Book-Author            0.000369\n",
      "Year-Of-Publication    0.000000\n",
      "Publisher              0.000737\n",
      "Image-URL-S            0.000000\n",
      "Image-URL-M            0.000000\n",
      "Image-URL-L            0.001106\n",
      "dtype: float64\n"
     ]
    }
   ],
   "source": [
    "#lets check the missing value percentage\n",
    "print((books.isnull().sum()/len(books))*100)"
   ]
  },
  {
   "cell_type": "markdown",
   "id": "ad2096bf",
   "metadata": {},
   "source": [
    "so from above table we can get to know that in \"book author\" ,in \"publisher\" and also \"image url\" there are some missing values"
   ]
  },
  {
   "cell_type": "code",
   "execution_count": 12,
   "id": "dc89150d",
   "metadata": {},
   "outputs": [
    {
     "data": {
      "text/html": [
       "<div>\n",
       "<style scoped>\n",
       "    .dataframe tbody tr th:only-of-type {\n",
       "        vertical-align: middle;\n",
       "    }\n",
       "\n",
       "    .dataframe tbody tr th {\n",
       "        vertical-align: top;\n",
       "    }\n",
       "\n",
       "    .dataframe thead th {\n",
       "        text-align: right;\n",
       "    }\n",
       "</style>\n",
       "<table border=\"1\" class=\"dataframe\">\n",
       "  <thead>\n",
       "    <tr style=\"text-align: right;\">\n",
       "      <th></th>\n",
       "      <th>ISBN</th>\n",
       "      <th>Book-Title</th>\n",
       "      <th>Book-Author</th>\n",
       "      <th>Year-Of-Publication</th>\n",
       "      <th>Publisher</th>\n",
       "      <th>Image-URL-S</th>\n",
       "      <th>Image-URL-M</th>\n",
       "      <th>Image-URL-L</th>\n",
       "    </tr>\n",
       "  </thead>\n",
       "  <tbody>\n",
       "    <tr>\n",
       "      <th>187689</th>\n",
       "      <td>9627982032</td>\n",
       "      <td>The Credit Suisse Guide to Managing Your Perso...</td>\n",
       "      <td>NaN</td>\n",
       "      <td>1995</td>\n",
       "      <td>Edinburgh Financial Publishing</td>\n",
       "      <td>http://images.amazon.com/images/P/9627982032.0...</td>\n",
       "      <td>http://images.amazon.com/images/P/9627982032.0...</td>\n",
       "      <td>http://images.amazon.com/images/P/9627982032.0...</td>\n",
       "    </tr>\n",
       "  </tbody>\n",
       "</table>\n",
       "</div>"
      ],
      "text/plain": [
       "              ISBN                                         Book-Title  \\\n",
       "187689  9627982032  The Credit Suisse Guide to Managing Your Perso...   \n",
       "\n",
       "       Book-Author Year-Of-Publication                       Publisher  \\\n",
       "187689         NaN                1995  Edinburgh Financial Publishing   \n",
       "\n",
       "                                              Image-URL-S  \\\n",
       "187689  http://images.amazon.com/images/P/9627982032.0...   \n",
       "\n",
       "                                              Image-URL-M  \\\n",
       "187689  http://images.amazon.com/images/P/9627982032.0...   \n",
       "\n",
       "                                              Image-URL-L  \n",
       "187689  http://images.amazon.com/images/P/9627982032.0...  "
      ]
     },
     "execution_count": 12,
     "metadata": {},
     "output_type": "execute_result"
    }
   ],
   "source": [
    "#let check null values in book author very first\n",
    "books[books[\"Book-Author\"].isna()]"
   ]
  },
  {
   "cell_type": "markdown",
   "id": "54492da8",
   "metadata": {},
   "source": [
    "#Larissa Anne Downes is the author of the book named \"The Credit Suisse Guide to Managing Your Personal Wealth\""
   ]
  },
  {
   "cell_type": "code",
   "execution_count": 13,
   "id": "c9276133",
   "metadata": {},
   "outputs": [],
   "source": [
    "#filling the null values\n",
    "books.loc[187689,'Book-Author']='Larissa Anne Downes'"
   ]
  },
  {
   "cell_type": "code",
   "execution_count": 14,
   "id": "8f3678df",
   "metadata": {},
   "outputs": [
    {
     "data": {
      "text/html": [
       "<div>\n",
       "<style scoped>\n",
       "    .dataframe tbody tr th:only-of-type {\n",
       "        vertical-align: middle;\n",
       "    }\n",
       "\n",
       "    .dataframe tbody tr th {\n",
       "        vertical-align: top;\n",
       "    }\n",
       "\n",
       "    .dataframe thead th {\n",
       "        text-align: right;\n",
       "    }\n",
       "</style>\n",
       "<table border=\"1\" class=\"dataframe\">\n",
       "  <thead>\n",
       "    <tr style=\"text-align: right;\">\n",
       "      <th></th>\n",
       "      <th>ISBN</th>\n",
       "      <th>Book-Title</th>\n",
       "      <th>Book-Author</th>\n",
       "      <th>Year-Of-Publication</th>\n",
       "      <th>Publisher</th>\n",
       "      <th>Image-URL-S</th>\n",
       "      <th>Image-URL-M</th>\n",
       "      <th>Image-URL-L</th>\n",
       "    </tr>\n",
       "  </thead>\n",
       "  <tbody>\n",
       "    <tr>\n",
       "      <th>128890</th>\n",
       "      <td>193169656X</td>\n",
       "      <td>Tyrant Moon</td>\n",
       "      <td>Elaine Corvidae</td>\n",
       "      <td>2002</td>\n",
       "      <td>NaN</td>\n",
       "      <td>http://images.amazon.com/images/P/193169656X.0...</td>\n",
       "      <td>http://images.amazon.com/images/P/193169656X.0...</td>\n",
       "      <td>http://images.amazon.com/images/P/193169656X.0...</td>\n",
       "    </tr>\n",
       "    <tr>\n",
       "      <th>129037</th>\n",
       "      <td>1931696993</td>\n",
       "      <td>Finders Keepers</td>\n",
       "      <td>Linnea Sinclair</td>\n",
       "      <td>2001</td>\n",
       "      <td>NaN</td>\n",
       "      <td>http://images.amazon.com/images/P/1931696993.0...</td>\n",
       "      <td>http://images.amazon.com/images/P/1931696993.0...</td>\n",
       "      <td>http://images.amazon.com/images/P/1931696993.0...</td>\n",
       "    </tr>\n",
       "  </tbody>\n",
       "</table>\n",
       "</div>"
      ],
      "text/plain": [
       "              ISBN       Book-Title      Book-Author Year-Of-Publication  \\\n",
       "128890  193169656X      Tyrant Moon  Elaine Corvidae                2002   \n",
       "129037  1931696993  Finders Keepers  Linnea Sinclair                2001   \n",
       "\n",
       "       Publisher                                        Image-URL-S  \\\n",
       "128890       NaN  http://images.amazon.com/images/P/193169656X.0...   \n",
       "129037       NaN  http://images.amazon.com/images/P/1931696993.0...   \n",
       "\n",
       "                                              Image-URL-M  \\\n",
       "128890  http://images.amazon.com/images/P/193169656X.0...   \n",
       "129037  http://images.amazon.com/images/P/1931696993.0...   \n",
       "\n",
       "                                              Image-URL-L  \n",
       "128890  http://images.amazon.com/images/P/193169656X.0...  \n",
       "129037  http://images.amazon.com/images/P/1931696993.0...  "
      ]
     },
     "execution_count": 14,
     "metadata": {},
     "output_type": "execute_result"
    }
   ],
   "source": [
    "#let check the null value in publisher\n",
    "books[books[\"Publisher\"].isna()]"
   ]
  },
  {
   "cell_type": "markdown",
   "id": "4622a2f1",
   "metadata": {},
   "source": [
    "so from above df we can see for the book \"tyrant moon \" and \"finders keepers\" we have not publisher name...and thant we will find from internet"
   ]
  },
  {
   "cell_type": "code",
   "execution_count": 15,
   "id": "d4e931c1",
   "metadata": {},
   "outputs": [],
   "source": [
    "# tyrant moon - Mundania Press\n",
    "# finders keepers - Hoodder & Stoughton\n",
    "\n",
    "# let us replaicng null values with correct values\n",
    "books.loc[128890,'Publisher']=\"Mundania Press\"\n",
    "books.loc[129037,'Publisher']=\"Hoodder & Stoughton\""
   ]
  },
  {
   "cell_type": "code",
   "execution_count": 16,
   "id": "0eea28a8",
   "metadata": {},
   "outputs": [
    {
     "data": {
      "text/plain": [
       "array([2002, 2001, 1991, 1999, 2000, 1993, 1996, 1988, 2004, 1998, 1994,\n",
       "       2003, 1997, 1983, 1979, 1995, 1982, 1985, 1992, 1986, 1978, 1980,\n",
       "       1952, 1987, 1990, 1981, 1989, 1984, 0, 1968, 1961, 1958, 1974,\n",
       "       1976, 1971, 1977, 1975, 1965, 1941, 1970, 1962, 1973, 1972, 1960,\n",
       "       1966, 1920, 1956, 1959, 1953, 1951, 1942, 1963, 1964, 1969, 1954,\n",
       "       1950, 1967, 2005, 1957, 1940, 1937, 1955, 1946, 1936, 1930, 2011,\n",
       "       1925, 1948, 1943, 1947, 1945, 1923, 2020, 1939, 1926, 1938, 2030,\n",
       "       1911, 1904, 1949, 1932, 1928, 1929, 1927, 1931, 1914, 2050, 1934,\n",
       "       1910, 1933, 1902, 1924, 1921, 1900, 2038, 2026, 1944, 1917, 1901,\n",
       "       2010, 1908, 1906, 1935, 1806, 2021, '2000', '1995', '1999', '2004',\n",
       "       '2003', '1990', '1994', '1986', '1989', '2002', '1981', '1993',\n",
       "       '1983', '1982', '1976', '1991', '1977', '1998', '1992', '1996',\n",
       "       '0', '1997', '2001', '1974', '1968', '1987', '1984', '1988',\n",
       "       '1963', '1956', '1970', '1985', '1978', '1973', '1980', '1979',\n",
       "       '1975', '1969', '1961', '1965', '1939', '1958', '1950', '1953',\n",
       "       '1966', '1971', '1959', '1972', '1955', '1957', '1945', '1960',\n",
       "       '1967', '1932', '1924', '1964', '2012', '1911', '1927', '1948',\n",
       "       '1962', '2006', '1952', '1940', '1951', '1931', '1954', '2005',\n",
       "       '1930', '1941', '1944', 'DK Publishing Inc', '1943', '1938',\n",
       "       '1900', '1942', '1923', '1920', '1933', 'Gallimard', '1909',\n",
       "       '1946', '2008', '1378', '2030', '1936', '1947', '2011', '2020',\n",
       "       '1919', '1949', '1922', '1897', '2024', '1376', '1926', '2037'],\n",
       "      dtype=object)"
      ]
     },
     "execution_count": 16,
     "metadata": {},
     "output_type": "execute_result"
    }
   ],
   "source": [
    "#inspecting the value in year of publication\n",
    "books['Year-Of-Publication'].unique()"
   ]
  },
  {
   "cell_type": "markdown",
   "id": "10d87115",
   "metadata": {},
   "source": [
    "here is some wrong inputs are added like \"0\",\"2030\",\"2050\",\"2026\",\"2038\",\"DK Publishing Inc\",\"Gallimard\",\"1376\",\"2037\""
   ]
  },
  {
   "cell_type": "code",
   "execution_count": 17,
   "id": "08500131",
   "metadata": {},
   "outputs": [
    {
     "data": {
      "text/html": [
       "<div>\n",
       "<style scoped>\n",
       "    .dataframe tbody tr th:only-of-type {\n",
       "        vertical-align: middle;\n",
       "    }\n",
       "\n",
       "    .dataframe tbody tr th {\n",
       "        vertical-align: top;\n",
       "    }\n",
       "\n",
       "    .dataframe thead th {\n",
       "        text-align: right;\n",
       "    }\n",
       "</style>\n",
       "<table border=\"1\" class=\"dataframe\">\n",
       "  <thead>\n",
       "    <tr style=\"text-align: right;\">\n",
       "      <th></th>\n",
       "      <th>ISBN</th>\n",
       "      <th>Book-Title</th>\n",
       "      <th>Book-Author</th>\n",
       "      <th>Year-Of-Publication</th>\n",
       "      <th>Publisher</th>\n",
       "      <th>Image-URL-S</th>\n",
       "      <th>Image-URL-M</th>\n",
       "      <th>Image-URL-L</th>\n",
       "    </tr>\n",
       "  </thead>\n",
       "  <tbody>\n",
       "    <tr>\n",
       "      <th>209538</th>\n",
       "      <td>078946697X</td>\n",
       "      <td>DK Readers: Creating the X-Men, How It All Beg...</td>\n",
       "      <td>2000</td>\n",
       "      <td>DK Publishing Inc</td>\n",
       "      <td>http://images.amazon.com/images/P/078946697X.0...</td>\n",
       "      <td>http://images.amazon.com/images/P/078946697X.0...</td>\n",
       "      <td>http://images.amazon.com/images/P/078946697X.0...</td>\n",
       "      <td>NaN</td>\n",
       "    </tr>\n",
       "    <tr>\n",
       "      <th>221678</th>\n",
       "      <td>0789466953</td>\n",
       "      <td>DK Readers: Creating the X-Men, How Comic Book...</td>\n",
       "      <td>2000</td>\n",
       "      <td>DK Publishing Inc</td>\n",
       "      <td>http://images.amazon.com/images/P/0789466953.0...</td>\n",
       "      <td>http://images.amazon.com/images/P/0789466953.0...</td>\n",
       "      <td>http://images.amazon.com/images/P/0789466953.0...</td>\n",
       "      <td>NaN</td>\n",
       "    </tr>\n",
       "  </tbody>\n",
       "</table>\n",
       "</div>"
      ],
      "text/plain": [
       "              ISBN                                         Book-Title  \\\n",
       "209538  078946697X  DK Readers: Creating the X-Men, How It All Beg...   \n",
       "221678  0789466953  DK Readers: Creating the X-Men, How Comic Book...   \n",
       "\n",
       "       Book-Author Year-Of-Publication  \\\n",
       "209538        2000   DK Publishing Inc   \n",
       "221678        2000   DK Publishing Inc   \n",
       "\n",
       "                                                Publisher  \\\n",
       "209538  http://images.amazon.com/images/P/078946697X.0...   \n",
       "221678  http://images.amazon.com/images/P/0789466953.0...   \n",
       "\n",
       "                                              Image-URL-S  \\\n",
       "209538  http://images.amazon.com/images/P/078946697X.0...   \n",
       "221678  http://images.amazon.com/images/P/0789466953.0...   \n",
       "\n",
       "                                              Image-URL-M Image-URL-L  \n",
       "209538  http://images.amazon.com/images/P/078946697X.0...         NaN  \n",
       "221678  http://images.amazon.com/images/P/0789466953.0...         NaN  "
      ]
     },
     "execution_count": 17,
     "metadata": {},
     "output_type": "execute_result"
    }
   ],
   "source": [
    "#correcting this year\n",
    "books[books[\"Year-Of-Publication\"]==\"DK Publishing Inc\"]"
   ]
  },
  {
   "cell_type": "code",
   "execution_count": 18,
   "id": "607ea507",
   "metadata": {},
   "outputs": [],
   "source": [
    "#078946697X\n",
    "books.loc[books.ISBN=='078946697X',\"Book-Title\"]=\"DK Readers: Creating the X-Men, How It All Began (Level 4: Proficient Readers)\"\n",
    "books.loc[books.ISBN=='078946697X',\"Book-Author\"]='Michael Teitelbaum'\n",
    "books.loc[books.ISBN=='078946697X',\"Year-Of-Publication\"]=2000\n",
    "books.loc[books.ISBN=='078946697X',\"Publisher\"]='DK Publishing Inc'\n",
    "\n",
    "#0789466953\n",
    "books.loc[books.ISBN=='0789466953',\"Book-Title\"]=\"DK Readers: Creating the X-Men, How Comic Books Come to Life (Level 4: Proficient Readers)\"\n",
    "books.loc[books.ISBN=='0789466953',\"Book-Author\"]=\"James Buckley\"\n",
    "books.loc[books.ISBN=='0789466953',\"Year-Of-Publication\"]=2000\n",
    "books.loc[books.ISBN=='0789466953',\"Publisher\"]=\"DK Publishing Inc\""
   ]
  },
  {
   "cell_type": "code",
   "execution_count": 19,
   "id": "49239176",
   "metadata": {},
   "outputs": [
    {
     "data": {
      "text/html": [
       "<div>\n",
       "<style scoped>\n",
       "    .dataframe tbody tr th:only-of-type {\n",
       "        vertical-align: middle;\n",
       "    }\n",
       "\n",
       "    .dataframe tbody tr th {\n",
       "        vertical-align: top;\n",
       "    }\n",
       "\n",
       "    .dataframe thead th {\n",
       "        text-align: right;\n",
       "    }\n",
       "</style>\n",
       "<table border=\"1\" class=\"dataframe\">\n",
       "  <thead>\n",
       "    <tr style=\"text-align: right;\">\n",
       "      <th></th>\n",
       "      <th>ISBN</th>\n",
       "      <th>Book-Title</th>\n",
       "      <th>Book-Author</th>\n",
       "      <th>Year-Of-Publication</th>\n",
       "      <th>Publisher</th>\n",
       "      <th>Image-URL-S</th>\n",
       "      <th>Image-URL-M</th>\n",
       "      <th>Image-URL-L</th>\n",
       "    </tr>\n",
       "  </thead>\n",
       "  <tbody>\n",
       "    <tr>\n",
       "      <th>220731</th>\n",
       "      <td>2070426769</td>\n",
       "      <td>Peuple du ciel, suivi de 'Les Bergers\\\";Jean-M...</td>\n",
       "      <td>2003</td>\n",
       "      <td>Gallimard</td>\n",
       "      <td>http://images.amazon.com/images/P/2070426769.0...</td>\n",
       "      <td>http://images.amazon.com/images/P/2070426769.0...</td>\n",
       "      <td>http://images.amazon.com/images/P/2070426769.0...</td>\n",
       "      <td>NaN</td>\n",
       "    </tr>\n",
       "  </tbody>\n",
       "</table>\n",
       "</div>"
      ],
      "text/plain": [
       "              ISBN                                         Book-Title  \\\n",
       "220731  2070426769  Peuple du ciel, suivi de 'Les Bergers\\\";Jean-M...   \n",
       "\n",
       "       Book-Author Year-Of-Publication  \\\n",
       "220731        2003           Gallimard   \n",
       "\n",
       "                                                Publisher  \\\n",
       "220731  http://images.amazon.com/images/P/2070426769.0...   \n",
       "\n",
       "                                              Image-URL-S  \\\n",
       "220731  http://images.amazon.com/images/P/2070426769.0...   \n",
       "\n",
       "                                              Image-URL-M Image-URL-L  \n",
       "220731  http://images.amazon.com/images/P/2070426769.0...         NaN  "
      ]
     },
     "execution_count": 19,
     "metadata": {},
     "output_type": "execute_result"
    }
   ],
   "source": [
    "#checking where year of publication is gallimard\n",
    "books[books[\"Year-Of-Publication\"]==\"Gallimard\"]"
   ]
  },
  {
   "cell_type": "code",
   "execution_count": 20,
   "id": "4d881c47",
   "metadata": {},
   "outputs": [],
   "source": [
    "#iSBN=2070426769\n",
    "books.loc[books.ISBN=='2070426769',\"Book-Title\"]=\"Peuple du ciel : suivi de Les bergers\"\n",
    "books.loc[books.ISBN=='2070426769',\"Book-Author\"]=\"Jean-Marie Gustave\"\n",
    "books.loc[books.ISBN=='2070426769',\"Year-Of-Publication\"]=2002\n",
    "books.loc[books.ISBN=='2070426769',\"Publisher\"]=\"Paris : Gallimard\""
   ]
  },
  {
   "cell_type": "code",
   "execution_count": 21,
   "id": "b0a60e65",
   "metadata": {},
   "outputs": [
    {
     "data": {
      "text/html": [
       "<div>\n",
       "<style scoped>\n",
       "    .dataframe tbody tr th:only-of-type {\n",
       "        vertical-align: middle;\n",
       "    }\n",
       "\n",
       "    .dataframe tbody tr th {\n",
       "        vertical-align: top;\n",
       "    }\n",
       "\n",
       "    .dataframe thead th {\n",
       "        text-align: right;\n",
       "    }\n",
       "</style>\n",
       "<table border=\"1\" class=\"dataframe\">\n",
       "  <thead>\n",
       "    <tr style=\"text-align: right;\">\n",
       "      <th></th>\n",
       "      <th>ISBN</th>\n",
       "      <th>Book-Title</th>\n",
       "      <th>Book-Author</th>\n",
       "      <th>Year-Of-Publication</th>\n",
       "      <th>Publisher</th>\n",
       "      <th>Image-URL-S</th>\n",
       "      <th>Image-URL-M</th>\n",
       "      <th>Image-URL-L</th>\n",
       "    </tr>\n",
       "  </thead>\n",
       "  <tbody>\n",
       "    <tr>\n",
       "      <th>209538</th>\n",
       "      <td>078946697X</td>\n",
       "      <td>DK Readers: Creating the X-Men, How It All Beg...</td>\n",
       "      <td>Michael Teitelbaum</td>\n",
       "      <td>2000</td>\n",
       "      <td>DK Publishing Inc</td>\n",
       "      <td>http://images.amazon.com/images/P/078946697X.0...</td>\n",
       "      <td>http://images.amazon.com/images/P/078946697X.0...</td>\n",
       "      <td>NaN</td>\n",
       "    </tr>\n",
       "    <tr>\n",
       "      <th>220731</th>\n",
       "      <td>2070426769</td>\n",
       "      <td>Peuple du ciel : suivi de Les bergers</td>\n",
       "      <td>Jean-Marie Gustave</td>\n",
       "      <td>2002</td>\n",
       "      <td>Paris : Gallimard</td>\n",
       "      <td>http://images.amazon.com/images/P/2070426769.0...</td>\n",
       "      <td>http://images.amazon.com/images/P/2070426769.0...</td>\n",
       "      <td>NaN</td>\n",
       "    </tr>\n",
       "    <tr>\n",
       "      <th>221678</th>\n",
       "      <td>0789466953</td>\n",
       "      <td>DK Readers: Creating the X-Men, How Comic Book...</td>\n",
       "      <td>James Buckley</td>\n",
       "      <td>2000</td>\n",
       "      <td>DK Publishing Inc</td>\n",
       "      <td>http://images.amazon.com/images/P/0789466953.0...</td>\n",
       "      <td>http://images.amazon.com/images/P/0789466953.0...</td>\n",
       "      <td>NaN</td>\n",
       "    </tr>\n",
       "  </tbody>\n",
       "</table>\n",
       "</div>"
      ],
      "text/plain": [
       "              ISBN                                         Book-Title  \\\n",
       "209538  078946697X  DK Readers: Creating the X-Men, How It All Beg...   \n",
       "220731  2070426769              Peuple du ciel : suivi de Les bergers   \n",
       "221678  0789466953  DK Readers: Creating the X-Men, How Comic Book...   \n",
       "\n",
       "               Book-Author Year-Of-Publication          Publisher  \\\n",
       "209538  Michael Teitelbaum                2000  DK Publishing Inc   \n",
       "220731  Jean-Marie Gustave                2002  Paris : Gallimard   \n",
       "221678       James Buckley                2000  DK Publishing Inc   \n",
       "\n",
       "                                              Image-URL-S  \\\n",
       "209538  http://images.amazon.com/images/P/078946697X.0...   \n",
       "220731  http://images.amazon.com/images/P/2070426769.0...   \n",
       "221678  http://images.amazon.com/images/P/0789466953.0...   \n",
       "\n",
       "                                              Image-URL-M Image-URL-L  \n",
       "209538  http://images.amazon.com/images/P/078946697X.0...         NaN  \n",
       "220731  http://images.amazon.com/images/P/2070426769.0...         NaN  \n",
       "221678  http://images.amazon.com/images/P/0789466953.0...         NaN  "
      ]
     },
     "execution_count": 21,
     "metadata": {},
     "output_type": "execute_result"
    }
   ],
   "source": [
    "#checking if the correction are in the place:\n",
    "\n",
    "books.loc[books[\"ISBN\"].isin(['078946697X','0789466953','2070426769'])]"
   ]
  },
  {
   "cell_type": "code",
   "execution_count": 22,
   "id": "9a059b1a",
   "metadata": {},
   "outputs": [],
   "source": [
    "#changing the data type of year publication\n",
    "books['Year-Of-Publication'] = books['Year-Of-Publication'].astype(int)"
   ]
  },
  {
   "cell_type": "code",
   "execution_count": 23,
   "id": "37282126",
   "metadata": {},
   "outputs": [
    {
     "data": {
      "text/html": [
       "<div>\n",
       "<style scoped>\n",
       "    .dataframe tbody tr th:only-of-type {\n",
       "        vertical-align: middle;\n",
       "    }\n",
       "\n",
       "    .dataframe tbody tr th {\n",
       "        vertical-align: top;\n",
       "    }\n",
       "\n",
       "    .dataframe thead th {\n",
       "        text-align: right;\n",
       "    }\n",
       "</style>\n",
       "<table border=\"1\" class=\"dataframe\">\n",
       "  <thead>\n",
       "    <tr style=\"text-align: right;\">\n",
       "      <th></th>\n",
       "      <th>ISBN</th>\n",
       "      <th>Book-Title</th>\n",
       "      <th>Book-Author</th>\n",
       "      <th>Year-Of-Publication</th>\n",
       "      <th>Publisher</th>\n",
       "      <th>Image-URL-S</th>\n",
       "      <th>Image-URL-M</th>\n",
       "      <th>Image-URL-L</th>\n",
       "    </tr>\n",
       "  </thead>\n",
       "  <tbody>\n",
       "    <tr>\n",
       "      <th>227531</th>\n",
       "      <td>9643112136</td>\n",
       "      <td>Dalan-i bihisht (Dastan-i Irani)</td>\n",
       "      <td>Nazi Safavi</td>\n",
       "      <td>1378</td>\n",
       "      <td>Intisharat-i Quqnus</td>\n",
       "      <td>http://images.amazon.com/images/P/9643112136.0...</td>\n",
       "      <td>http://images.amazon.com/images/P/9643112136.0...</td>\n",
       "      <td>http://images.amazon.com/images/P/9643112136.0...</td>\n",
       "    </tr>\n",
       "    <tr>\n",
       "      <th>253750</th>\n",
       "      <td>964442011X</td>\n",
       "      <td>Tasht-i khun</td>\n",
       "      <td>IsmaÂ°il Fasih</td>\n",
       "      <td>1376</td>\n",
       "      <td>Nashr-i Alburz</td>\n",
       "      <td>http://images.amazon.com/images/P/964442011X.0...</td>\n",
       "      <td>http://images.amazon.com/images/P/964442011X.0...</td>\n",
       "      <td>http://images.amazon.com/images/P/964442011X.0...</td>\n",
       "    </tr>\n",
       "  </tbody>\n",
       "</table>\n",
       "</div>"
      ],
      "text/plain": [
       "              ISBN                        Book-Title     Book-Author  \\\n",
       "227531  9643112136  Dalan-i bihisht (Dastan-i Irani)     Nazi Safavi   \n",
       "253750  964442011X                      Tasht-i khun  IsmaÂ°il Fasih   \n",
       "\n",
       "        Year-Of-Publication            Publisher  \\\n",
       "227531                 1378  Intisharat-i Quqnus   \n",
       "253750                 1376       Nashr-i Alburz   \n",
       "\n",
       "                                              Image-URL-S  \\\n",
       "227531  http://images.amazon.com/images/P/9643112136.0...   \n",
       "253750  http://images.amazon.com/images/P/964442011X.0...   \n",
       "\n",
       "                                              Image-URL-M  \\\n",
       "227531  http://images.amazon.com/images/P/9643112136.0...   \n",
       "253750  http://images.amazon.com/images/P/964442011X.0...   \n",
       "\n",
       "                                              Image-URL-L  \n",
       "227531  http://images.amazon.com/images/P/9643112136.0...  \n",
       "253750  http://images.amazon.com/images/P/964442011X.0...  "
      ]
     },
     "execution_count": 23,
     "metadata": {},
     "output_type": "execute_result"
    }
   ],
   "source": [
    "#something is out of publicaton periods we will find that \n",
    "books[(books[\"Year-Of-Publication\"]>0) & (books[\"Year-Of-Publication\"]<1800)]"
   ]
  },
  {
   "cell_type": "code",
   "execution_count": 24,
   "id": "b6de8f30",
   "metadata": {},
   "outputs": [],
   "source": [
    "#iSBN=9643112136\n",
    "books.loc[books.ISBN=='9643112136',\"Year-Of-Publication\"]=2010\n",
    "#iSBN=964442011X\n",
    "books.loc[books.ISBN=='964442011X',\"Year-Of-Publication\"]=1991"
   ]
  },
  {
   "cell_type": "code",
   "execution_count": 25,
   "id": "896a8b3f",
   "metadata": {},
   "outputs": [
    {
     "data": {
      "text/html": [
       "<div>\n",
       "<style scoped>\n",
       "    .dataframe tbody tr th:only-of-type {\n",
       "        vertical-align: middle;\n",
       "    }\n",
       "\n",
       "    .dataframe tbody tr th {\n",
       "        vertical-align: top;\n",
       "    }\n",
       "\n",
       "    .dataframe thead th {\n",
       "        text-align: right;\n",
       "    }\n",
       "</style>\n",
       "<table border=\"1\" class=\"dataframe\">\n",
       "  <thead>\n",
       "    <tr style=\"text-align: right;\">\n",
       "      <th></th>\n",
       "      <th>ISBN</th>\n",
       "      <th>Book-Title</th>\n",
       "      <th>Book-Author</th>\n",
       "      <th>Year-Of-Publication</th>\n",
       "      <th>Publisher</th>\n",
       "      <th>Image-URL-S</th>\n",
       "      <th>Image-URL-M</th>\n",
       "      <th>Image-URL-L</th>\n",
       "    </tr>\n",
       "  </thead>\n",
       "  <tbody>\n",
       "    <tr>\n",
       "      <th>176</th>\n",
       "      <td>3150000335</td>\n",
       "      <td>Kabale Und Liebe</td>\n",
       "      <td>Schiller</td>\n",
       "      <td>0</td>\n",
       "      <td>Philipp Reclam, Jun Verlag GmbH</td>\n",
       "      <td>http://images.amazon.com/images/P/3150000335.0...</td>\n",
       "      <td>http://images.amazon.com/images/P/3150000335.0...</td>\n",
       "      <td>http://images.amazon.com/images/P/3150000335.0...</td>\n",
       "    </tr>\n",
       "    <tr>\n",
       "      <th>188</th>\n",
       "      <td>342311360X</td>\n",
       "      <td>Die Liebe in Den Zelten</td>\n",
       "      <td>Gabriel Garcia Marquez</td>\n",
       "      <td>0</td>\n",
       "      <td>Deutscher Taschenbuch Verlag (DTV)</td>\n",
       "      <td>http://images.amazon.com/images/P/342311360X.0...</td>\n",
       "      <td>http://images.amazon.com/images/P/342311360X.0...</td>\n",
       "      <td>http://images.amazon.com/images/P/342311360X.0...</td>\n",
       "    </tr>\n",
       "    <tr>\n",
       "      <th>288</th>\n",
       "      <td>0571197639</td>\n",
       "      <td>Poisonwood Bible Edition Uk</td>\n",
       "      <td>Barbara Kingsolver</td>\n",
       "      <td>0</td>\n",
       "      <td>Faber Faber Inc</td>\n",
       "      <td>http://images.amazon.com/images/P/0571197639.0...</td>\n",
       "      <td>http://images.amazon.com/images/P/0571197639.0...</td>\n",
       "      <td>http://images.amazon.com/images/P/0571197639.0...</td>\n",
       "    </tr>\n",
       "    <tr>\n",
       "      <th>351</th>\n",
       "      <td>3596214629</td>\n",
       "      <td>Herr Der Fliegen (Fiction, Poetry and Drama)</td>\n",
       "      <td>Golding</td>\n",
       "      <td>0</td>\n",
       "      <td>Fischer Taschenbuch Verlag GmbH</td>\n",
       "      <td>http://images.amazon.com/images/P/3596214629.0...</td>\n",
       "      <td>http://images.amazon.com/images/P/3596214629.0...</td>\n",
       "      <td>http://images.amazon.com/images/P/3596214629.0...</td>\n",
       "    </tr>\n",
       "    <tr>\n",
       "      <th>542</th>\n",
       "      <td>8845229041</td>\n",
       "      <td>Biblioteca Universale Rizzoli: Sulla Sponda De...</td>\n",
       "      <td>P Coelho</td>\n",
       "      <td>0</td>\n",
       "      <td>Fabbri - RCS Libri</td>\n",
       "      <td>http://images.amazon.com/images/P/8845229041.0...</td>\n",
       "      <td>http://images.amazon.com/images/P/8845229041.0...</td>\n",
       "      <td>http://images.amazon.com/images/P/8845229041.0...</td>\n",
       "    </tr>\n",
       "    <tr>\n",
       "      <th>...</th>\n",
       "      <td>...</td>\n",
       "      <td>...</td>\n",
       "      <td>...</td>\n",
       "      <td>...</td>\n",
       "      <td>...</td>\n",
       "      <td>...</td>\n",
       "      <td>...</td>\n",
       "      <td>...</td>\n",
       "    </tr>\n",
       "    <tr>\n",
       "      <th>270794</th>\n",
       "      <td>014029953X</td>\n",
       "      <td>Foe (Essential.penguin S.)</td>\n",
       "      <td>J.M. Coetzee</td>\n",
       "      <td>0</td>\n",
       "      <td>Penguin Books Ltd</td>\n",
       "      <td>http://images.amazon.com/images/P/014029953X.0...</td>\n",
       "      <td>http://images.amazon.com/images/P/014029953X.0...</td>\n",
       "      <td>http://images.amazon.com/images/P/014029953X.0...</td>\n",
       "    </tr>\n",
       "    <tr>\n",
       "      <th>270913</th>\n",
       "      <td>0340571187</td>\n",
       "      <td>Postmens House</td>\n",
       "      <td>Maggie Hemingway</td>\n",
       "      <td>0</td>\n",
       "      <td>Trafalgar Square</td>\n",
       "      <td>http://images.amazon.com/images/P/0340571187.0...</td>\n",
       "      <td>http://images.amazon.com/images/P/0340571187.0...</td>\n",
       "      <td>http://images.amazon.com/images/P/0340571187.0...</td>\n",
       "    </tr>\n",
       "    <tr>\n",
       "      <th>271094</th>\n",
       "      <td>8427201079</td>\n",
       "      <td>El Misterio De Sittaford</td>\n",
       "      <td>Agatha Christie</td>\n",
       "      <td>0</td>\n",
       "      <td>Editorial Molino</td>\n",
       "      <td>http://images.amazon.com/images/P/8427201079.0...</td>\n",
       "      <td>http://images.amazon.com/images/P/8427201079.0...</td>\n",
       "      <td>http://images.amazon.com/images/P/8427201079.0...</td>\n",
       "    </tr>\n",
       "    <tr>\n",
       "      <th>271182</th>\n",
       "      <td>0887781721</td>\n",
       "      <td>Tom Penny</td>\n",
       "      <td>Tony German</td>\n",
       "      <td>0</td>\n",
       "      <td>P. Martin Associates</td>\n",
       "      <td>http://images.amazon.com/images/P/0887781721.0...</td>\n",
       "      <td>http://images.amazon.com/images/P/0887781721.0...</td>\n",
       "      <td>http://images.amazon.com/images/P/0887781721.0...</td>\n",
       "    </tr>\n",
       "    <tr>\n",
       "      <th>271196</th>\n",
       "      <td>3150013763</td>\n",
       "      <td>Der Hofmeister</td>\n",
       "      <td>Jakob Lenz</td>\n",
       "      <td>0</td>\n",
       "      <td>Philipp Reclam, Jun Verlag GmbH</td>\n",
       "      <td>http://images.amazon.com/images/P/3150013763.0...</td>\n",
       "      <td>http://images.amazon.com/images/P/3150013763.0...</td>\n",
       "      <td>http://images.amazon.com/images/P/3150013763.0...</td>\n",
       "    </tr>\n",
       "  </tbody>\n",
       "</table>\n",
       "<p>4631 rows × 8 columns</p>\n",
       "</div>"
      ],
      "text/plain": [
       "              ISBN                                         Book-Title  \\\n",
       "176     3150000335                                   Kabale Und Liebe   \n",
       "188     342311360X                            Die Liebe in Den Zelten   \n",
       "288     0571197639                        Poisonwood Bible Edition Uk   \n",
       "351     3596214629       Herr Der Fliegen (Fiction, Poetry and Drama)   \n",
       "542     8845229041  Biblioteca Universale Rizzoli: Sulla Sponda De...   \n",
       "...            ...                                                ...   \n",
       "270794  014029953X                         Foe (Essential.penguin S.)   \n",
       "270913  0340571187                                     Postmens House   \n",
       "271094  8427201079                           El Misterio De Sittaford   \n",
       "271182  0887781721                                          Tom Penny   \n",
       "271196  3150013763                                     Der Hofmeister   \n",
       "\n",
       "                   Book-Author  Year-Of-Publication  \\\n",
       "176                   Schiller                    0   \n",
       "188     Gabriel Garcia Marquez                    0   \n",
       "288         Barbara Kingsolver                    0   \n",
       "351                    Golding                    0   \n",
       "542                   P Coelho                    0   \n",
       "...                        ...                  ...   \n",
       "270794            J.M. Coetzee                    0   \n",
       "270913        Maggie Hemingway                    0   \n",
       "271094         Agatha Christie                    0   \n",
       "271182             Tony German                    0   \n",
       "271196              Jakob Lenz                    0   \n",
       "\n",
       "                                 Publisher  \\\n",
       "176        Philipp Reclam, Jun Verlag GmbH   \n",
       "188     Deutscher Taschenbuch Verlag (DTV)   \n",
       "288                        Faber Faber Inc   \n",
       "351        Fischer Taschenbuch Verlag GmbH   \n",
       "542                     Fabbri - RCS Libri   \n",
       "...                                    ...   \n",
       "270794                   Penguin Books Ltd   \n",
       "270913                    Trafalgar Square   \n",
       "271094                    Editorial Molino   \n",
       "271182                P. Martin Associates   \n",
       "271196     Philipp Reclam, Jun Verlag GmbH   \n",
       "\n",
       "                                              Image-URL-S  \\\n",
       "176     http://images.amazon.com/images/P/3150000335.0...   \n",
       "188     http://images.amazon.com/images/P/342311360X.0...   \n",
       "288     http://images.amazon.com/images/P/0571197639.0...   \n",
       "351     http://images.amazon.com/images/P/3596214629.0...   \n",
       "542     http://images.amazon.com/images/P/8845229041.0...   \n",
       "...                                                   ...   \n",
       "270794  http://images.amazon.com/images/P/014029953X.0...   \n",
       "270913  http://images.amazon.com/images/P/0340571187.0...   \n",
       "271094  http://images.amazon.com/images/P/8427201079.0...   \n",
       "271182  http://images.amazon.com/images/P/0887781721.0...   \n",
       "271196  http://images.amazon.com/images/P/3150013763.0...   \n",
       "\n",
       "                                              Image-URL-M  \\\n",
       "176     http://images.amazon.com/images/P/3150000335.0...   \n",
       "188     http://images.amazon.com/images/P/342311360X.0...   \n",
       "288     http://images.amazon.com/images/P/0571197639.0...   \n",
       "351     http://images.amazon.com/images/P/3596214629.0...   \n",
       "542     http://images.amazon.com/images/P/8845229041.0...   \n",
       "...                                                   ...   \n",
       "270794  http://images.amazon.com/images/P/014029953X.0...   \n",
       "270913  http://images.amazon.com/images/P/0340571187.0...   \n",
       "271094  http://images.amazon.com/images/P/8427201079.0...   \n",
       "271182  http://images.amazon.com/images/P/0887781721.0...   \n",
       "271196  http://images.amazon.com/images/P/3150013763.0...   \n",
       "\n",
       "                                              Image-URL-L  \n",
       "176     http://images.amazon.com/images/P/3150000335.0...  \n",
       "188     http://images.amazon.com/images/P/342311360X.0...  \n",
       "288     http://images.amazon.com/images/P/0571197639.0...  \n",
       "351     http://images.amazon.com/images/P/3596214629.0...  \n",
       "542     http://images.amazon.com/images/P/8845229041.0...  \n",
       "...                                                   ...  \n",
       "270794  http://images.amazon.com/images/P/014029953X.0...  \n",
       "270913  http://images.amazon.com/images/P/0340571187.0...  \n",
       "271094  http://images.amazon.com/images/P/8427201079.0...  \n",
       "271182  http://images.amazon.com/images/P/0887781721.0...  \n",
       "271196  http://images.amazon.com/images/P/3150013763.0...  \n",
       "\n",
       "[4631 rows x 8 columns]"
      ]
     },
     "execution_count": 25,
     "metadata": {},
     "output_type": "execute_result"
    }
   ],
   "source": [
    "#let check for the year of publication after 2022\n",
    "books.loc[(books['Year-Of-Publication'] > 2022) | (books['Year-Of-Publication'] == 0)]"
   ]
  },
  {
   "cell_type": "markdown",
   "id": "0bb794ac",
   "metadata": {},
   "source": [
    "there are 4621 rows which has year of publication is 0 or greater than 2022 for such huge amount of data we cant put all the exact correct values in the dataset so that we will replace all such incorrect year of publication with \"median\" values"
   ]
  },
  {
   "cell_type": "code",
   "execution_count": 26,
   "id": "04e6bea8",
   "metadata": {},
   "outputs": [],
   "source": [
    "#and we will replace NAN values with median value of year of publication\n",
    "books['Year-Of-Publication'].fillna(books['Year-Of-Publication'].median(), inplace=True)"
   ]
  },
  {
   "cell_type": "code",
   "execution_count": 27,
   "id": "13789c9a",
   "metadata": {},
   "outputs": [
    {
     "data": {
      "text/plain": [
       "Agatha Christie         632\n",
       "William Shakespeare     567\n",
       "Stephen King            524\n",
       "Ann M. Martin           423\n",
       "Carolyn Keene           373\n",
       "                       ... \n",
       "R. Gelman                 1\n",
       "Ellery R. Sheets          1\n",
       "Artiste C. Arthur         1\n",
       "Emily Pearl Kingsley      1\n",
       "Christopher  Biffle       1\n",
       "Name: Book-Author, Length: 102023, dtype: int64"
      ]
     },
     "execution_count": 27,
     "metadata": {},
     "output_type": "execute_result"
    }
   ],
   "source": [
    "books[\"Book-Author\"].value_counts()"
   ]
  },
  {
   "cell_type": "code",
   "execution_count": 28,
   "id": "55c74dac",
   "metadata": {},
   "outputs": [
    {
     "data": {
      "image/png": "[encoded data removed]",
      "text/plain": [
       "<Figure size 640x480 with 1 Axes>"
      ]
     },
     "metadata": {},
     "output_type": "display_data"
    }
   ],
   "source": [
    "#Top 10 writers in terms of number of books published\n",
    "popular_authors=books.groupby('Book-Author')['Book-Title'].count().nlargest(10)\n",
    "sns.barplot(x=popular_authors.values,y=popular_authors.index,palette='Paired')\n",
    "plt.title('Top ten writers in terms of number of books published')\n",
    "plt.show()"
   ]
  },
  {
   "cell_type": "code",
   "execution_count": 29,
   "id": "3fb812a1",
   "metadata": {},
   "outputs": [
    {
     "data": {
      "text/plain": [
       "Harlequin                  7535\n",
       "Silhouette                 4220\n",
       "Pocket                     3905\n",
       "Ballantine Books           3783\n",
       "Bantam Books               3646\n",
       "                           ... \n",
       "Hannover House                1\n",
       "Amber Quill Press, LLC.       1\n",
       "Lunchbox Press                1\n",
       "Ugly Town                     1\n",
       "Connaught                     1\n",
       "Name: Publisher, Length: 16807, dtype: int64"
      ]
     },
     "execution_count": 29,
     "metadata": {},
     "output_type": "execute_result"
    }
   ],
   "source": [
    "books[\"Publisher\"].value_counts()"
   ]
  },
  {
   "cell_type": "code",
   "execution_count": 30,
   "id": "352d696e",
   "metadata": {},
   "outputs": [
    {
     "data": {
      "text/plain": [
       "<function matplotlib.pyplot.show(close=None, block=None)>"
      ]
     },
     "execution_count": 30,
     "metadata": {},
     "output_type": "execute_result"
    },
    {
     "data": {
      "image/png": "[encoded data removed]",
      "text/plain": [
       "<Figure size 640x480 with 1 Axes>"
      ]
     },
     "metadata": {},
     "output_type": "display_data"
    }
   ],
   "source": [
    "#Companies with the most number of books published\n",
    "popular_publishers=books.groupby('Publisher')['Book-Title'].count().nlargest(10)\n",
    "sns.barplot(x=popular_publishers.values,y=popular_publishers.index,palette='Paired')\n",
    "plt.title('Top ten publishers in terms of number of books published')\n",
    "plt.show"
   ]
  },
  {
   "cell_type": "code",
   "execution_count": 31,
   "id": "800a06a5",
   "metadata": {},
   "outputs": [
    {
     "data": {
      "text/plain": [
       "0"
      ]
     },
     "execution_count": 31,
     "metadata": {},
     "output_type": "execute_result"
    }
   ],
   "source": [
    "#inspecting the missing values in publisher columns\n",
    "books[\"Publisher\"].isnull().sum()"
   ]
  },
  {
   "cell_type": "code",
   "execution_count": 32,
   "id": "06e909f1",
   "metadata": {},
   "outputs": [],
   "source": [
    "#uppercasing the ISBN Numebers\n",
    "books[\"ISBN\"]=books[\"ISBN\"].str.upper()"
   ]
  },
  {
   "cell_type": "markdown",
   "id": "5f835d82",
   "metadata": {},
   "source": [
    "though book and author is same we have different ISBN number assigned to it because of their revised edition"
   ]
  },
  {
   "cell_type": "code",
   "execution_count": 33,
   "id": "50458e80",
   "metadata": {},
   "outputs": [
    {
     "data": {
      "text/html": [
       "<div>\n",
       "<style scoped>\n",
       "    .dataframe tbody tr th:only-of-type {\n",
       "        vertical-align: middle;\n",
       "    }\n",
       "\n",
       "    .dataframe tbody tr th {\n",
       "        vertical-align: top;\n",
       "    }\n",
       "\n",
       "    .dataframe thead th {\n",
       "        text-align: right;\n",
       "    }\n",
       "</style>\n",
       "<table border=\"1\" class=\"dataframe\">\n",
       "  <thead>\n",
       "    <tr style=\"text-align: right;\">\n",
       "      <th></th>\n",
       "      <th>ISBN</th>\n",
       "      <th>Book-Title</th>\n",
       "      <th>Book-Author</th>\n",
       "      <th>Year-Of-Publication</th>\n",
       "      <th>Publisher</th>\n",
       "      <th>Image-URL-S</th>\n",
       "      <th>Image-URL-M</th>\n",
       "      <th>Image-URL-L</th>\n",
       "    </tr>\n",
       "  </thead>\n",
       "  <tbody>\n",
       "    <tr>\n",
       "      <th>6635</th>\n",
       "      <td>002542730X</td>\n",
       "      <td>Politically Correct Bedtime Stories: Modern Ta...</td>\n",
       "      <td>James Finn Garner</td>\n",
       "      <td>1994</td>\n",
       "      <td>John Wiley &amp;amp; Sons Inc</td>\n",
       "      <td>http://images.amazon.com/images/P/002542730X.0...</td>\n",
       "      <td>http://images.amazon.com/images/P/002542730X.0...</td>\n",
       "      <td>http://images.amazon.com/images/P/002542730X.0...</td>\n",
       "    </tr>\n",
       "    <tr>\n",
       "      <th>11925</th>\n",
       "      <td>014062080X</td>\n",
       "      <td>The Scarlet Letter (Penguin Popular Classics)</td>\n",
       "      <td>Nathaniel Hawthorne</td>\n",
       "      <td>1994</td>\n",
       "      <td>Penguin Books Ltd</td>\n",
       "      <td>http://images.amazon.com/images/P/014062080X.0...</td>\n",
       "      <td>http://images.amazon.com/images/P/014062080X.0...</td>\n",
       "      <td>http://images.amazon.com/images/P/014062080X.0...</td>\n",
       "    </tr>\n",
       "    <tr>\n",
       "      <th>16298</th>\n",
       "      <td>097089726X</td>\n",
       "      <td>Jasper</td>\n",
       "      <td>Michelle Groce</td>\n",
       "      <td>2003</td>\n",
       "      <td>Novello Festival Press</td>\n",
       "      <td>http://images.amazon.com/images/P/097089726X.0...</td>\n",
       "      <td>http://images.amazon.com/images/P/097089726X.0...</td>\n",
       "      <td>http://images.amazon.com/images/P/097089726X.0...</td>\n",
       "    </tr>\n",
       "    <tr>\n",
       "      <th>19266</th>\n",
       "      <td>039592720X</td>\n",
       "      <td>Interpreter of Maladies</td>\n",
       "      <td>Jhumpa Lahiri</td>\n",
       "      <td>1999</td>\n",
       "      <td>Houghton Mifflin Co</td>\n",
       "      <td>http://images.amazon.com/images/P/039592720X.0...</td>\n",
       "      <td>http://images.amazon.com/images/P/039592720X.0...</td>\n",
       "      <td>http://images.amazon.com/images/P/039592720X.0...</td>\n",
       "    </tr>\n",
       "    <tr>\n",
       "      <th>22339</th>\n",
       "      <td>042512164X</td>\n",
       "      <td>Capital Crimes</td>\n",
       "      <td>Lawrence Sanders</td>\n",
       "      <td>2000</td>\n",
       "      <td>Berkley Publishing Group</td>\n",
       "      <td>http://images.amazon.com/images/P/042512164X.0...</td>\n",
       "      <td>http://images.amazon.com/images/P/042512164X.0...</td>\n",
       "      <td>http://images.amazon.com/images/P/042512164X.0...</td>\n",
       "    </tr>\n",
       "    <tr>\n",
       "      <th>...</th>\n",
       "      <td>...</td>\n",
       "      <td>...</td>\n",
       "      <td>...</td>\n",
       "      <td>...</td>\n",
       "      <td>...</td>\n",
       "      <td>...</td>\n",
       "      <td>...</td>\n",
       "      <td>...</td>\n",
       "    </tr>\n",
       "    <tr>\n",
       "      <th>267020</th>\n",
       "      <td>088404632X</td>\n",
       "      <td>Dianetics: The Modern Science of Mental Health</td>\n",
       "      <td>L. Ron Hubbard</td>\n",
       "      <td>1995</td>\n",
       "      <td>Bridge Publications (CA)</td>\n",
       "      <td>http://images.amazon.com/images/P/088404632X.0...</td>\n",
       "      <td>http://images.amazon.com/images/P/088404632X.0...</td>\n",
       "      <td>http://images.amazon.com/images/P/088404632X.0...</td>\n",
       "    </tr>\n",
       "    <tr>\n",
       "      <th>269297</th>\n",
       "      <td>055215038X</td>\n",
       "      <td>The Sleeper</td>\n",
       "      <td>Gillian White</td>\n",
       "      <td>2003</td>\n",
       "      <td>Corgi Books</td>\n",
       "      <td>http://images.amazon.com/images/P/055215038X.0...</td>\n",
       "      <td>http://images.amazon.com/images/P/055215038X.0...</td>\n",
       "      <td>http://images.amazon.com/images/P/055215038X.0...</td>\n",
       "    </tr>\n",
       "    <tr>\n",
       "      <th>269552</th>\n",
       "      <td>037376099X</td>\n",
       "      <td>Patient Nurse  (Man Of The Month) (Harlequin D...</td>\n",
       "      <td>Diana Palmer</td>\n",
       "      <td>1997</td>\n",
       "      <td>Silhouette</td>\n",
       "      <td>http://images.amazon.com/images/P/037376099X.0...</td>\n",
       "      <td>http://images.amazon.com/images/P/037376099X.0...</td>\n",
       "      <td>http://images.amazon.com/images/P/037376099X.0...</td>\n",
       "    </tr>\n",
       "    <tr>\n",
       "      <th>270285</th>\n",
       "      <td>189481505X</td>\n",
       "      <td>I-O</td>\n",
       "      <td>Simon Logan</td>\n",
       "      <td>2002</td>\n",
       "      <td>Prime (OH)</td>\n",
       "      <td>http://images.amazon.com/images/P/189481505X.0...</td>\n",
       "      <td>http://images.amazon.com/images/P/189481505X.0...</td>\n",
       "      <td>http://images.amazon.com/images/P/189481505X.0...</td>\n",
       "    </tr>\n",
       "    <tr>\n",
       "      <th>270483</th>\n",
       "      <td>039304632X</td>\n",
       "      <td>The Voyage of the Narwhal</td>\n",
       "      <td>Andrea Barrett</td>\n",
       "      <td>1998</td>\n",
       "      <td>W W Norton &amp;amp; Co Inc</td>\n",
       "      <td>http://images.amazon.com/images/P/039304632X.0...</td>\n",
       "      <td>http://images.amazon.com/images/P/039304632X.0...</td>\n",
       "      <td>http://images.amazon.com/images/P/039304632X.0...</td>\n",
       "    </tr>\n",
       "  </tbody>\n",
       "</table>\n",
       "<p>313 rows × 8 columns</p>\n",
       "</div>"
      ],
      "text/plain": [
       "              ISBN                                         Book-Title  \\\n",
       "6635    002542730X  Politically Correct Bedtime Stories: Modern Ta...   \n",
       "11925   014062080X      The Scarlet Letter (Penguin Popular Classics)   \n",
       "16298   097089726X                                             Jasper   \n",
       "19266   039592720X                            Interpreter of Maladies   \n",
       "22339   042512164X                                     Capital Crimes   \n",
       "...            ...                                                ...   \n",
       "267020  088404632X     Dianetics: The Modern Science of Mental Health   \n",
       "269297  055215038X                                        The Sleeper   \n",
       "269552  037376099X  Patient Nurse  (Man Of The Month) (Harlequin D...   \n",
       "270285  189481505X                                                I-O   \n",
       "270483  039304632X                          The Voyage of the Narwhal   \n",
       "\n",
       "                Book-Author  Year-Of-Publication                  Publisher  \\\n",
       "6635      James Finn Garner                 1994  John Wiley &amp; Sons Inc   \n",
       "11925   Nathaniel Hawthorne                 1994          Penguin Books Ltd   \n",
       "16298        Michelle Groce                 2003     Novello Festival Press   \n",
       "19266         Jhumpa Lahiri                 1999        Houghton Mifflin Co   \n",
       "22339      Lawrence Sanders                 2000   Berkley Publishing Group   \n",
       "...                     ...                  ...                        ...   \n",
       "267020       L. Ron Hubbard                 1995   Bridge Publications (CA)   \n",
       "269297        Gillian White                 2003                Corgi Books   \n",
       "269552         Diana Palmer                 1997                 Silhouette   \n",
       "270285          Simon Logan                 2002                 Prime (OH)   \n",
       "270483       Andrea Barrett                 1998    W W Norton &amp; Co Inc   \n",
       "\n",
       "                                              Image-URL-S  \\\n",
       "6635    http://images.amazon.com/images/P/002542730X.0...   \n",
       "11925   http://images.amazon.com/images/P/014062080X.0...   \n",
       "16298   http://images.amazon.com/images/P/097089726X.0...   \n",
       "19266   http://images.amazon.com/images/P/039592720X.0...   \n",
       "22339   http://images.amazon.com/images/P/042512164X.0...   \n",
       "...                                                   ...   \n",
       "267020  http://images.amazon.com/images/P/088404632X.0...   \n",
       "269297  http://images.amazon.com/images/P/055215038X.0...   \n",
       "269552  http://images.amazon.com/images/P/037376099X.0...   \n",
       "270285  http://images.amazon.com/images/P/189481505X.0...   \n",
       "270483  http://images.amazon.com/images/P/039304632X.0...   \n",
       "\n",
       "                                              Image-URL-M  \\\n",
       "6635    http://images.amazon.com/images/P/002542730X.0...   \n",
       "11925   http://images.amazon.com/images/P/014062080X.0...   \n",
       "16298   http://images.amazon.com/images/P/097089726X.0...   \n",
       "19266   http://images.amazon.com/images/P/039592720X.0...   \n",
       "22339   http://images.amazon.com/images/P/042512164X.0...   \n",
       "...                                                   ...   \n",
       "267020  http://images.amazon.com/images/P/088404632X.0...   \n",
       "269297  http://images.amazon.com/images/P/055215038X.0...   \n",
       "269552  http://images.amazon.com/images/P/037376099X.0...   \n",
       "270285  http://images.amazon.com/images/P/189481505X.0...   \n",
       "270483  http://images.amazon.com/images/P/039304632X.0...   \n",
       "\n",
       "                                              Image-URL-L  \n",
       "6635    http://images.amazon.com/images/P/002542730X.0...  \n",
       "11925   http://images.amazon.com/images/P/014062080X.0...  \n",
       "16298   http://images.amazon.com/images/P/097089726X.0...  \n",
       "19266   http://images.amazon.com/images/P/039592720X.0...  \n",
       "22339   http://images.amazon.com/images/P/042512164X.0...  \n",
       "...                                                   ...  \n",
       "267020  http://images.amazon.com/images/P/088404632X.0...  \n",
       "269297  http://images.amazon.com/images/P/055215038X.0...  \n",
       "269552  http://images.amazon.com/images/P/037376099X.0...  \n",
       "270285  http://images.amazon.com/images/P/189481505X.0...  \n",
       "270483  http://images.amazon.com/images/P/039304632X.0...  \n",
       "\n",
       "[313 rows x 8 columns]"
      ]
     },
     "execution_count": 33,
     "metadata": {},
     "output_type": "execute_result"
    }
   ],
   "source": [
    "#checking for the duplicateed in books in column \"book-Title\" & \"Book Author\"\n",
    "duplicate_rows=books[books.duplicated()]\n",
    "duplicate_rows"
   ]
  },
  {
   "cell_type": "code",
   "execution_count": 34,
   "id": "599475b3",
   "metadata": {},
   "outputs": [],
   "source": [
    "# now we will drop the rows whose entire column values are repeated\n",
    "books.drop_duplicates(keep=\"first\",inplace=True)\n",
    "books.reset_index(drop=True,inplace=True)"
   ]
  },
  {
   "cell_type": "code",
   "execution_count": 35,
   "id": "f72d23d3",
   "metadata": {},
   "outputs": [],
   "source": [
    "books['Book-Title'] = books['Book-Title'].str.replace('!', '')\n",
    "books['Book-Title'] = books['Book-Title'].str.replace('@', '')\n",
    "books['Book-Title'] = books['Book-Title'].str.replace('#', '')\n",
    "books['Book-Title'] = books['Book-Title'].str.replace('$', '')\n",
    "books['Book-Title'] = books['Book-Title'].str.replace('%', '')\n",
    "books['Book-Title'] = books['Book-Title'].str.replace('^', '')\n",
    "books['Book-Title'] = books['Book-Title'].str.replace('&', '')\n",
    "books['Book-Title'] = books['Book-Title'].str.replace('*', '')\n",
    "books['Book-Title'] = books['Book-Title'].str.replace('?', '')\n",
    "books['Book-Title'] = books['Book-Title'].str.replace(';', '')\n",
    "books['Book-Title'] = books['Book-Title'].str.replace('\"', '')\n",
    "books['Book-Title'] = books['Book-Title'].str.replace('/', '')\n",
    "books['Book-Title'] = books['Book-Title'].str.replace('|', '')\n",
    "books['Book-Title'] = books['Book-Title'].str.replace('{', '')\n",
    "books['Book-Title'] = books['Book-Title'].str.replace('}', '')\n",
    "books['Book-Title'] = books['Book-Title'].str.replace('[', '')                                                \n",
    "books['Book-Title'] = books['Book-Title'].str.replace(']', '')\n",
    "books['Book-Title'] = books['Book-Title'].str.replace('+', '')\n",
    "books['Book-Title'] = books['Book-Title'].str.replace('=', '')\n",
    "books['Book-Title'] = books['Book-Title'].str.replace('~', '')"
   ]
  },
  {
   "cell_type": "code",
   "execution_count": 36,
   "id": "10def94b",
   "metadata": {},
   "outputs": [
    {
     "name": "stdout",
     "output_type": "stream",
     "text": [
      "<class 'pandas.core.frame.DataFrame'>\n",
      "RangeIndex: 271047 entries, 0 to 271046\n",
      "Data columns (total 8 columns):\n",
      " #   Column               Non-Null Count   Dtype \n",
      "---  ------               --------------   ----- \n",
      " 0   ISBN                 271047 non-null  object\n",
      " 1   Book-Title           271047 non-null  object\n",
      " 2   Book-Author          271047 non-null  object\n",
      " 3   Year-Of-Publication  271047 non-null  int32 \n",
      " 4   Publisher            271047 non-null  object\n",
      " 5   Image-URL-S          271047 non-null  object\n",
      " 6   Image-URL-M          271047 non-null  object\n",
      " 7   Image-URL-L          271044 non-null  object\n",
      "dtypes: int32(1), object(7)\n",
      "memory usage: 15.5+ MB\n"
     ]
    }
   ],
   "source": [
    "books.info()"
   ]
  },
  {
   "cell_type": "markdown",
   "id": "b9cbc68b",
   "metadata": {},
   "source": [
    "### Users data"
   ]
  },
  {
   "cell_type": "code",
   "execution_count": 37,
   "id": "ddb1d036",
   "metadata": {},
   "outputs": [
    {
     "data": {
      "text/html": [
       "<div>\n",
       "<style scoped>\n",
       "    .dataframe tbody tr th:only-of-type {\n",
       "        vertical-align: middle;\n",
       "    }\n",
       "\n",
       "    .dataframe tbody tr th {\n",
       "        vertical-align: top;\n",
       "    }\n",
       "\n",
       "    .dataframe thead th {\n",
       "        text-align: right;\n",
       "    }\n",
       "</style>\n",
       "<table border=\"1\" class=\"dataframe\">\n",
       "  <thead>\n",
       "    <tr style=\"text-align: right;\">\n",
       "      <th></th>\n",
       "      <th>User-ID</th>\n",
       "      <th>City</th>\n",
       "      <th>State</th>\n",
       "      <th>Country</th>\n",
       "      <th>Age</th>\n",
       "    </tr>\n",
       "  </thead>\n",
       "  <tbody>\n",
       "    <tr>\n",
       "      <th>0</th>\n",
       "      <td>1</td>\n",
       "      <td>nyc</td>\n",
       "      <td>new york</td>\n",
       "      <td>usa</td>\n",
       "      <td>NaN</td>\n",
       "    </tr>\n",
       "    <tr>\n",
       "      <th>1</th>\n",
       "      <td>2</td>\n",
       "      <td>stockton</td>\n",
       "      <td>california</td>\n",
       "      <td>usa</td>\n",
       "      <td>18.0</td>\n",
       "    </tr>\n",
       "    <tr>\n",
       "      <th>2</th>\n",
       "      <td>3</td>\n",
       "      <td>moscow</td>\n",
       "      <td>yukon territory</td>\n",
       "      <td>russia</td>\n",
       "      <td>NaN</td>\n",
       "    </tr>\n",
       "    <tr>\n",
       "      <th>3</th>\n",
       "      <td>4</td>\n",
       "      <td>porto</td>\n",
       "      <td>v.n.gaia</td>\n",
       "      <td>portugal</td>\n",
       "      <td>17.0</td>\n",
       "    </tr>\n",
       "    <tr>\n",
       "      <th>4</th>\n",
       "      <td>5</td>\n",
       "      <td>farnborough</td>\n",
       "      <td>hants</td>\n",
       "      <td>united kingdom</td>\n",
       "      <td>NaN</td>\n",
       "    </tr>\n",
       "  </tbody>\n",
       "</table>\n",
       "</div>"
      ],
      "text/plain": [
       "   User-ID         City             State          Country   Age\n",
       "0        1          nyc          new york              usa   NaN\n",
       "1        2     stockton        california              usa  18.0\n",
       "2        3       moscow   yukon territory           russia   NaN\n",
       "3        4        porto          v.n.gaia         portugal  17.0\n",
       "4        5  farnborough             hants   united kingdom   NaN"
      ]
     },
     "execution_count": 37,
     "metadata": {},
     "output_type": "execute_result"
    }
   ],
   "source": [
    "users.head()"
   ]
  },
  {
   "cell_type": "code",
   "execution_count": 38,
   "id": "1f1c9124",
   "metadata": {},
   "outputs": [],
   "source": [
    "users= users.drop([\"City\",\"State\"], axis=1)"
   ]
  },
  {
   "cell_type": "markdown",
   "id": "934e5062",
   "metadata": {},
   "source": [
    "#user id is anonymized and kept hidden and map to intergers,demographic data like age location age is provided if available,otherwise these fields contatin null values"
   ]
  },
  {
   "cell_type": "code",
   "execution_count": 39,
   "id": "e28e6a13",
   "metadata": {},
   "outputs": [
    {
     "data": {
      "text/html": [
       "<div>\n",
       "<style scoped>\n",
       "    .dataframe tbody tr th:only-of-type {\n",
       "        vertical-align: middle;\n",
       "    }\n",
       "\n",
       "    .dataframe tbody tr th {\n",
       "        vertical-align: top;\n",
       "    }\n",
       "\n",
       "    .dataframe thead th {\n",
       "        text-align: right;\n",
       "    }\n",
       "</style>\n",
       "<table border=\"1\" class=\"dataframe\">\n",
       "  <thead>\n",
       "    <tr style=\"text-align: right;\">\n",
       "      <th></th>\n",
       "      <th>User-ID</th>\n",
       "      <th>Country</th>\n",
       "      <th>Age</th>\n",
       "    </tr>\n",
       "  </thead>\n",
       "  <tbody>\n",
       "    <tr>\n",
       "      <th>0</th>\n",
       "      <td>1</td>\n",
       "      <td>usa</td>\n",
       "      <td>NaN</td>\n",
       "    </tr>\n",
       "    <tr>\n",
       "      <th>1</th>\n",
       "      <td>2</td>\n",
       "      <td>usa</td>\n",
       "      <td>18.0</td>\n",
       "    </tr>\n",
       "    <tr>\n",
       "      <th>2</th>\n",
       "      <td>3</td>\n",
       "      <td>russia</td>\n",
       "      <td>NaN</td>\n",
       "    </tr>\n",
       "    <tr>\n",
       "      <th>3</th>\n",
       "      <td>4</td>\n",
       "      <td>portugal</td>\n",
       "      <td>17.0</td>\n",
       "    </tr>\n",
       "    <tr>\n",
       "      <th>4</th>\n",
       "      <td>5</td>\n",
       "      <td>united kingdom</td>\n",
       "      <td>NaN</td>\n",
       "    </tr>\n",
       "    <tr>\n",
       "      <th>5</th>\n",
       "      <td>6</td>\n",
       "      <td>usa</td>\n",
       "      <td>61.0</td>\n",
       "    </tr>\n",
       "    <tr>\n",
       "      <th>6</th>\n",
       "      <td>7</td>\n",
       "      <td>usa</td>\n",
       "      <td>NaN</td>\n",
       "    </tr>\n",
       "    <tr>\n",
       "      <th>7</th>\n",
       "      <td>8</td>\n",
       "      <td>canada</td>\n",
       "      <td>NaN</td>\n",
       "    </tr>\n",
       "    <tr>\n",
       "      <th>8</th>\n",
       "      <td>9</td>\n",
       "      <td>usa</td>\n",
       "      <td>NaN</td>\n",
       "    </tr>\n",
       "    <tr>\n",
       "      <th>9</th>\n",
       "      <td>10</td>\n",
       "      <td>spain</td>\n",
       "      <td>26.0</td>\n",
       "    </tr>\n",
       "    <tr>\n",
       "      <th>278848</th>\n",
       "      <td>278849</td>\n",
       "      <td>canada</td>\n",
       "      <td>23.0</td>\n",
       "    </tr>\n",
       "    <tr>\n",
       "      <th>278849</th>\n",
       "      <td>278850</td>\n",
       "      <td>italy</td>\n",
       "      <td>NaN</td>\n",
       "    </tr>\n",
       "    <tr>\n",
       "      <th>278850</th>\n",
       "      <td>278851</td>\n",
       "      <td>usa</td>\n",
       "      <td>33.0</td>\n",
       "    </tr>\n",
       "    <tr>\n",
       "      <th>278851</th>\n",
       "      <td>278852</td>\n",
       "      <td>australia</td>\n",
       "      <td>32.0</td>\n",
       "    </tr>\n",
       "    <tr>\n",
       "      <th>278852</th>\n",
       "      <td>278853</td>\n",
       "      <td>united kingdom</td>\n",
       "      <td>17.0</td>\n",
       "    </tr>\n",
       "    <tr>\n",
       "      <th>278853</th>\n",
       "      <td>278854</td>\n",
       "      <td>usa</td>\n",
       "      <td>NaN</td>\n",
       "    </tr>\n",
       "    <tr>\n",
       "      <th>278854</th>\n",
       "      <td>278855</td>\n",
       "      <td>united kingdom</td>\n",
       "      <td>50.0</td>\n",
       "    </tr>\n",
       "    <tr>\n",
       "      <th>278855</th>\n",
       "      <td>278856</td>\n",
       "      <td>canada</td>\n",
       "      <td>NaN</td>\n",
       "    </tr>\n",
       "    <tr>\n",
       "      <th>278856</th>\n",
       "      <td>278857</td>\n",
       "      <td>usa</td>\n",
       "      <td>NaN</td>\n",
       "    </tr>\n",
       "    <tr>\n",
       "      <th>278857</th>\n",
       "      <td>278858</td>\n",
       "      <td>ireland</td>\n",
       "      <td>NaN</td>\n",
       "    </tr>\n",
       "  </tbody>\n",
       "</table>\n",
       "</div>"
      ],
      "text/plain": [
       "        User-ID          Country   Age\n",
       "0             1              usa   NaN\n",
       "1             2              usa  18.0\n",
       "2             3           russia   NaN\n",
       "3             4         portugal  17.0\n",
       "4             5   united kingdom   NaN\n",
       "5             6              usa  61.0\n",
       "6             7              usa   NaN\n",
       "7             8           canada   NaN\n",
       "8             9              usa   NaN\n",
       "9            10            spain  26.0\n",
       "278848   278849           canada  23.0\n",
       "278849   278850            italy   NaN\n",
       "278850   278851              usa  33.0\n",
       "278851   278852        australia  32.0\n",
       "278852   278853   united kingdom  17.0\n",
       "278853   278854              usa   NaN\n",
       "278854   278855   united kingdom  50.0\n",
       "278855   278856           canada   NaN\n",
       "278856   278857              usa   NaN\n",
       "278857   278858          ireland   NaN"
      ]
     },
     "execution_count": 39,
     "metadata": {},
     "output_type": "execute_result"
    }
   ],
   "source": [
    "#let see the top 10 and bottom 10 rows of dataframe\n",
    "pd.concat([users.head(10),users.tail(10)],axis=0)"
   ]
  },
  {
   "cell_type": "code",
   "execution_count": 40,
   "id": "8499d461",
   "metadata": {},
   "outputs": [
    {
     "name": "stdout",
     "output_type": "stream",
     "text": [
      "<class 'pandas.core.frame.DataFrame'>\n",
      "RangeIndex: 278858 entries, 0 to 278857\n",
      "Data columns (total 3 columns):\n",
      " #   Column   Non-Null Count   Dtype  \n",
      "---  ------   --------------   -----  \n",
      " 0   User-ID  278858 non-null  int64  \n",
      " 1   Country  274247 non-null  object \n",
      " 2   Age      168096 non-null  float64\n",
      "dtypes: float64(1), int64(1), object(1)\n",
      "memory usage: 6.4+ MB\n"
     ]
    }
   ],
   "source": [
    "#inspecting the column in the users\n",
    "users.info()"
   ]
  },
  {
   "cell_type": "code",
   "execution_count": 41,
   "id": "376f971a",
   "metadata": {},
   "outputs": [
    {
     "data": {
      "text/plain": [
       "User-ID    0.0\n",
       "Country    0.0\n",
       "Age        0.0\n",
       "dtype: float64"
      ]
     },
     "execution_count": 41,
     "metadata": {},
     "output_type": "execute_result"
    }
   ],
   "source": [
    "#let check the duplicate values in the users\n",
    "users[users.duplicated()].sum()"
   ]
  },
  {
   "cell_type": "code",
   "execution_count": 42,
   "id": "b0e9bf89",
   "metadata": {},
   "outputs": [
    {
     "name": "stdout",
     "output_type": "stream",
     "text": [
      "User-ID     0.000000\n",
      "Country     1.653530\n",
      "Age        39.719857\n",
      "dtype: float64\n"
     ]
    }
   ],
   "source": [
    "print((users.isnull().sum()/len(users))*100)"
   ]
  },
  {
   "cell_type": "code",
   "execution_count": 43,
   "id": "2d79e483",
   "metadata": {},
   "outputs": [],
   "source": [
    "#almost 40% of the age data is missing"
   ]
  },
  {
   "cell_type": "code",
   "execution_count": 44,
   "id": "a53f03c2",
   "metadata": {},
   "outputs": [
    {
     "data": {
      "text/plain": [
       "count    168096.000000\n",
       "mean         34.751434\n",
       "std          14.428097\n",
       "min           0.000000\n",
       "25%          24.000000\n",
       "50%          32.000000\n",
       "75%          44.000000\n",
       "max         244.000000\n",
       "Name: Age, dtype: float64"
      ]
     },
     "execution_count": 44,
     "metadata": {},
     "output_type": "execute_result"
    }
   ],
   "source": [
    "users[\"Age\"].describe()"
   ]
  },
  {
   "cell_type": "markdown",
   "id": "2c613f3d",
   "metadata": {},
   "source": [
    "#the maximum age in the age column is 244 which is certainly outllier"
   ]
  },
  {
   "cell_type": "code",
   "execution_count": 45,
   "id": "f4684ae0",
   "metadata": {},
   "outputs": [
    {
     "data": {
      "text/plain": [
       "<AxesSubplot:xlabel='Age'>"
      ]
     },
     "execution_count": 45,
     "metadata": {},
     "output_type": "execute_result"
    },
    {
     "data": {
      "image/png": "[encoded data removed]",
      "text/plain": [
       "<Figure size 1200x600 with 2 Axes>"
      ]
     },
     "metadata": {},
     "output_type": "display_data"
    }
   ],
   "source": [
    "#let check the distribution of age with the help of histogram and boxplot\n",
    "plt.figure(figsize=(12,6))\n",
    "plt.subplot(1,2,1)\n",
    "sns.histplot(x=\"Age\",data=users)\n",
    "\n",
    "plt.subplot(1,2,2)\n",
    "sns.boxplot(x=\"Age\",data=users)"
   ]
  },
  {
   "cell_type": "markdown",
   "id": "bff9ad95",
   "metadata": {},
   "source": [
    "It is highly unlikely to have users of age above 95 and below 4 in this case.Let's replace these values with np.nan"
   ]
  },
  {
   "cell_type": "code",
   "execution_count": 46,
   "id": "f907edaa",
   "metadata": {},
   "outputs": [],
   "source": [
    "#replacing the outliers in the age column with NaN values\n",
    "users.loc[(users[\"Age\"]<4)|(users[\"Age\"]>95),\"Age\"]=np.nan"
   ]
  },
  {
   "cell_type": "code",
   "execution_count": 47,
   "id": "6955de10",
   "metadata": {},
   "outputs": [
    {
     "name": "stdout",
     "output_type": "stream",
     "text": [
      "Number of missing values:  112001\n"
     ]
    }
   ],
   "source": [
    "#now again check the current number of missing values in age column\n",
    "print(\"Number of missing values: \",users[\"Age\"].isnull().sum())"
   ]
  },
  {
   "cell_type": "code",
   "execution_count": 48,
   "id": "236c6e73",
   "metadata": {},
   "outputs": [
    {
     "data": {
      "text/html": [
       "<div>\n",
       "<style scoped>\n",
       "    .dataframe tbody tr th:only-of-type {\n",
       "        vertical-align: middle;\n",
       "    }\n",
       "\n",
       "    .dataframe tbody tr th {\n",
       "        vertical-align: top;\n",
       "    }\n",
       "\n",
       "    .dataframe thead th {\n",
       "        text-align: right;\n",
       "    }\n",
       "</style>\n",
       "<table border=\"1\" class=\"dataframe\">\n",
       "  <thead>\n",
       "    <tr style=\"text-align: right;\">\n",
       "      <th></th>\n",
       "      <th>User-ID</th>\n",
       "      <th>Age</th>\n",
       "    </tr>\n",
       "  </thead>\n",
       "  <tbody>\n",
       "    <tr>\n",
       "      <th>count</th>\n",
       "      <td>278858.00000</td>\n",
       "      <td>166857.000000</td>\n",
       "    </tr>\n",
       "    <tr>\n",
       "      <th>mean</th>\n",
       "      <td>139429.50000</td>\n",
       "      <td>34.734222</td>\n",
       "    </tr>\n",
       "    <tr>\n",
       "      <th>std</th>\n",
       "      <td>80499.51502</td>\n",
       "      <td>13.621521</td>\n",
       "    </tr>\n",
       "    <tr>\n",
       "      <th>min</th>\n",
       "      <td>1.00000</td>\n",
       "      <td>4.000000</td>\n",
       "    </tr>\n",
       "    <tr>\n",
       "      <th>25%</th>\n",
       "      <td>69715.25000</td>\n",
       "      <td>24.000000</td>\n",
       "    </tr>\n",
       "    <tr>\n",
       "      <th>50%</th>\n",
       "      <td>139429.50000</td>\n",
       "      <td>32.000000</td>\n",
       "    </tr>\n",
       "    <tr>\n",
       "      <th>75%</th>\n",
       "      <td>209143.75000</td>\n",
       "      <td>44.000000</td>\n",
       "    </tr>\n",
       "    <tr>\n",
       "      <th>max</th>\n",
       "      <td>278858.00000</td>\n",
       "      <td>95.000000</td>\n",
       "    </tr>\n",
       "  </tbody>\n",
       "</table>\n",
       "</div>"
      ],
      "text/plain": [
       "            User-ID            Age\n",
       "count  278858.00000  166857.000000\n",
       "mean   139429.50000      34.734222\n",
       "std     80499.51502      13.621521\n",
       "min         1.00000       4.000000\n",
       "25%     69715.25000      24.000000\n",
       "50%    139429.50000      32.000000\n",
       "75%    209143.75000      44.000000\n",
       "max    278858.00000      95.000000"
      ]
     },
     "execution_count": 48,
     "metadata": {},
     "output_type": "execute_result"
    }
   ],
   "source": [
    "users.describe()"
   ]
  },
  {
   "cell_type": "code",
   "execution_count": 49,
   "id": "012b6c7a",
   "metadata": {},
   "outputs": [],
   "source": [
    "# let impute the the all NaN values with mean\n",
    "users['Age'].fillna((users['Age'].mean()), inplace=True)"
   ]
  },
  {
   "cell_type": "markdown",
   "id": "9ad1bcf4",
   "metadata": {},
   "source": [
    "##Imputing such a large amount of null values will mean/mode/median will drastically change the distribution"
   ]
  },
  {
   "cell_type": "code",
   "execution_count": 50,
   "id": "1462c862",
   "metadata": {},
   "outputs": [
    {
     "data": {
      "text/plain": [
       "count    278858.000000\n",
       "mean         34.734222\n",
       "std          10.536727\n",
       "min           4.000000\n",
       "25%          29.000000\n",
       "50%          34.734222\n",
       "75%          35.000000\n",
       "max          95.000000\n",
       "Name: Age, dtype: float64"
      ]
     },
     "execution_count": 50,
     "metadata": {},
     "output_type": "execute_result"
    }
   ],
   "source": [
    "#after imputation\n",
    "users.Age.describe()"
   ]
  },
  {
   "cell_type": "code",
   "execution_count": 51,
   "id": "0a8d790e",
   "metadata": {},
   "outputs": [
    {
     "data": {
      "text/plain": [
       "0.0"
      ]
     },
     "execution_count": 51,
     "metadata": {},
     "output_type": "execute_result"
    }
   ],
   "source": [
    "#let check with percentage of missing values in age column\n",
    "users[\"Age\"].isnull().sum()/len(users[\"Age\"])*100"
   ]
  },
  {
   "cell_type": "code",
   "execution_count": 52,
   "id": "1448049d",
   "metadata": {},
   "outputs": [],
   "source": [
    "def age_group(age):\n",
    "    #define the age group of users\n",
    "    if age<13:\n",
    "        x=\"children\"\n",
    "    elif age>=13 and age<=19:\n",
    "        x=\"teens\"\n",
    "    elif age>19 and age<40:\n",
    "        x=\"youth\"\n",
    "    elif age>=40 and age<60:\n",
    "        x=\"middle adulthood\"\n",
    "    else:\n",
    "        x=\"elder\"\n",
    "    return x"
   ]
  },
  {
   "cell_type": "code",
   "execution_count": 53,
   "id": "2573acac",
   "metadata": {},
   "outputs": [],
   "source": [
    "users[\"age_group\"]=users[\"Age\"].apply(lambda x : age_group(x))"
   ]
  },
  {
   "cell_type": "code",
   "execution_count": 54,
   "id": "2934ddec",
   "metadata": {},
   "outputs": [
    {
     "data": {
      "text/plain": [
       "<AxesSubplot:xlabel='age_group', ylabel='count'>"
      ]
     },
     "execution_count": 54,
     "metadata": {},
     "output_type": "execute_result"
    },
    {
     "data": {
      "image/png": "[encoded data removed]",
      "text/plain": [
       "<Figure size 640x480 with 1 Axes>"
      ]
     },
     "metadata": {},
     "output_type": "display_data"
    }
   ],
   "source": [
    "# let see the age distribution for the users\n",
    "sns.countplot(users[\"age_group\"],palette=\"Set2\")"
   ]
  },
  {
   "cell_type": "code",
   "execution_count": 55,
   "id": "ebfcb6bb",
   "metadata": {},
   "outputs": [
    {
     "data": {
      "text/plain": [
       "<AxesSubplot:xlabel='Age', ylabel='Density'>"
      ]
     },
     "execution_count": 55,
     "metadata": {},
     "output_type": "execute_result"
    },
    {
     "data": {
      "image/png": "[encoded data removed]",
      "text/plain": [
       "<Figure size 640x480 with 1 Axes>"
      ]
     },
     "metadata": {},
     "output_type": "display_data"
    }
   ],
   "source": [
    "#Age distribution of users\n",
    "age_df=users[users['User-ID'].isin(list(users['User-ID'].unique()))]\n",
    "sns.distplot(age_df.Age)"
   ]
  },
  {
   "cell_type": "code",
   "execution_count": 56,
   "id": "818821b8",
   "metadata": {},
   "outputs": [],
   "source": [
    "#Converting the country names to uppercase\n",
    "users['Country']=users['Country'].str.upper()"
   ]
  },
  {
   "cell_type": "code",
   "execution_count": 57,
   "id": "ded5feec",
   "metadata": {},
   "outputs": [
    {
     "data": {
      "text/html": [
       "<div>\n",
       "<style scoped>\n",
       "    .dataframe tbody tr th:only-of-type {\n",
       "        vertical-align: middle;\n",
       "    }\n",
       "\n",
       "    .dataframe tbody tr th {\n",
       "        vertical-align: top;\n",
       "    }\n",
       "\n",
       "    .dataframe thead th {\n",
       "        text-align: right;\n",
       "    }\n",
       "</style>\n",
       "<table border=\"1\" class=\"dataframe\">\n",
       "  <thead>\n",
       "    <tr style=\"text-align: right;\">\n",
       "      <th></th>\n",
       "      <th>User-ID</th>\n",
       "      <th>Country</th>\n",
       "      <th>Age</th>\n",
       "      <th>age_group</th>\n",
       "    </tr>\n",
       "  </thead>\n",
       "  <tbody>\n",
       "    <tr>\n",
       "      <th>0</th>\n",
       "      <td>1</td>\n",
       "      <td>USA</td>\n",
       "      <td>34.734222</td>\n",
       "      <td>youth</td>\n",
       "    </tr>\n",
       "    <tr>\n",
       "      <th>1</th>\n",
       "      <td>2</td>\n",
       "      <td>USA</td>\n",
       "      <td>18.000000</td>\n",
       "      <td>teens</td>\n",
       "    </tr>\n",
       "    <tr>\n",
       "      <th>2</th>\n",
       "      <td>3</td>\n",
       "      <td>RUSSIA</td>\n",
       "      <td>34.734222</td>\n",
       "      <td>youth</td>\n",
       "    </tr>\n",
       "    <tr>\n",
       "      <th>3</th>\n",
       "      <td>4</td>\n",
       "      <td>PORTUGAL</td>\n",
       "      <td>17.000000</td>\n",
       "      <td>teens</td>\n",
       "    </tr>\n",
       "    <tr>\n",
       "      <th>4</th>\n",
       "      <td>5</td>\n",
       "      <td>UNITED KINGDOM</td>\n",
       "      <td>34.734222</td>\n",
       "      <td>youth</td>\n",
       "    </tr>\n",
       "  </tbody>\n",
       "</table>\n",
       "</div>"
      ],
      "text/plain": [
       "   User-ID          Country        Age age_group\n",
       "0        1              USA  34.734222     youth\n",
       "1        2              USA  18.000000     teens\n",
       "2        3           RUSSIA  34.734222     youth\n",
       "3        4         PORTUGAL  17.000000     teens\n",
       "4        5   UNITED KINGDOM  34.734222     youth"
      ]
     },
     "execution_count": 57,
     "metadata": {},
     "output_type": "execute_result"
    }
   ],
   "source": [
    "users.head()"
   ]
  },
  {
   "cell_type": "code",
   "execution_count": 58,
   "id": "a216260a",
   "metadata": {},
   "outputs": [],
   "source": [
    "users['Country'].fillna('UNKNOWN', inplace=True)"
   ]
  },
  {
   "cell_type": "code",
   "execution_count": 59,
   "id": "3c51cfd3",
   "metadata": {},
   "outputs": [
    {
     "data": {
      "image/png": "[encoded data removed]",
      "text/plain": [
       "<Figure size 640x480 with 1 Axes>"
      ]
     },
     "metadata": {},
     "output_type": "display_data"
    }
   ],
   "source": [
    "#Countries with maximum number of users\n",
    "top10=users.groupby('Country')['User-ID'].nunique().nlargest(15)\n",
    "sns.barplot(x=top10.index,y=top10.values,palette='Paired')\n",
    "plt.xticks(rotation=90)\n",
    "plt.show()"
   ]
  },
  {
   "cell_type": "markdown",
   "id": "4d38e1dc",
   "metadata": {},
   "source": [
    "### rating data"
   ]
  },
  {
   "cell_type": "code",
   "execution_count": 60,
   "id": "0c94f189",
   "metadata": {},
   "outputs": [
    {
     "data": {
      "text/html": [
       "<div>\n",
       "<style scoped>\n",
       "    .dataframe tbody tr th:only-of-type {\n",
       "        vertical-align: middle;\n",
       "    }\n",
       "\n",
       "    .dataframe tbody tr th {\n",
       "        vertical-align: top;\n",
       "    }\n",
       "\n",
       "    .dataframe thead th {\n",
       "        text-align: right;\n",
       "    }\n",
       "</style>\n",
       "<table border=\"1\" class=\"dataframe\">\n",
       "  <thead>\n",
       "    <tr style=\"text-align: right;\">\n",
       "      <th></th>\n",
       "      <th>User-ID</th>\n",
       "      <th>ISBN</th>\n",
       "      <th>Book-Rating</th>\n",
       "    </tr>\n",
       "  </thead>\n",
       "  <tbody>\n",
       "    <tr>\n",
       "      <th>0</th>\n",
       "      <td>276725</td>\n",
       "      <td>034545104X</td>\n",
       "      <td>0</td>\n",
       "    </tr>\n",
       "    <tr>\n",
       "      <th>1</th>\n",
       "      <td>276726</td>\n",
       "      <td>0155061224</td>\n",
       "      <td>5</td>\n",
       "    </tr>\n",
       "    <tr>\n",
       "      <th>2</th>\n",
       "      <td>276727</td>\n",
       "      <td>0446520802</td>\n",
       "      <td>0</td>\n",
       "    </tr>\n",
       "    <tr>\n",
       "      <th>3</th>\n",
       "      <td>276729</td>\n",
       "      <td>052165615X</td>\n",
       "      <td>3</td>\n",
       "    </tr>\n",
       "    <tr>\n",
       "      <th>4</th>\n",
       "      <td>276729</td>\n",
       "      <td>0521795028</td>\n",
       "      <td>6</td>\n",
       "    </tr>\n",
       "  </tbody>\n",
       "</table>\n",
       "</div>"
      ],
      "text/plain": [
       "   User-ID        ISBN  Book-Rating\n",
       "0   276725  034545104X            0\n",
       "1   276726  0155061224            5\n",
       "2   276727  0446520802            0\n",
       "3   276729  052165615X            3\n",
       "4   276729  0521795028            6"
      ]
     },
     "execution_count": 60,
     "metadata": {},
     "output_type": "execute_result"
    }
   ],
   "source": [
    "ratings.head(5)"
   ]
  },
  {
   "cell_type": "code",
   "execution_count": 61,
   "id": "896c1fb3",
   "metadata": {},
   "outputs": [
    {
     "data": {
      "text/plain": [
       "(1149780, 3)"
      ]
     },
     "execution_count": 61,
     "metadata": {},
     "output_type": "execute_result"
    }
   ],
   "source": [
    "ratings.shape"
   ]
  },
  {
   "cell_type": "code",
   "execution_count": 62,
   "id": "0c5e6fea",
   "metadata": {},
   "outputs": [
    {
     "name": "stdout",
     "output_type": "stream",
     "text": [
      "<class 'pandas.core.frame.DataFrame'>\n",
      "RangeIndex: 1149780 entries, 0 to 1149779\n",
      "Data columns (total 3 columns):\n",
      " #   Column       Non-Null Count    Dtype \n",
      "---  ------       --------------    ----- \n",
      " 0   User-ID      1149780 non-null  int64 \n",
      " 1   ISBN         1149780 non-null  object\n",
      " 2   Book-Rating  1149780 non-null  int64 \n",
      "dtypes: int64(2), object(1)\n",
      "memory usage: 26.3+ MB\n"
     ]
    }
   ],
   "source": [
    "ratings.info()"
   ]
  },
  {
   "cell_type": "code",
   "execution_count": 63,
   "id": "e25050be",
   "metadata": {},
   "outputs": [
    {
     "data": {
      "text/plain": [
       "User-ID        0\n",
       "ISBN           0\n",
       "Book-Rating    0\n",
       "dtype: int64"
      ]
     },
     "execution_count": 63,
     "metadata": {},
     "output_type": "execute_result"
    }
   ],
   "source": [
    "#check for the null values\n",
    "ratings.isna().sum()"
   ]
  },
  {
   "cell_type": "code",
   "execution_count": 64,
   "id": "6353152e",
   "metadata": {},
   "outputs": [
    {
     "data": {
      "text/plain": [
       "(105283, 340556)"
      ]
     },
     "execution_count": 64,
     "metadata": {},
     "output_type": "execute_result"
    }
   ],
   "source": [
    "#check for the unique userID and ISBN Values\n",
    "ratings['User-ID'].nunique(), ratings['ISBN'].nunique()"
   ]
  },
  {
   "cell_type": "code",
   "execution_count": 65,
   "id": "8afe172c",
   "metadata": {},
   "outputs": [],
   "source": [
    "#number of unique userID 105283\n",
    "#number of unique ratings 340556\n",
    "#This means that many users are buying multiple books. Also some books are really famous and hence are bought by multiple users."
   ]
  },
  {
   "cell_type": "code",
   "execution_count": 66,
   "id": "47adc9f0",
   "metadata": {},
   "outputs": [],
   "source": [
    "#let make the ISBN number upper case"
   ]
  },
  {
   "cell_type": "code",
   "execution_count": 67,
   "id": "b7c1ef19",
   "metadata": {},
   "outputs": [
    {
     "data": {
      "text/plain": [
       "0           034545104X\n",
       "1           0155061224\n",
       "2           0446520802\n",
       "3           052165615X\n",
       "4           0521795028\n",
       "              ...     \n",
       "1149775     1563526298\n",
       "1149776     0679447156\n",
       "1149777     0515107662\n",
       "1149778     0590442449\n",
       "1149779    05162443314\n",
       "Name: ISBN, Length: 1149780, dtype: object"
      ]
     },
     "execution_count": 67,
     "metadata": {},
     "output_type": "execute_result"
    }
   ],
   "source": [
    "ratings['ISBN'].apply(lambda x: x.upper())"
   ]
  },
  {
   "cell_type": "code",
   "execution_count": 68,
   "id": "eb720c89",
   "metadata": {},
   "outputs": [
    {
     "data": {
      "text/plain": [
       "User-ID        0.0\n",
       "ISBN           0.0\n",
       "Book-Rating    0.0\n",
       "dtype: float64"
      ]
     },
     "execution_count": 68,
     "metadata": {},
     "output_type": "execute_result"
    }
   ],
   "source": [
    "#let check for the duplicates\n",
    "ratings[ratings.duplicated()].sum()"
   ]
  },
  {
   "cell_type": "code",
   "execution_count": 69,
   "id": "525b7e0c",
   "metadata": {},
   "outputs": [],
   "source": [
    "# lets see if all the books in rating_df are also in books_df\n",
    "ratings_new = ratings[ratings['ISBN'].isin(books['ISBN'])]"
   ]
  },
  {
   "cell_type": "code",
   "execution_count": 70,
   "id": "2c5bb270",
   "metadata": {},
   "outputs": [
    {
     "name": "stdout",
     "output_type": "stream",
     "text": [
      "Shape of ratings: (1149780, 3) and ratings_new: (1030617, 3)\n"
     ]
    }
   ],
   "source": [
    "print('Shape of ratings: {} and ratings_new: {}'.format(ratings.shape, ratings_new.shape))"
   ]
  },
  {
   "cell_type": "code",
   "execution_count": 71,
   "id": "75b7027a",
   "metadata": {},
   "outputs": [
    {
     "data": {
      "text/html": [
       "<div>\n",
       "<style scoped>\n",
       "    .dataframe tbody tr th:only-of-type {\n",
       "        vertical-align: middle;\n",
       "    }\n",
       "\n",
       "    .dataframe tbody tr th {\n",
       "        vertical-align: top;\n",
       "    }\n",
       "\n",
       "    .dataframe thead th {\n",
       "        text-align: right;\n",
       "    }\n",
       "</style>\n",
       "<table border=\"1\" class=\"dataframe\">\n",
       "  <thead>\n",
       "    <tr style=\"text-align: right;\">\n",
       "      <th></th>\n",
       "      <th>index</th>\n",
       "      <th>Book-Rating</th>\n",
       "    </tr>\n",
       "  </thead>\n",
       "  <tbody>\n",
       "    <tr>\n",
       "      <th>0</th>\n",
       "      <td>0</td>\n",
       "      <td>646974</td>\n",
       "    </tr>\n",
       "    <tr>\n",
       "      <th>1</th>\n",
       "      <td>8</td>\n",
       "      <td>91739</td>\n",
       "    </tr>\n",
       "    <tr>\n",
       "      <th>2</th>\n",
       "      <td>10</td>\n",
       "      <td>71194</td>\n",
       "    </tr>\n",
       "    <tr>\n",
       "      <th>3</th>\n",
       "      <td>7</td>\n",
       "      <td>66356</td>\n",
       "    </tr>\n",
       "    <tr>\n",
       "      <th>4</th>\n",
       "      <td>9</td>\n",
       "      <td>60754</td>\n",
       "    </tr>\n",
       "    <tr>\n",
       "      <th>5</th>\n",
       "      <td>5</td>\n",
       "      <td>45343</td>\n",
       "    </tr>\n",
       "    <tr>\n",
       "      <th>6</th>\n",
       "      <td>6</td>\n",
       "      <td>31673</td>\n",
       "    </tr>\n",
       "    <tr>\n",
       "      <th>7</th>\n",
       "      <td>4</td>\n",
       "      <td>7613</td>\n",
       "    </tr>\n",
       "    <tr>\n",
       "      <th>8</th>\n",
       "      <td>3</td>\n",
       "      <td>5117</td>\n",
       "    </tr>\n",
       "    <tr>\n",
       "      <th>9</th>\n",
       "      <td>2</td>\n",
       "      <td>2374</td>\n",
       "    </tr>\n",
       "    <tr>\n",
       "      <th>10</th>\n",
       "      <td>1</td>\n",
       "      <td>1480</td>\n",
       "    </tr>\n",
       "  </tbody>\n",
       "</table>\n",
       "</div>"
      ],
      "text/plain": [
       "    index  Book-Rating\n",
       "0       0       646974\n",
       "1       8        91739\n",
       "2      10        71194\n",
       "3       7        66356\n",
       "4       9        60754\n",
       "5       5        45343\n",
       "6       6        31673\n",
       "7       4         7613\n",
       "8       3         5117\n",
       "9       2         2374\n",
       "10      1         1480"
      ]
     },
     "execution_count": 71,
     "metadata": {},
     "output_type": "execute_result"
    }
   ],
   "source": [
    "#book ratings\n",
    "ratings_new['Book-Rating'].value_counts().reset_index()"
   ]
  },
  {
   "cell_type": "code",
   "execution_count": 72,
   "id": "7944b1e4",
   "metadata": {},
   "outputs": [
    {
     "data": {
      "text/html": [
       "<div>\n",
       "<style scoped>\n",
       "    .dataframe tbody tr th:only-of-type {\n",
       "        vertical-align: middle;\n",
       "    }\n",
       "\n",
       "    .dataframe tbody tr th {\n",
       "        vertical-align: top;\n",
       "    }\n",
       "\n",
       "    .dataframe thead th {\n",
       "        text-align: right;\n",
       "    }\n",
       "</style>\n",
       "<table border=\"1\" class=\"dataframe\">\n",
       "  <thead>\n",
       "    <tr style=\"text-align: right;\">\n",
       "      <th></th>\n",
       "      <th>ISBN</th>\n",
       "      <th>Book-Rating</th>\n",
       "    </tr>\n",
       "  </thead>\n",
       "  <tbody>\n",
       "    <tr>\n",
       "      <th>215608</th>\n",
       "      <td>0971880107</td>\n",
       "      <td>2502</td>\n",
       "    </tr>\n",
       "    <tr>\n",
       "      <th>38505</th>\n",
       "      <td>0316666343</td>\n",
       "      <td>1295</td>\n",
       "    </tr>\n",
       "    <tr>\n",
       "      <th>70686</th>\n",
       "      <td>0385504209</td>\n",
       "      <td>883</td>\n",
       "    </tr>\n",
       "    <tr>\n",
       "      <th>7325</th>\n",
       "      <td>0060928336</td>\n",
       "      <td>732</td>\n",
       "    </tr>\n",
       "    <tr>\n",
       "      <th>32311</th>\n",
       "      <td>0312195516</td>\n",
       "      <td>723</td>\n",
       "    </tr>\n",
       "    <tr>\n",
       "      <th>87235</th>\n",
       "      <td>044023722X</td>\n",
       "      <td>647</td>\n",
       "    </tr>\n",
       "    <tr>\n",
       "      <th>21293</th>\n",
       "      <td>0142001740</td>\n",
       "      <td>615</td>\n",
       "    </tr>\n",
       "    <tr>\n",
       "      <th>144784</th>\n",
       "      <td>067976402X</td>\n",
       "      <td>614</td>\n",
       "    </tr>\n",
       "    <tr>\n",
       "      <th>132908</th>\n",
       "      <td>0671027360</td>\n",
       "      <td>586</td>\n",
       "    </tr>\n",
       "    <tr>\n",
       "      <th>93670</th>\n",
       "      <td>0446672211</td>\n",
       "      <td>585</td>\n",
       "    </tr>\n",
       "  </tbody>\n",
       "</table>\n",
       "</div>"
      ],
      "text/plain": [
       "              ISBN  Book-Rating\n",
       "215608  0971880107         2502\n",
       "38505   0316666343         1295\n",
       "70686   0385504209          883\n",
       "7325    0060928336          732\n",
       "32311   0312195516          723\n",
       "87235   044023722X          647\n",
       "21293   0142001740          615\n",
       "144784  067976402X          614\n",
       "132908  0671027360          586\n",
       "93670   0446672211          585"
      ]
     },
     "execution_count": 72,
     "metadata": {},
     "output_type": "execute_result"
    }
   ],
   "source": [
    "#most popular books\n",
    "ratings_new.groupby('ISBN')['Book-Rating'].count().reset_index().sort_values(by='Book-Rating', ascending=False)[:10]"
   ]
  },
  {
   "cell_type": "markdown",
   "id": "dc4fa3e8",
   "metadata": {},
   "source": [
    "#here are the top 10 most popular books\n",
    "\n",
    "#but this contains both explicit and implicit rating, so we need to seperate them to get better idea"
   ]
  },
  {
   "cell_type": "code",
   "execution_count": 73,
   "id": "601741a0",
   "metadata": {},
   "outputs": [
    {
     "name": "stdout",
     "output_type": "stream",
     "text": [
      "Shape of explicit rating: (383643, 3) and implicit rating: (646974, 3)\n"
     ]
    }
   ],
   "source": [
    "explicit_rating = ratings_new[ratings_new['Book-Rating'] != 0]\n",
    "implicit_rating = ratings_new[ratings_new['Book-Rating'] == 0]\n",
    "print('Shape of explicit rating: {} and implicit rating: {}'.format(explicit_rating.shape, implicit_rating.shape))"
   ]
  },
  {
   "cell_type": "code",
   "execution_count": 74,
   "id": "67ae0217",
   "metadata": {},
   "outputs": [
    {
     "data": {
      "text/plain": [
       "array(['0971880107', '0316666343', '0385504209', '0060928336',\n",
       "       '0312195516', '044023722X', '0142001740', '067976402X',\n",
       "       '0671027360', '0446672211'], dtype=object)"
      ]
     },
     "execution_count": 74,
     "metadata": {},
     "output_type": "execute_result"
    }
   ],
   "source": [
    "# most purchased books including the implicitely rated books\n",
    "ratings_new.groupby('ISBN')['User-ID'].count().reset_index().sort_values(by='User-ID', ascending=False)[:10]['ISBN'].values"
   ]
  },
  {
   "cell_type": "code",
   "execution_count": 75,
   "id": "b6a37b30",
   "metadata": {},
   "outputs": [
    {
     "data": {
      "text/html": [
       "<div>\n",
       "<style scoped>\n",
       "    .dataframe tbody tr th:only-of-type {\n",
       "        vertical-align: middle;\n",
       "    }\n",
       "\n",
       "    .dataframe tbody tr th {\n",
       "        vertical-align: top;\n",
       "    }\n",
       "\n",
       "    .dataframe thead th {\n",
       "        text-align: right;\n",
       "    }\n",
       "</style>\n",
       "<table border=\"1\" class=\"dataframe\">\n",
       "  <thead>\n",
       "    <tr style=\"text-align: right;\">\n",
       "      <th></th>\n",
       "      <th>ISBN</th>\n",
       "      <th>Book-Title</th>\n",
       "      <th>Book-Author</th>\n",
       "      <th>Year-Of-Publication</th>\n",
       "      <th>Publisher</th>\n",
       "      <th>Image-URL-S</th>\n",
       "      <th>Image-URL-M</th>\n",
       "      <th>Image-URL-L</th>\n",
       "    </tr>\n",
       "  </thead>\n",
       "  <tbody>\n",
       "    <tr>\n",
       "      <th>26</th>\n",
       "      <td>0971880107</td>\n",
       "      <td>Wild Animus</td>\n",
       "      <td>Rich Shapero</td>\n",
       "      <td>2004</td>\n",
       "      <td>Too Far</td>\n",
       "      <td>http://images.amazon.com/images/P/0971880107.0...</td>\n",
       "      <td>http://images.amazon.com/images/P/0971880107.0...</td>\n",
       "      <td>http://images.amazon.com/images/P/0971880107.0...</td>\n",
       "    </tr>\n",
       "    <tr>\n",
       "      <th>118</th>\n",
       "      <td>0671027360</td>\n",
       "      <td>Angels amp Demons</td>\n",
       "      <td>Dan Brown</td>\n",
       "      <td>2001</td>\n",
       "      <td>Pocket Star</td>\n",
       "      <td>http://images.amazon.com/images/P/0671027360.0...</td>\n",
       "      <td>http://images.amazon.com/images/P/0671027360.0...</td>\n",
       "      <td>http://images.amazon.com/images/P/0671027360.0...</td>\n",
       "    </tr>\n",
       "    <tr>\n",
       "      <th>305</th>\n",
       "      <td>044023722X</td>\n",
       "      <td>A Painted House</td>\n",
       "      <td>John Grisham</td>\n",
       "      <td>2001</td>\n",
       "      <td>Dell Publishing Company</td>\n",
       "      <td>http://images.amazon.com/images/P/044023722X.0...</td>\n",
       "      <td>http://images.amazon.com/images/P/044023722X.0...</td>\n",
       "      <td>http://images.amazon.com/images/P/044023722X.0...</td>\n",
       "    </tr>\n",
       "    <tr>\n",
       "      <th>356</th>\n",
       "      <td>0142001740</td>\n",
       "      <td>The Secret Life of Bees</td>\n",
       "      <td>Sue Monk Kidd</td>\n",
       "      <td>2003</td>\n",
       "      <td>Penguin Books</td>\n",
       "      <td>http://images.amazon.com/images/P/0142001740.0...</td>\n",
       "      <td>http://images.amazon.com/images/P/0142001740.0...</td>\n",
       "      <td>http://images.amazon.com/images/P/0142001740.0...</td>\n",
       "    </tr>\n",
       "    <tr>\n",
       "      <th>408</th>\n",
       "      <td>0316666343</td>\n",
       "      <td>The Lovely Bones: A Novel</td>\n",
       "      <td>Alice Sebold</td>\n",
       "      <td>2002</td>\n",
       "      <td>Little, Brown</td>\n",
       "      <td>http://images.amazon.com/images/P/0316666343.0...</td>\n",
       "      <td>http://images.amazon.com/images/P/0316666343.0...</td>\n",
       "      <td>http://images.amazon.com/images/P/0316666343.0...</td>\n",
       "    </tr>\n",
       "    <tr>\n",
       "      <th>522</th>\n",
       "      <td>0312195516</td>\n",
       "      <td>The Red Tent (Bestselling Backlist)</td>\n",
       "      <td>Anita Diamant</td>\n",
       "      <td>1998</td>\n",
       "      <td>Picador USA</td>\n",
       "      <td>http://images.amazon.com/images/P/0312195516.0...</td>\n",
       "      <td>http://images.amazon.com/images/P/0312195516.0...</td>\n",
       "      <td>http://images.amazon.com/images/P/0312195516.0...</td>\n",
       "    </tr>\n",
       "    <tr>\n",
       "      <th>706</th>\n",
       "      <td>0446672211</td>\n",
       "      <td>Where the Heart Is (Oprah's Book Club (Paperba...</td>\n",
       "      <td>Billie Letts</td>\n",
       "      <td>1998</td>\n",
       "      <td>Warner Books</td>\n",
       "      <td>http://images.amazon.com/images/P/0446672211.0...</td>\n",
       "      <td>http://images.amazon.com/images/P/0446672211.0...</td>\n",
       "      <td>http://images.amazon.com/images/P/0446672211.0...</td>\n",
       "    </tr>\n",
       "    <tr>\n",
       "      <th>748</th>\n",
       "      <td>0385504209</td>\n",
       "      <td>The Da Vinci Code</td>\n",
       "      <td>Dan Brown</td>\n",
       "      <td>2003</td>\n",
       "      <td>Doubleday</td>\n",
       "      <td>http://images.amazon.com/images/P/0385504209.0...</td>\n",
       "      <td>http://images.amazon.com/images/P/0385504209.0...</td>\n",
       "      <td>http://images.amazon.com/images/P/0385504209.0...</td>\n",
       "    </tr>\n",
       "    <tr>\n",
       "      <th>1105</th>\n",
       "      <td>0060928336</td>\n",
       "      <td>Divine Secrets of the Ya-Ya Sisterhood: A Novel</td>\n",
       "      <td>Rebecca Wells</td>\n",
       "      <td>1997</td>\n",
       "      <td>Perennial</td>\n",
       "      <td>http://images.amazon.com/images/P/0060928336.0...</td>\n",
       "      <td>http://images.amazon.com/images/P/0060928336.0...</td>\n",
       "      <td>http://images.amazon.com/images/P/0060928336.0...</td>\n",
       "    </tr>\n",
       "    <tr>\n",
       "      <th>1922</th>\n",
       "      <td>067976402X</td>\n",
       "      <td>Snow Falling on Cedars</td>\n",
       "      <td>David Guterson</td>\n",
       "      <td>1995</td>\n",
       "      <td>Vintage Books USA</td>\n",
       "      <td>http://images.amazon.com/images/P/067976402X.0...</td>\n",
       "      <td>http://images.amazon.com/images/P/067976402X.0...</td>\n",
       "      <td>http://images.amazon.com/images/P/067976402X.0...</td>\n",
       "    </tr>\n",
       "  </tbody>\n",
       "</table>\n",
       "</div>"
      ],
      "text/plain": [
       "            ISBN                                         Book-Title  \\\n",
       "26    0971880107                                        Wild Animus   \n",
       "118   0671027360                                  Angels amp Demons   \n",
       "305   044023722X                                    A Painted House   \n",
       "356   0142001740                            The Secret Life of Bees   \n",
       "408   0316666343                          The Lovely Bones: A Novel   \n",
       "522   0312195516                The Red Tent (Bestselling Backlist)   \n",
       "706   0446672211  Where the Heart Is (Oprah's Book Club (Paperba...   \n",
       "748   0385504209                                  The Da Vinci Code   \n",
       "1105  0060928336    Divine Secrets of the Ya-Ya Sisterhood: A Novel   \n",
       "1922  067976402X                             Snow Falling on Cedars   \n",
       "\n",
       "         Book-Author  Year-Of-Publication                Publisher  \\\n",
       "26      Rich Shapero                 2004                  Too Far   \n",
       "118        Dan Brown                 2001              Pocket Star   \n",
       "305     John Grisham                 2001  Dell Publishing Company   \n",
       "356    Sue Monk Kidd                 2003            Penguin Books   \n",
       "408     Alice Sebold                 2002            Little, Brown   \n",
       "522    Anita Diamant                 1998              Picador USA   \n",
       "706     Billie Letts                 1998             Warner Books   \n",
       "748        Dan Brown                 2003                Doubleday   \n",
       "1105   Rebecca Wells                 1997                Perennial   \n",
       "1922  David Guterson                 1995        Vintage Books USA   \n",
       "\n",
       "                                            Image-URL-S  \\\n",
       "26    http://images.amazon.com/images/P/0971880107.0...   \n",
       "118   http://images.amazon.com/images/P/0671027360.0...   \n",
       "305   http://images.amazon.com/images/P/044023722X.0...   \n",
       "356   http://images.amazon.com/images/P/0142001740.0...   \n",
       "408   http://images.amazon.com/images/P/0316666343.0...   \n",
       "522   http://images.amazon.com/images/P/0312195516.0...   \n",
       "706   http://images.amazon.com/images/P/0446672211.0...   \n",
       "748   http://images.amazon.com/images/P/0385504209.0...   \n",
       "1105  http://images.amazon.com/images/P/0060928336.0...   \n",
       "1922  http://images.amazon.com/images/P/067976402X.0...   \n",
       "\n",
       "                                            Image-URL-M  \\\n",
       "26    http://images.amazon.com/images/P/0971880107.0...   \n",
       "118   http://images.amazon.com/images/P/0671027360.0...   \n",
       "305   http://images.amazon.com/images/P/044023722X.0...   \n",
       "356   http://images.amazon.com/images/P/0142001740.0...   \n",
       "408   http://images.amazon.com/images/P/0316666343.0...   \n",
       "522   http://images.amazon.com/images/P/0312195516.0...   \n",
       "706   http://images.amazon.com/images/P/0446672211.0...   \n",
       "748   http://images.amazon.com/images/P/0385504209.0...   \n",
       "1105  http://images.amazon.com/images/P/0060928336.0...   \n",
       "1922  http://images.amazon.com/images/P/067976402X.0...   \n",
       "\n",
       "                                            Image-URL-L  \n",
       "26    http://images.amazon.com/images/P/0971880107.0...  \n",
       "118   http://images.amazon.com/images/P/0671027360.0...  \n",
       "305   http://images.amazon.com/images/P/044023722X.0...  \n",
       "356   http://images.amazon.com/images/P/0142001740.0...  \n",
       "408   http://images.amazon.com/images/P/0316666343.0...  \n",
       "522   http://images.amazon.com/images/P/0312195516.0...  \n",
       "706   http://images.amazon.com/images/P/0446672211.0...  \n",
       "748   http://images.amazon.com/images/P/0385504209.0...  \n",
       "1105  http://images.amazon.com/images/P/0060928336.0...  \n",
       "1922  http://images.amazon.com/images/P/067976402X.0...  "
      ]
     },
     "execution_count": 75,
     "metadata": {},
     "output_type": "execute_result"
    }
   ],
   "source": [
    "## getting the book names corresponding to these ISBNs\n",
    "isbn_nums = ['0971880107', '0316666343', '0385504209', '0060928336',\n",
    "       '0312195516', '044023722X', '0142001740', '067976402X',\n",
    "       '0671027360', '0446672211']\n",
    "books[books['ISBN'].isin(isbn_nums)]"
   ]
  },
  {
   "cell_type": "code",
   "execution_count": 76,
   "id": "7462f1c7",
   "metadata": {},
   "outputs": [
    {
     "data": {
      "text/html": [
       "<div>\n",
       "<style scoped>\n",
       "    .dataframe tbody tr th:only-of-type {\n",
       "        vertical-align: middle;\n",
       "    }\n",
       "\n",
       "    .dataframe tbody tr th {\n",
       "        vertical-align: top;\n",
       "    }\n",
       "\n",
       "    .dataframe thead th {\n",
       "        text-align: right;\n",
       "    }\n",
       "</style>\n",
       "<table border=\"1\" class=\"dataframe\">\n",
       "  <thead>\n",
       "    <tr style=\"text-align: right;\">\n",
       "      <th></th>\n",
       "      <th>ISBN</th>\n",
       "      <th>Book-Rating</th>\n",
       "    </tr>\n",
       "  </thead>\n",
       "  <tbody>\n",
       "    <tr>\n",
       "      <th>21915</th>\n",
       "      <td>0316666343</td>\n",
       "      <td>707</td>\n",
       "    </tr>\n",
       "    <tr>\n",
       "      <th>117593</th>\n",
       "      <td>0971880107</td>\n",
       "      <td>581</td>\n",
       "    </tr>\n",
       "    <tr>\n",
       "      <th>38771</th>\n",
       "      <td>0385504209</td>\n",
       "      <td>487</td>\n",
       "    </tr>\n",
       "    <tr>\n",
       "      <th>18032</th>\n",
       "      <td>0312195516</td>\n",
       "      <td>383</td>\n",
       "    </tr>\n",
       "    <tr>\n",
       "      <th>4122</th>\n",
       "      <td>0060928336</td>\n",
       "      <td>320</td>\n",
       "    </tr>\n",
       "    <tr>\n",
       "      <th>68795</th>\n",
       "      <td>059035342X</td>\n",
       "      <td>313</td>\n",
       "    </tr>\n",
       "    <tr>\n",
       "      <th>12303</th>\n",
       "      <td>0142001740</td>\n",
       "      <td>307</td>\n",
       "    </tr>\n",
       "    <tr>\n",
       "      <th>51715</th>\n",
       "      <td>0446672211</td>\n",
       "      <td>295</td>\n",
       "    </tr>\n",
       "    <tr>\n",
       "      <th>47910</th>\n",
       "      <td>044023722X</td>\n",
       "      <td>281</td>\n",
       "    </tr>\n",
       "    <tr>\n",
       "      <th>57539</th>\n",
       "      <td>0452282152</td>\n",
       "      <td>278</td>\n",
       "    </tr>\n",
       "  </tbody>\n",
       "</table>\n",
       "</div>"
      ],
      "text/plain": [
       "              ISBN  Book-Rating\n",
       "21915   0316666343          707\n",
       "117593  0971880107          581\n",
       "38771   0385504209          487\n",
       "18032   0312195516          383\n",
       "4122    0060928336          320\n",
       "68795   059035342X          313\n",
       "12303   0142001740          307\n",
       "51715   0446672211          295\n",
       "47910   044023722X          281\n",
       "57539   0452282152          278"
      ]
     },
     "execution_count": 76,
     "metadata": {},
     "output_type": "execute_result"
    }
   ],
   "source": [
    "# most popular explicitely rated books\n",
    "explicit_rating.groupby('ISBN')['Book-Rating'].count().reset_index().sort_values(by='Book-Rating', ascending=False)[:10]"
   ]
  },
  {
   "cell_type": "code",
   "execution_count": 77,
   "id": "3a491151",
   "metadata": {},
   "outputs": [
    {
     "data": {
      "text/plain": [
       "<AxesSubplot:xlabel='Book-Rating', ylabel='count'>"
      ]
     },
     "execution_count": 77,
     "metadata": {},
     "output_type": "execute_result"
    },
    {
     "data": {
      "image/png": "[encoded data removed]",
      "text/plain": [
       "<Figure size 640x480 with 1 Axes>"
      ]
     },
     "metadata": {},
     "output_type": "display_data"
    }
   ],
   "source": [
    "#Rating distribution for explicit rating\n",
    "sns.countplot(x='Book-Rating',data=explicit_rating,palette='Set2')"
   ]
  },
  {
   "cell_type": "markdown",
   "id": "5aecc811",
   "metadata": {},
   "source": [
    "### Merging the dataset"
   ]
  },
  {
   "cell_type": "code",
   "execution_count": 78,
   "id": "ce8b1931",
   "metadata": {},
   "outputs": [],
   "source": [
    "# for the rating dataset, we are only taking the explicit rating dataset\n",
    "\n",
    "books_ratings= pd.merge(books, explicit_rating, on='ISBN', how='inner')\n",
    "df = pd.merge(books_ratings, users, on='User-ID', how='inner')"
   ]
  },
  {
   "cell_type": "code",
   "execution_count": 79,
   "id": "8253d080",
   "metadata": {},
   "outputs": [
    {
     "data": {
      "text/plain": [
       "(383693, 13)"
      ]
     },
     "execution_count": 79,
     "metadata": {},
     "output_type": "execute_result"
    }
   ],
   "source": [
    "#shape of the merged dataframe 'df'\n",
    "df.shape"
   ]
  },
  {
   "cell_type": "code",
   "execution_count": 80,
   "id": "242a97a7",
   "metadata": {
    "scrolled": false
   },
   "outputs": [
    {
     "data": {
      "text/html": [
       "<div>\n",
       "<style scoped>\n",
       "    .dataframe tbody tr th:only-of-type {\n",
       "        vertical-align: middle;\n",
       "    }\n",
       "\n",
       "    .dataframe tbody tr th {\n",
       "        vertical-align: top;\n",
       "    }\n",
       "\n",
       "    .dataframe thead th {\n",
       "        text-align: right;\n",
       "    }\n",
       "</style>\n",
       "<table border=\"1\" class=\"dataframe\">\n",
       "  <thead>\n",
       "    <tr style=\"text-align: right;\">\n",
       "      <th></th>\n",
       "      <th>ISBN</th>\n",
       "      <th>Book-Title</th>\n",
       "      <th>Book-Author</th>\n",
       "      <th>Year-Of-Publication</th>\n",
       "      <th>Publisher</th>\n",
       "      <th>Image-URL-S</th>\n",
       "      <th>Image-URL-M</th>\n",
       "      <th>Image-URL-L</th>\n",
       "      <th>User-ID</th>\n",
       "      <th>Book-Rating</th>\n",
       "      <th>Country</th>\n",
       "      <th>Age</th>\n",
       "      <th>age_group</th>\n",
       "    </tr>\n",
       "  </thead>\n",
       "  <tbody>\n",
       "    <tr>\n",
       "      <th>0</th>\n",
       "      <td>0002005018</td>\n",
       "      <td>Clara Callan</td>\n",
       "      <td>Richard Bruce Wright</td>\n",
       "      <td>2001</td>\n",
       "      <td>HarperFlamingo Canada</td>\n",
       "      <td>http://images.amazon.com/images/P/0002005018.0...</td>\n",
       "      <td>http://images.amazon.com/images/P/0002005018.0...</td>\n",
       "      <td>http://images.amazon.com/images/P/0002005018.0...</td>\n",
       "      <td>8</td>\n",
       "      <td>5</td>\n",
       "      <td>CANADA</td>\n",
       "      <td>34.734222</td>\n",
       "      <td>youth</td>\n",
       "    </tr>\n",
       "    <tr>\n",
       "      <th>1</th>\n",
       "      <td>074322678X</td>\n",
       "      <td>Where You'll Find Me: And Other Stories</td>\n",
       "      <td>Ann Beattie</td>\n",
       "      <td>2002</td>\n",
       "      <td>Scribner</td>\n",
       "      <td>http://images.amazon.com/images/P/074322678X.0...</td>\n",
       "      <td>http://images.amazon.com/images/P/074322678X.0...</td>\n",
       "      <td>http://images.amazon.com/images/P/074322678X.0...</td>\n",
       "      <td>8</td>\n",
       "      <td>5</td>\n",
       "      <td>CANADA</td>\n",
       "      <td>34.734222</td>\n",
       "      <td>youth</td>\n",
       "    </tr>\n",
       "    <tr>\n",
       "      <th>2</th>\n",
       "      <td>0887841740</td>\n",
       "      <td>The Middle Stories</td>\n",
       "      <td>Sheila Heti</td>\n",
       "      <td>2004</td>\n",
       "      <td>House of Anansi Press</td>\n",
       "      <td>http://images.amazon.com/images/P/0887841740.0...</td>\n",
       "      <td>http://images.amazon.com/images/P/0887841740.0...</td>\n",
       "      <td>http://images.amazon.com/images/P/0887841740.0...</td>\n",
       "      <td>8</td>\n",
       "      <td>5</td>\n",
       "      <td>CANADA</td>\n",
       "      <td>34.734222</td>\n",
       "      <td>youth</td>\n",
       "    </tr>\n",
       "  </tbody>\n",
       "</table>\n",
       "</div>"
      ],
      "text/plain": [
       "         ISBN                               Book-Title           Book-Author  \\\n",
       "0  0002005018                             Clara Callan  Richard Bruce Wright   \n",
       "1  074322678X  Where You'll Find Me: And Other Stories           Ann Beattie   \n",
       "2  0887841740                       The Middle Stories           Sheila Heti   \n",
       "\n",
       "   Year-Of-Publication              Publisher  \\\n",
       "0                 2001  HarperFlamingo Canada   \n",
       "1                 2002               Scribner   \n",
       "2                 2004  House of Anansi Press   \n",
       "\n",
       "                                         Image-URL-S  \\\n",
       "0  http://images.amazon.com/images/P/0002005018.0...   \n",
       "1  http://images.amazon.com/images/P/074322678X.0...   \n",
       "2  http://images.amazon.com/images/P/0887841740.0...   \n",
       "\n",
       "                                         Image-URL-M  \\\n",
       "0  http://images.amazon.com/images/P/0002005018.0...   \n",
       "1  http://images.amazon.com/images/P/074322678X.0...   \n",
       "2  http://images.amazon.com/images/P/0887841740.0...   \n",
       "\n",
       "                                         Image-URL-L  User-ID  Book-Rating  \\\n",
       "0  http://images.amazon.com/images/P/0002005018.0...        8            5   \n",
       "1  http://images.amazon.com/images/P/074322678X.0...        8            5   \n",
       "2  http://images.amazon.com/images/P/0887841740.0...        8            5   \n",
       "\n",
       "   Country        Age age_group  \n",
       "0   CANADA  34.734222     youth  \n",
       "1   CANADA  34.734222     youth  \n",
       "2   CANADA  34.734222     youth  "
      ]
     },
     "execution_count": 80,
     "metadata": {},
     "output_type": "execute_result"
    }
   ],
   "source": [
    "#displaying the top 3 rows of df\n",
    "df.head(3)"
   ]
  },
  {
   "cell_type": "code",
   "execution_count": 81,
   "id": "9045a08d",
   "metadata": {},
   "outputs": [
    {
     "name": "stdout",
     "output_type": "stream",
     "text": [
      "<class 'pandas.core.frame.DataFrame'>\n",
      "Int64Index: 383693 entries, 0 to 383692\n",
      "Data columns (total 13 columns):\n",
      " #   Column               Non-Null Count   Dtype  \n",
      "---  ------               --------------   -----  \n",
      " 0   ISBN                 383693 non-null  object \n",
      " 1   Book-Title           383693 non-null  object \n",
      " 2   Book-Author          383693 non-null  object \n",
      " 3   Year-Of-Publication  383693 non-null  int32  \n",
      " 4   Publisher            383693 non-null  object \n",
      " 5   Image-URL-S          383693 non-null  object \n",
      " 6   Image-URL-M          383693 non-null  object \n",
      " 7   Image-URL-L          383692 non-null  object \n",
      " 8   User-ID              383693 non-null  int64  \n",
      " 9   Book-Rating          383693 non-null  int64  \n",
      " 10  Country              383693 non-null  object \n",
      " 11  Age                  383693 non-null  float64\n",
      " 12  age_group            383693 non-null  object \n",
      "dtypes: float64(1), int32(1), int64(2), object(9)\n",
      "memory usage: 39.5+ MB\n"
     ]
    }
   ],
   "source": [
    "df.info()"
   ]
  },
  {
   "cell_type": "code",
   "execution_count": 82,
   "id": "fea194b0",
   "metadata": {},
   "outputs": [
    {
     "data": {
      "text/plain": [
       "68080"
      ]
     },
     "execution_count": 82,
     "metadata": {},
     "output_type": "execute_result"
    }
   ],
   "source": [
    "#Number of users who have rated the books\n",
    "df['User-ID'].nunique()"
   ]
  },
  {
   "cell_type": "code",
   "execution_count": 83,
   "id": "7b2a32d6",
   "metadata": {},
   "outputs": [
    {
     "data": {
      "text/plain": [
       "149655"
      ]
     },
     "execution_count": 83,
     "metadata": {},
     "output_type": "execute_result"
    }
   ],
   "source": [
    "#Number of books in the dataframe\n",
    "df['ISBN'].nunique()"
   ]
  },
  {
   "cell_type": "markdown",
   "id": "b6a3749c",
   "metadata": {},
   "source": [
    "### Exploratory Data Analysis"
   ]
  },
  {
   "cell_type": "code",
   "execution_count": 84,
   "id": "52e6ba52",
   "metadata": {},
   "outputs": [
    {
     "data": {
      "image/png": "[encoded data removed]",
      "text/plain": [
       "<Figure size 640x480 with 1 Axes>"
      ]
     },
     "metadata": {},
     "output_type": "display_data"
    }
   ],
   "source": [
    "#Best selling authors\n",
    "best_selling_authors=df.groupby('Book-Author')['User-ID'].nunique().nlargest(10)\n",
    "sns.barplot(x=best_selling_authors.values,y=best_selling_authors.index,palette='Paired')\n",
    "plt.title('Best selling authors')\n",
    "plt.show()"
   ]
  },
  {
   "cell_type": "code",
   "execution_count": 85,
   "id": "4dda4405",
   "metadata": {},
   "outputs": [
    {
     "data": {
      "image/png": "[encoded data removed]",
      "text/plain": [
       "<Figure size 640x480 with 1 Axes>"
      ]
     },
     "metadata": {},
     "output_type": "display_data"
    }
   ],
   "source": [
    "#Top selling books \n",
    "most_purchased_books=df.groupby('Book-Title')['User-ID'].nunique().nlargest(10)\n",
    "sns.barplot(x=most_purchased_books.values,y=most_purchased_books.index,palette='Paired')\n",
    "plt.title('Top selling books')\n",
    "plt.show()"
   ]
  },
  {
   "cell_type": "code",
   "execution_count": 86,
   "id": "1a0bf71d",
   "metadata": {
    "scrolled": true
   },
   "outputs": [
    {
     "data": {
      "image/png": "[encoded data removed]",
      "text/plain": [
       "<Figure size 640x480 with 1 Axes>"
      ]
     },
     "metadata": {},
     "output_type": "display_data"
    }
   ],
   "source": [
    "#Top-rated books\n",
    "top_rated_books=df.groupby('Book-Title')['Book-Rating'].mean().nlargest(10)\n",
    "sns.barplot(x=top_rated_books.values,y=top_rated_books.index,palette='Paired')\n",
    "plt.title('Top rated books')\n",
    "plt.show()"
   ]
  },
  {
   "cell_type": "markdown",
   "id": "c2f41958",
   "metadata": {},
   "source": [
    "### books having highest average ratings (with a minimum of at least 250 ratings recieved)"
   ]
  },
  {
   "cell_type": "code",
   "execution_count": 87,
   "id": "2d939f7f",
   "metadata": {},
   "outputs": [
    {
     "data": {
      "text/html": [
       "<div>\n",
       "<style scoped>\n",
       "    .dataframe tbody tr th:only-of-type {\n",
       "        vertical-align: middle;\n",
       "    }\n",
       "\n",
       "    .dataframe tbody tr th {\n",
       "        vertical-align: top;\n",
       "    }\n",
       "\n",
       "    .dataframe thead th {\n",
       "        text-align: right;\n",
       "    }\n",
       "</style>\n",
       "<table border=\"1\" class=\"dataframe\">\n",
       "  <thead>\n",
       "    <tr style=\"text-align: right;\">\n",
       "      <th></th>\n",
       "      <th>Book-Title</th>\n",
       "      <th>num_rating</th>\n",
       "    </tr>\n",
       "  </thead>\n",
       "  <tbody>\n",
       "    <tr>\n",
       "      <th>0</th>\n",
       "      <td>(A Nutshell handbook)</td>\n",
       "      <td>1</td>\n",
       "    </tr>\n",
       "    <tr>\n",
       "      <th>1</th>\n",
       "      <td>A Light in the Storm: The Civil War Diary of ...</td>\n",
       "      <td>1</td>\n",
       "    </tr>\n",
       "    <tr>\n",
       "      <th>2</th>\n",
       "      <td>Ask Lily (Young Women of Faith: Lily Series, ...</td>\n",
       "      <td>1</td>\n",
       "    </tr>\n",
       "    <tr>\n",
       "      <th>3</th>\n",
       "      <td>Dark Justice</td>\n",
       "      <td>1</td>\n",
       "    </tr>\n",
       "    <tr>\n",
       "      <th>4</th>\n",
       "      <td>Earth Prayers From around the World: 365 Pray...</td>\n",
       "      <td>7</td>\n",
       "    </tr>\n",
       "    <tr>\n",
       "      <th>...</th>\n",
       "      <td>...</td>\n",
       "      <td>...</td>\n",
       "    </tr>\n",
       "    <tr>\n",
       "      <th>135449</th>\n",
       "      <td>ÃÂbernachten mit Stil. Die schÃÂ¶nsten Country...</td>\n",
       "      <td>1</td>\n",
       "    </tr>\n",
       "    <tr>\n",
       "      <th>135450</th>\n",
       "      <td>ÃÂrger mit Produkt X. Roman.</td>\n",
       "      <td>3</td>\n",
       "    </tr>\n",
       "    <tr>\n",
       "      <th>135451</th>\n",
       "      <td>ÃÂsterlich leben.</td>\n",
       "      <td>1</td>\n",
       "    </tr>\n",
       "    <tr>\n",
       "      <th>135452</th>\n",
       "      <td>ÃÂstlich der Berge.</td>\n",
       "      <td>1</td>\n",
       "    </tr>\n",
       "    <tr>\n",
       "      <th>135453</th>\n",
       "      <td>ÃÂthique en toc</td>\n",
       "      <td>1</td>\n",
       "    </tr>\n",
       "  </tbody>\n",
       "</table>\n",
       "<p>135454 rows × 2 columns</p>\n",
       "</div>"
      ],
      "text/plain": [
       "                                               Book-Title  num_rating\n",
       "0                                   (A Nutshell handbook)           1\n",
       "1        A Light in the Storm: The Civil War Diary of ...           1\n",
       "2        Ask Lily (Young Women of Faith: Lily Series, ...           1\n",
       "3                                            Dark Justice           1\n",
       "4        Earth Prayers From around the World: 365 Pray...           7\n",
       "...                                                   ...         ...\n",
       "135449  ÃÂbernachten mit Stil. Die schÃÂ¶nsten Country...           1\n",
       "135450                       ÃÂrger mit Produkt X. Roman.           3\n",
       "135451                                  ÃÂsterlich leben.           1\n",
       "135452                                ÃÂstlich der Berge.           1\n",
       "135453                                    ÃÂthique en toc           1\n",
       "\n",
       "[135454 rows x 2 columns]"
      ]
     },
     "execution_count": 87,
     "metadata": {},
     "output_type": "execute_result"
    }
   ],
   "source": [
    "num_rating_df=df.groupby('Book-Title').count()[\"Book-Rating\"].reset_index()\n",
    "num_rating_df.rename(columns={\"Book-Rating\":\"num_rating\"},inplace=True)\n",
    "num_rating_df"
   ]
  },
  {
   "cell_type": "code",
   "execution_count": 88,
   "id": "667b8c86",
   "metadata": {},
   "outputs": [
    {
     "data": {
      "text/html": [
       "<div>\n",
       "<style scoped>\n",
       "    .dataframe tbody tr th:only-of-type {\n",
       "        vertical-align: middle;\n",
       "    }\n",
       "\n",
       "    .dataframe tbody tr th {\n",
       "        vertical-align: top;\n",
       "    }\n",
       "\n",
       "    .dataframe thead th {\n",
       "        text-align: right;\n",
       "    }\n",
       "</style>\n",
       "<table border=\"1\" class=\"dataframe\">\n",
       "  <thead>\n",
       "    <tr style=\"text-align: right;\">\n",
       "      <th></th>\n",
       "      <th>Book-Title</th>\n",
       "      <th>avg_rating</th>\n",
       "    </tr>\n",
       "  </thead>\n",
       "  <tbody>\n",
       "    <tr>\n",
       "      <th>0</th>\n",
       "      <td>(A Nutshell handbook)</td>\n",
       "      <td>6.000000</td>\n",
       "    </tr>\n",
       "    <tr>\n",
       "      <th>1</th>\n",
       "      <td>A Light in the Storm: The Civil War Diary of ...</td>\n",
       "      <td>9.000000</td>\n",
       "    </tr>\n",
       "    <tr>\n",
       "      <th>2</th>\n",
       "      <td>Ask Lily (Young Women of Faith: Lily Series, ...</td>\n",
       "      <td>8.000000</td>\n",
       "    </tr>\n",
       "    <tr>\n",
       "      <th>3</th>\n",
       "      <td>Dark Justice</td>\n",
       "      <td>10.000000</td>\n",
       "    </tr>\n",
       "    <tr>\n",
       "      <th>4</th>\n",
       "      <td>Earth Prayers From around the World: 365 Pray...</td>\n",
       "      <td>7.142857</td>\n",
       "    </tr>\n",
       "    <tr>\n",
       "      <th>...</th>\n",
       "      <td>...</td>\n",
       "      <td>...</td>\n",
       "    </tr>\n",
       "    <tr>\n",
       "      <th>135449</th>\n",
       "      <td>ÃÂbernachten mit Stil. Die schÃÂ¶nsten Country...</td>\n",
       "      <td>8.000000</td>\n",
       "    </tr>\n",
       "    <tr>\n",
       "      <th>135450</th>\n",
       "      <td>ÃÂrger mit Produkt X. Roman.</td>\n",
       "      <td>7.000000</td>\n",
       "    </tr>\n",
       "    <tr>\n",
       "      <th>135451</th>\n",
       "      <td>ÃÂsterlich leben.</td>\n",
       "      <td>7.000000</td>\n",
       "    </tr>\n",
       "    <tr>\n",
       "      <th>135452</th>\n",
       "      <td>ÃÂstlich der Berge.</td>\n",
       "      <td>8.000000</td>\n",
       "    </tr>\n",
       "    <tr>\n",
       "      <th>135453</th>\n",
       "      <td>ÃÂthique en toc</td>\n",
       "      <td>8.000000</td>\n",
       "    </tr>\n",
       "  </tbody>\n",
       "</table>\n",
       "<p>135454 rows × 2 columns</p>\n",
       "</div>"
      ],
      "text/plain": [
       "                                               Book-Title  avg_rating\n",
       "0                                   (A Nutshell handbook)    6.000000\n",
       "1        A Light in the Storm: The Civil War Diary of ...    9.000000\n",
       "2        Ask Lily (Young Women of Faith: Lily Series, ...    8.000000\n",
       "3                                            Dark Justice   10.000000\n",
       "4        Earth Prayers From around the World: 365 Pray...    7.142857\n",
       "...                                                   ...         ...\n",
       "135449  ÃÂbernachten mit Stil. Die schÃÂ¶nsten Country...    8.000000\n",
       "135450                       ÃÂrger mit Produkt X. Roman.    7.000000\n",
       "135451                                  ÃÂsterlich leben.    7.000000\n",
       "135452                                ÃÂstlich der Berge.    8.000000\n",
       "135453                                    ÃÂthique en toc    8.000000\n",
       "\n",
       "[135454 rows x 2 columns]"
      ]
     },
     "execution_count": 88,
     "metadata": {},
     "output_type": "execute_result"
    }
   ],
   "source": [
    "avg_rating_df=df.groupby('Book-Title').mean()[\"Book-Rating\"].reset_index()\n",
    "avg_rating_df.rename(columns={\"Book-Rating\":\"avg_rating\"},inplace=True)\n",
    "avg_rating_df"
   ]
  },
  {
   "cell_type": "code",
   "execution_count": 89,
   "id": "17edf386",
   "metadata": {},
   "outputs": [
    {
     "data": {
      "text/html": [
       "<div>\n",
       "<style scoped>\n",
       "    .dataframe tbody tr th:only-of-type {\n",
       "        vertical-align: middle;\n",
       "    }\n",
       "\n",
       "    .dataframe tbody tr th {\n",
       "        vertical-align: top;\n",
       "    }\n",
       "\n",
       "    .dataframe thead th {\n",
       "        text-align: right;\n",
       "    }\n",
       "</style>\n",
       "<table border=\"1\" class=\"dataframe\">\n",
       "  <thead>\n",
       "    <tr style=\"text-align: right;\">\n",
       "      <th></th>\n",
       "      <th>Book-Title</th>\n",
       "      <th>num_rating</th>\n",
       "      <th>avg_rating</th>\n",
       "    </tr>\n",
       "  </thead>\n",
       "  <tbody>\n",
       "    <tr>\n",
       "      <th>0</th>\n",
       "      <td>(A Nutshell handbook)</td>\n",
       "      <td>1</td>\n",
       "      <td>6.000000</td>\n",
       "    </tr>\n",
       "    <tr>\n",
       "      <th>1</th>\n",
       "      <td>A Light in the Storm: The Civil War Diary of ...</td>\n",
       "      <td>1</td>\n",
       "      <td>9.000000</td>\n",
       "    </tr>\n",
       "    <tr>\n",
       "      <th>2</th>\n",
       "      <td>Ask Lily (Young Women of Faith: Lily Series, ...</td>\n",
       "      <td>1</td>\n",
       "      <td>8.000000</td>\n",
       "    </tr>\n",
       "    <tr>\n",
       "      <th>3</th>\n",
       "      <td>Dark Justice</td>\n",
       "      <td>1</td>\n",
       "      <td>10.000000</td>\n",
       "    </tr>\n",
       "    <tr>\n",
       "      <th>4</th>\n",
       "      <td>Earth Prayers From around the World: 365 Pray...</td>\n",
       "      <td>7</td>\n",
       "      <td>7.142857</td>\n",
       "    </tr>\n",
       "    <tr>\n",
       "      <th>...</th>\n",
       "      <td>...</td>\n",
       "      <td>...</td>\n",
       "      <td>...</td>\n",
       "    </tr>\n",
       "    <tr>\n",
       "      <th>135449</th>\n",
       "      <td>ÃÂbernachten mit Stil. Die schÃÂ¶nsten Country...</td>\n",
       "      <td>1</td>\n",
       "      <td>8.000000</td>\n",
       "    </tr>\n",
       "    <tr>\n",
       "      <th>135450</th>\n",
       "      <td>ÃÂrger mit Produkt X. Roman.</td>\n",
       "      <td>3</td>\n",
       "      <td>7.000000</td>\n",
       "    </tr>\n",
       "    <tr>\n",
       "      <th>135451</th>\n",
       "      <td>ÃÂsterlich leben.</td>\n",
       "      <td>1</td>\n",
       "      <td>7.000000</td>\n",
       "    </tr>\n",
       "    <tr>\n",
       "      <th>135452</th>\n",
       "      <td>ÃÂstlich der Berge.</td>\n",
       "      <td>1</td>\n",
       "      <td>8.000000</td>\n",
       "    </tr>\n",
       "    <tr>\n",
       "      <th>135453</th>\n",
       "      <td>ÃÂthique en toc</td>\n",
       "      <td>1</td>\n",
       "      <td>8.000000</td>\n",
       "    </tr>\n",
       "  </tbody>\n",
       "</table>\n",
       "<p>135454 rows × 3 columns</p>\n",
       "</div>"
      ],
      "text/plain": [
       "                                               Book-Title  num_rating  \\\n",
       "0                                   (A Nutshell handbook)           1   \n",
       "1        A Light in the Storm: The Civil War Diary of ...           1   \n",
       "2        Ask Lily (Young Women of Faith: Lily Series, ...           1   \n",
       "3                                            Dark Justice           1   \n",
       "4        Earth Prayers From around the World: 365 Pray...           7   \n",
       "...                                                   ...         ...   \n",
       "135449  ÃÂbernachten mit Stil. Die schÃÂ¶nsten Country...           1   \n",
       "135450                       ÃÂrger mit Produkt X. Roman.           3   \n",
       "135451                                  ÃÂsterlich leben.           1   \n",
       "135452                                ÃÂstlich der Berge.           1   \n",
       "135453                                    ÃÂthique en toc           1   \n",
       "\n",
       "        avg_rating  \n",
       "0         6.000000  \n",
       "1         9.000000  \n",
       "2         8.000000  \n",
       "3        10.000000  \n",
       "4         7.142857  \n",
       "...            ...  \n",
       "135449    8.000000  \n",
       "135450    7.000000  \n",
       "135451    7.000000  \n",
       "135452    8.000000  \n",
       "135453    8.000000  \n",
       "\n",
       "[135454 rows x 3 columns]"
      ]
     },
     "execution_count": 89,
     "metadata": {},
     "output_type": "execute_result"
    }
   ],
   "source": [
    "popular_df=num_rating_df.merge(avg_rating_df,on=\"Book-Title\")\n",
    "popular_df"
   ]
  },
  {
   "cell_type": "code",
   "execution_count": 90,
   "id": "b52a6d3c",
   "metadata": {},
   "outputs": [
    {
     "data": {
      "text/html": [
       "<div>\n",
       "<style scoped>\n",
       "    .dataframe tbody tr th:only-of-type {\n",
       "        vertical-align: middle;\n",
       "    }\n",
       "\n",
       "    .dataframe tbody tr th {\n",
       "        vertical-align: top;\n",
       "    }\n",
       "\n",
       "    .dataframe thead th {\n",
       "        text-align: right;\n",
       "    }\n",
       "</style>\n",
       "<table border=\"1\" class=\"dataframe\">\n",
       "  <thead>\n",
       "    <tr style=\"text-align: right;\">\n",
       "      <th></th>\n",
       "      <th>Book-Title</th>\n",
       "      <th>num_rating</th>\n",
       "      <th>avg_rating</th>\n",
       "    </tr>\n",
       "  </thead>\n",
       "  <tbody>\n",
       "    <tr>\n",
       "      <th>45359</th>\n",
       "      <td>Harry Potter and the Prisoner of Azkaban (Book 3)</td>\n",
       "      <td>277</td>\n",
       "      <td>9.043321</td>\n",
       "    </tr>\n",
       "    <tr>\n",
       "      <th>123586</th>\n",
       "      <td>To Kill a Mockingbird</td>\n",
       "      <td>267</td>\n",
       "      <td>8.977528</td>\n",
       "    </tr>\n",
       "    <tr>\n",
       "      <th>45369</th>\n",
       "      <td>Harry Potter and the Sorcerer's Stone (Harry P...</td>\n",
       "      <td>313</td>\n",
       "      <td>8.939297</td>\n",
       "    </tr>\n",
       "    <tr>\n",
       "      <th>45340</th>\n",
       "      <td>Harry Potter and the Chamber of Secrets (Book 2)</td>\n",
       "      <td>326</td>\n",
       "      <td>8.840491</td>\n",
       "    </tr>\n",
       "    <tr>\n",
       "      <th>116106</th>\n",
       "      <td>The Secret Life of Bees</td>\n",
       "      <td>406</td>\n",
       "      <td>8.477833</td>\n",
       "    </tr>\n",
       "    <tr>\n",
       "      <th>102619</th>\n",
       "      <td>The Da Vinci Code</td>\n",
       "      <td>494</td>\n",
       "      <td>8.439271</td>\n",
       "    </tr>\n",
       "    <tr>\n",
       "      <th>110144</th>\n",
       "      <td>The Lovely Bones: A Novel</td>\n",
       "      <td>707</td>\n",
       "      <td>8.185290</td>\n",
       "    </tr>\n",
       "    <tr>\n",
       "      <th>114870</th>\n",
       "      <td>The Red Tent (Bestselling Backlist)</td>\n",
       "      <td>383</td>\n",
       "      <td>8.182768</td>\n",
       "    </tr>\n",
       "    <tr>\n",
       "      <th>131234</th>\n",
       "      <td>Where the Heart Is (Oprah's Book Club (Paperba...</td>\n",
       "      <td>295</td>\n",
       "      <td>8.142373</td>\n",
       "    </tr>\n",
       "    <tr>\n",
       "      <th>60637</th>\n",
       "      <td>Life of Pi</td>\n",
       "      <td>336</td>\n",
       "      <td>8.080357</td>\n",
       "    </tr>\n",
       "  </tbody>\n",
       "</table>\n",
       "</div>"
      ],
      "text/plain": [
       "                                               Book-Title  num_rating  \\\n",
       "45359   Harry Potter and the Prisoner of Azkaban (Book 3)         277   \n",
       "123586                              To Kill a Mockingbird         267   \n",
       "45369   Harry Potter and the Sorcerer's Stone (Harry P...         313   \n",
       "45340    Harry Potter and the Chamber of Secrets (Book 2)         326   \n",
       "116106                            The Secret Life of Bees         406   \n",
       "102619                                  The Da Vinci Code         494   \n",
       "110144                          The Lovely Bones: A Novel         707   \n",
       "114870                The Red Tent (Bestselling Backlist)         383   \n",
       "131234  Where the Heart Is (Oprah's Book Club (Paperba...         295   \n",
       "60637                                          Life of Pi         336   \n",
       "\n",
       "        avg_rating  \n",
       "45359     9.043321  \n",
       "123586    8.977528  \n",
       "45369     8.939297  \n",
       "45340     8.840491  \n",
       "116106    8.477833  \n",
       "102619    8.439271  \n",
       "110144    8.185290  \n",
       "114870    8.182768  \n",
       "131234    8.142373  \n",
       "60637     8.080357  "
      ]
     },
     "execution_count": 90,
     "metadata": {},
     "output_type": "execute_result"
    }
   ],
   "source": [
    "# Top 10 highly rated books\n",
    "popupar_df=popular_df[popular_df[\"num_rating\"]>250].sort_values(\"avg_rating\",ascending=False).head(10)\n",
    "popupar_df"
   ]
  },
  {
   "cell_type": "markdown",
   "id": "ebe48e9b",
   "metadata": {},
   "source": [
    "### Listing the books which are prefered by the countries"
   ]
  },
  {
   "cell_type": "code",
   "execution_count": 91,
   "id": "83d3a8e7",
   "metadata": {
    "scrolled": true
   },
   "outputs": [
    {
     "data": {
      "text/html": [
       "<div>\n",
       "<style scoped>\n",
       "    .dataframe tbody tr th:only-of-type {\n",
       "        vertical-align: middle;\n",
       "    }\n",
       "\n",
       "    .dataframe tbody tr th {\n",
       "        vertical-align: top;\n",
       "    }\n",
       "\n",
       "    .dataframe thead th {\n",
       "        text-align: right;\n",
       "    }\n",
       "</style>\n",
       "<table border=\"1\" class=\"dataframe\">\n",
       "  <thead>\n",
       "    <tr style=\"text-align: right;\">\n",
       "      <th></th>\n",
       "      <th>Country</th>\n",
       "      <th>Book-Title</th>\n",
       "      <th>count</th>\n",
       "    </tr>\n",
       "  </thead>\n",
       "  <tbody>\n",
       "    <tr>\n",
       "      <th>0</th>\n",
       "      <td>USA</td>\n",
       "      <td>The Lovely Bones: A Novel</td>\n",
       "      <td>531</td>\n",
       "    </tr>\n",
       "    <tr>\n",
       "      <th>1</th>\n",
       "      <td>USA</td>\n",
       "      <td>The Da Vinci Code</td>\n",
       "      <td>396</td>\n",
       "    </tr>\n",
       "    <tr>\n",
       "      <th>2</th>\n",
       "      <td>USA</td>\n",
       "      <td>The Secret Life of Bees</td>\n",
       "      <td>360</td>\n",
       "    </tr>\n",
       "    <tr>\n",
       "      <th>3</th>\n",
       "      <td>USA</td>\n",
       "      <td>The Nanny Diaries: A Novel</td>\n",
       "      <td>321</td>\n",
       "    </tr>\n",
       "    <tr>\n",
       "      <th>4</th>\n",
       "      <td>USA</td>\n",
       "      <td>A Painted House</td>\n",
       "      <td>309</td>\n",
       "    </tr>\n",
       "    <tr>\n",
       "      <th>...</th>\n",
       "      <td>...</td>\n",
       "      <td>...</td>\n",
       "      <td>...</td>\n",
       "    </tr>\n",
       "    <tr>\n",
       "      <th>183987</th>\n",
       "      <td>NETHERLANDS</td>\n",
       "      <td>Endangered Species (Anna Pigeon Mysteries (Pap...</td>\n",
       "      <td>1</td>\n",
       "    </tr>\n",
       "    <tr>\n",
       "      <th>183988</th>\n",
       "      <td>NETHERLANDS</td>\n",
       "      <td>En wat gebeurt en dan met mij: Kinderen over e...</td>\n",
       "      <td>1</td>\n",
       "    </tr>\n",
       "    <tr>\n",
       "      <th>183989</th>\n",
       "      <td>NETHERLANDS</td>\n",
       "      <td>En dan zou jij zeggen</td>\n",
       "      <td>1</td>\n",
       "    </tr>\n",
       "    <tr>\n",
       "      <th>183990</th>\n",
       "      <td>NETHERLANDS</td>\n",
       "      <td>Empty Promises</td>\n",
       "      <td>1</td>\n",
       "    </tr>\n",
       "    <tr>\n",
       "      <th>183991</th>\n",
       "      <td>USA</td>\n",
       "      <td>A Letter to Mrs. Roosevelt</td>\n",
       "      <td>1</td>\n",
       "    </tr>\n",
       "  </tbody>\n",
       "</table>\n",
       "<p>183992 rows × 3 columns</p>\n",
       "</div>"
      ],
      "text/plain": [
       "             Country                                         Book-Title  count\n",
       "0                USA                          The Lovely Bones: A Novel    531\n",
       "1                USA                                  The Da Vinci Code    396\n",
       "2                USA                            The Secret Life of Bees    360\n",
       "3                USA                         The Nanny Diaries: A Novel    321\n",
       "4                USA                                    A Painted House    309\n",
       "...              ...                                                ...    ...\n",
       "183987   NETHERLANDS  Endangered Species (Anna Pigeon Mysteries (Pap...      1\n",
       "183988   NETHERLANDS  En wat gebeurt en dan met mij: Kinderen over e...      1\n",
       "183989   NETHERLANDS                              En dan zou jij zeggen      1\n",
       "183990   NETHERLANDS                                     Empty Promises      1\n",
       "183991           USA                         A Letter to Mrs. Roosevelt      1\n",
       "\n",
       "[183992 rows x 3 columns]"
      ]
     },
     "execution_count": 91,
     "metadata": {},
     "output_type": "execute_result"
    }
   ],
   "source": [
    "country_pref=pd.DataFrame(df.groupby(['Country'])['Book-Title'].value_counts()).rename(columns={'Book-Title':'count'}).sort_values(by='count', ascending=False)\n",
    "country_pref=country_pref.reset_index()\n",
    "country_pref"
   ]
  },
  {
   "cell_type": "code",
   "execution_count": 92,
   "id": "95a5f83f",
   "metadata": {},
   "outputs": [
    {
     "data": {
      "text/html": [
       "<div>\n",
       "<style scoped>\n",
       "    .dataframe tbody tr th:only-of-type {\n",
       "        vertical-align: middle;\n",
       "    }\n",
       "\n",
       "    .dataframe tbody tr th {\n",
       "        vertical-align: top;\n",
       "    }\n",
       "\n",
       "    .dataframe thead th {\n",
       "        text-align: right;\n",
       "    }\n",
       "</style>\n",
       "<table border=\"1\" class=\"dataframe\">\n",
       "  <thead>\n",
       "    <tr style=\"text-align: right;\">\n",
       "      <th></th>\n",
       "      <th>Country</th>\n",
       "      <th>Book-Title</th>\n",
       "      <th>count</th>\n",
       "      <th>avg_rating</th>\n",
       "    </tr>\n",
       "  </thead>\n",
       "  <tbody>\n",
       "    <tr>\n",
       "      <th>0</th>\n",
       "      <td>USA</td>\n",
       "      <td>The Lovely Bones: A Novel</td>\n",
       "      <td>531</td>\n",
       "      <td>8.18529</td>\n",
       "    </tr>\n",
       "    <tr>\n",
       "      <th>1</th>\n",
       "      <td>CANADA</td>\n",
       "      <td>The Lovely Bones: A Novel</td>\n",
       "      <td>62</td>\n",
       "      <td>8.18529</td>\n",
       "    </tr>\n",
       "    <tr>\n",
       "      <th>2</th>\n",
       "      <td>UNKNOWN</td>\n",
       "      <td>The Lovely Bones: A Novel</td>\n",
       "      <td>41</td>\n",
       "      <td>8.18529</td>\n",
       "    </tr>\n",
       "    <tr>\n",
       "      <th>3</th>\n",
       "      <td>UNITED KINGDOM</td>\n",
       "      <td>The Lovely Bones: A Novel</td>\n",
       "      <td>14</td>\n",
       "      <td>8.18529</td>\n",
       "    </tr>\n",
       "    <tr>\n",
       "      <th>4</th>\n",
       "      <td>AUSTRALIA</td>\n",
       "      <td>The Lovely Bones: A Novel</td>\n",
       "      <td>11</td>\n",
       "      <td>8.18529</td>\n",
       "    </tr>\n",
       "    <tr>\n",
       "      <th>...</th>\n",
       "      <td>...</td>\n",
       "      <td>...</td>\n",
       "      <td>...</td>\n",
       "      <td>...</td>\n",
       "    </tr>\n",
       "    <tr>\n",
       "      <th>183987</th>\n",
       "      <td>NETHERLANDS</td>\n",
       "      <td>FEEL FREE</td>\n",
       "      <td>1</td>\n",
       "      <td>7.00000</td>\n",
       "    </tr>\n",
       "    <tr>\n",
       "      <th>183988</th>\n",
       "      <td>NETHERLANDS</td>\n",
       "      <td>Evolve : Succeeding in the Digital Culture of ...</td>\n",
       "      <td>1</td>\n",
       "      <td>7.00000</td>\n",
       "    </tr>\n",
       "    <tr>\n",
       "      <th>183989</th>\n",
       "      <td>NETHERLANDS</td>\n",
       "      <td>Envoy from Mirror City: An Autobiography (Envo...</td>\n",
       "      <td>1</td>\n",
       "      <td>9.00000</td>\n",
       "    </tr>\n",
       "    <tr>\n",
       "      <th>183990</th>\n",
       "      <td>NETHERLANDS</td>\n",
       "      <td>England Their England (Picador Books)</td>\n",
       "      <td>1</td>\n",
       "      <td>8.00000</td>\n",
       "    </tr>\n",
       "    <tr>\n",
       "      <th>183991</th>\n",
       "      <td>NETHERLANDS</td>\n",
       "      <td>En dan zou jij zeggen</td>\n",
       "      <td>1</td>\n",
       "      <td>6.00000</td>\n",
       "    </tr>\n",
       "  </tbody>\n",
       "</table>\n",
       "<p>183992 rows × 4 columns</p>\n",
       "</div>"
      ],
      "text/plain": [
       "                Country                                         Book-Title  \\\n",
       "0                   USA                          The Lovely Bones: A Novel   \n",
       "1                CANADA                          The Lovely Bones: A Novel   \n",
       "2               UNKNOWN                          The Lovely Bones: A Novel   \n",
       "3        UNITED KINGDOM                          The Lovely Bones: A Novel   \n",
       "4             AUSTRALIA                          The Lovely Bones: A Novel   \n",
       "...                 ...                                                ...   \n",
       "183987      NETHERLANDS                                          FEEL FREE   \n",
       "183988      NETHERLANDS  Evolve : Succeeding in the Digital Culture of ...   \n",
       "183989      NETHERLANDS  Envoy from Mirror City: An Autobiography (Envo...   \n",
       "183990      NETHERLANDS              England Their England (Picador Books)   \n",
       "183991      NETHERLANDS                              En dan zou jij zeggen   \n",
       "\n",
       "        count  avg_rating  \n",
       "0         531     8.18529  \n",
       "1          62     8.18529  \n",
       "2          41     8.18529  \n",
       "3          14     8.18529  \n",
       "4          11     8.18529  \n",
       "...       ...         ...  \n",
       "183987      1     7.00000  \n",
       "183988      1     7.00000  \n",
       "183989      1     9.00000  \n",
       "183990      1     8.00000  \n",
       "183991      1     6.00000  \n",
       "\n",
       "[183992 rows x 4 columns]"
      ]
     },
     "execution_count": 92,
     "metadata": {},
     "output_type": "execute_result"
    }
   ],
   "source": [
    "# we will merge the country_pref and avg_rating_df\n",
    "rated_country_df=country_pref.merge(avg_rating_df,on=\"Book-Title\")\n",
    "rated_country_df"
   ]
  },
  {
   "cell_type": "markdown",
   "id": "f38341ec",
   "metadata": {},
   "source": [
    "### Listing the author names which are prefered by the countries"
   ]
  },
  {
   "cell_type": "code",
   "execution_count": 93,
   "id": "c0e69bdd",
   "metadata": {},
   "outputs": [
    {
     "data": {
      "text/html": [
       "<div>\n",
       "<style scoped>\n",
       "    .dataframe tbody tr th:only-of-type {\n",
       "        vertical-align: middle;\n",
       "    }\n",
       "\n",
       "    .dataframe tbody tr th {\n",
       "        vertical-align: top;\n",
       "    }\n",
       "\n",
       "    .dataframe thead th {\n",
       "        text-align: right;\n",
       "    }\n",
       "</style>\n",
       "<table border=\"1\" class=\"dataframe\">\n",
       "  <thead>\n",
       "    <tr style=\"text-align: right;\">\n",
       "      <th></th>\n",
       "      <th>Country</th>\n",
       "      <th>Book-Author</th>\n",
       "      <th>count</th>\n",
       "    </tr>\n",
       "  </thead>\n",
       "  <tbody>\n",
       "    <tr>\n",
       "      <th>0</th>\n",
       "      <td>USA</td>\n",
       "      <td>Stephen King</td>\n",
       "      <td>3321</td>\n",
       "    </tr>\n",
       "    <tr>\n",
       "      <th>1</th>\n",
       "      <td>USA</td>\n",
       "      <td>Nora Roberts</td>\n",
       "      <td>2437</td>\n",
       "    </tr>\n",
       "    <tr>\n",
       "      <th>2</th>\n",
       "      <td>USA</td>\n",
       "      <td>James Patterson</td>\n",
       "      <td>1918</td>\n",
       "    </tr>\n",
       "    <tr>\n",
       "      <th>3</th>\n",
       "      <td>USA</td>\n",
       "      <td>John Grisham</td>\n",
       "      <td>1836</td>\n",
       "    </tr>\n",
       "    <tr>\n",
       "      <th>4</th>\n",
       "      <td>USA</td>\n",
       "      <td>J. K. Rowling</td>\n",
       "      <td>1340</td>\n",
       "    </tr>\n",
       "    <tr>\n",
       "      <th>...</th>\n",
       "      <td>...</td>\n",
       "      <td>...</td>\n",
       "      <td>...</td>\n",
       "    </tr>\n",
       "    <tr>\n",
       "      <th>100904</th>\n",
       "      <td>NETHERLANDS</td>\n",
       "      <td>Margaret Dickinson</td>\n",
       "      <td>1</td>\n",
       "    </tr>\n",
       "    <tr>\n",
       "      <th>100905</th>\n",
       "      <td>NETHERLANDS</td>\n",
       "      <td>Marcelle Clements</td>\n",
       "      <td>1</td>\n",
       "    </tr>\n",
       "    <tr>\n",
       "      <th>100906</th>\n",
       "      <td>NETHERLANDS</td>\n",
       "      <td>Marc Levy</td>\n",
       "      <td>1</td>\n",
       "    </tr>\n",
       "    <tr>\n",
       "      <th>100907</th>\n",
       "      <td>NETHERLANDS</td>\n",
       "      <td>Marc Behm</td>\n",
       "      <td>1</td>\n",
       "    </tr>\n",
       "    <tr>\n",
       "      <th>100908</th>\n",
       "      <td>USA</td>\n",
       "      <td>C. COCO DE YOUNG</td>\n",
       "      <td>1</td>\n",
       "    </tr>\n",
       "  </tbody>\n",
       "</table>\n",
       "<p>100909 rows × 3 columns</p>\n",
       "</div>"
      ],
      "text/plain": [
       "             Country         Book-Author  count\n",
       "0                USA        Stephen King   3321\n",
       "1                USA        Nora Roberts   2437\n",
       "2                USA     James Patterson   1918\n",
       "3                USA        John Grisham   1836\n",
       "4                USA       J. K. Rowling   1340\n",
       "...              ...                 ...    ...\n",
       "100904   NETHERLANDS  Margaret Dickinson      1\n",
       "100905   NETHERLANDS   Marcelle Clements      1\n",
       "100906   NETHERLANDS           Marc Levy      1\n",
       "100907   NETHERLANDS           Marc Behm      1\n",
       "100908           USA    C. COCO DE YOUNG      1\n",
       "\n",
       "[100909 rows x 3 columns]"
      ]
     },
     "execution_count": 93,
     "metadata": {},
     "output_type": "execute_result"
    }
   ],
   "source": [
    "pd.DataFrame(df.groupby(['Country'])['Book-Author'].value_counts()).rename(columns={'Book-Author':'count'}).sort_values(by='count', ascending=False).reset_index()"
   ]
  },
  {
   "cell_type": "markdown",
   "id": "6afd63ae",
   "metadata": {},
   "source": [
    "### Most read book in Top-10 book reading countries"
   ]
  },
  {
   "cell_type": "code",
   "execution_count": 94,
   "id": "9299c1cb",
   "metadata": {},
   "outputs": [],
   "source": [
    "#Creating List of top-10 country by book readers count\n",
    "top_10_countries = df['Country'].value_counts().nlargest(10).index\n",
    "\n",
    "#Grouping by Country and Creating dataframe for each \n",
    "grouped_dataframes = {}\n",
    "for country in top_10_countries:\n",
    "    grouped_dataframes[country] = df[df['Country'] == country]\n",
    "    grouped_dataframes[country].reset_index(inplace=True)\n",
    "    grouped_dataframes[country]['Age'].astype(int)\n",
    "\n",
    "#Creating list of most read book for each country\n",
    "book_most={}\n",
    "for i in top_10_countries:\n",
    "    book_most[i]=grouped_dataframes[i]['Book-Title'].value_counts().nlargest(1).index"
   ]
  },
  {
   "cell_type": "code",
   "execution_count": 95,
   "id": "40a65f2a",
   "metadata": {},
   "outputs": [
    {
     "name": "stdout",
     "output_type": "stream",
     "text": [
      "Most read Book in   USA  country is  The Lovely Bones: A Novel \n",
      "\n",
      "Most read Book in   CANADA  country is  The Lovely Bones: A Novel \n",
      "\n",
      "Most read Book in   UNITED KINGDOM  country is  Bridget Jones's Diary \n",
      "\n",
      "Most read Book in   GERMANY  country is  Russendisko. \n",
      "\n",
      "Most read Book in  UNKNOWN  country is  The Lovely Bones: A Novel \n",
      "\n",
      "Most read Book in   SPAIN  country is  El Hobbit \n",
      "\n",
      "Most read Book in   AUSTRALIA  country is  Wild Animus \n",
      "\n",
      "Most read Book in   N/A  country is  Pet Sematary \n",
      "\n",
      "Most read Book in   FRANCE  country is  Je Voudrais Que Quelqu'un M'Attende Quelque Part \n",
      "\n",
      "Most read Book in   PORTUGAL  country is  Coraline \n",
      "\n"
     ]
    }
   ],
   "source": [
    "for i in top_10_countries:\n",
    "    print(\"Most read Book in \",i,' country is ',book_most[i][0],'\\n')"
   ]
  },
  {
   "cell_type": "markdown",
   "id": "78b1da22",
   "metadata": {},
   "source": [
    "### Top rated book in Top-10 book reading countries"
   ]
  },
  {
   "cell_type": "code",
   "execution_count": 96,
   "id": "776fa49a",
   "metadata": {},
   "outputs": [
    {
     "data": {
      "text/plain": [
       "The Lovely Bones: A Novel                                                                             531\n",
       "The Da Vinci Code                                                                                     396\n",
       "The Secret Life of Bees                                                                               360\n",
       "The Nanny Diaries: A Novel                                                                            321\n",
       "A Painted House                                                                                       309\n",
       "                                                                                                     ... \n",
       "Cato Wahl                                                                                               1\n",
       "Daughters of the Desert: Stories of Remarkable Women from Christian, Jewish, and Muslim Traditions      1\n",
       "Boss, The Beauty, And The Bargain (Harlequin Silhouette Desire, No 1122)                                1\n",
       "His Trophy Mistress (Presents, 2249)                                                                    1\n",
       "Anglo-American Cataloguing Rules                                                                        1\n",
       "Name: Book-Title, Length: 93775, dtype: int64"
      ]
     },
     "execution_count": 96,
     "metadata": {},
     "output_type": "execute_result"
    }
   ],
   "source": [
    "#Majority top reading country have same book. Enter country name of top_10_countries list and Verify value_counts of each book\n",
    "grouped_dataframes[' USA']['Book-Title'].value_counts()"
   ]
  },
  {
   "cell_type": "code",
   "execution_count": 97,
   "id": "e17ffd7f",
   "metadata": {},
   "outputs": [],
   "source": [
    "book_ratings={}\n",
    "for i in top_10_countries:\n",
    "    #Create Dataframe with average rating received by each book in specific country dataframe\n",
    "    book_ratings[i] = grouped_dataframes[i].groupby('Book-Title')['Book-Rating'].mean().reset_index() \n",
    "    book_ratings[i].sort_values('Book-Rating') #Sort new create dataframe by rating"
   ]
  },
  {
   "cell_type": "code",
   "execution_count": 98,
   "id": "ac841606",
   "metadata": {},
   "outputs": [
    {
     "name": "stdout",
     "output_type": "stream",
     "text": [
      "Highest rated Book in   USA  country is   (A Nutshell handbook) \n",
      "\n",
      "Highest rated Book in   CANADA  country is   Little Comic Shop of Horrors (Give Yourself Goosebumps, Book 17) \n",
      "\n",
      "Highest rated Book in   UNITED KINGDOM  country is   Travel Companion Chile and Easter Island (Travel Companion) \n",
      "\n",
      "Highest rated Book in   GERMANY  country is  ' Mein verwundetes Herz'. Das Leben der Lilli Jahn 1900 - 1944. \n",
      "\n",
      "Highest rated Book in  UNKNOWN  country is  1,911 Best Things Anybody Ever Said \n",
      "\n",
      "Highest rated Book in   SPAIN  country is  --Olivetti, Moulinex, Chaffoteaux et Maury (Quaderns crema. Narrativa) \n",
      "\n",
      "Highest rated Book in   AUSTRALIA  country is  ' Allo 'Allo: the War Diaries of Rene Artois \n",
      "\n",
      "Highest rated Book in   N/A  country is  'Eine gute Frau hat keinen Kopf'. EuropÃÂ¤ische SprichwÃÂ¶rter ÃÂ¼ber Frauen. \n",
      "\n",
      "Highest rated Book in   FRANCE  country is  101 expÃÂ©riences de philosophie quotidienne \n",
      "\n",
      "Highest rated Book in   PORTUGAL  country is  'Salem's Lot \n",
      "\n"
     ]
    }
   ],
   "source": [
    "for i in top_10_countries:\n",
    "    print(\"Highest rated Book in \",i,' country is ',book_ratings[i]['Book-Title'][0],'\\n')"
   ]
  },
  {
   "cell_type": "markdown",
   "id": "7770d79f",
   "metadata": {},
   "source": [
    "### Most read book by Age-Group in each country(Top-10 book reading countries)"
   ]
  },
  {
   "cell_type": "code",
   "execution_count": 99,
   "id": "8f57c33d",
   "metadata": {},
   "outputs": [],
   "source": [
    "'''Grouping Demography by Age\n",
    "children = 0 to 12\n",
    "teen=13 to 19\n",
    "youth=20 to 40\n",
    "Middle adulthood = 40 to 60\n",
    "elderly = 60 to 80'''\n",
    "\n",
    "for i in top_10_countries:\n",
    "    grouped_dataframes[i]['age_group'] = np.select(\n",
    "        [grouped_dataframes[i]['Age'] < 12, (grouped_dataframes[i]['Age'] >= 13) & (grouped_dataframes[i]['Age'] <= 19),(grouped_dataframes[i]['Age'] >20) & (grouped_dataframes[i]['Age'] <= 40),(grouped_dataframes[i]['Age'] > 40) & (grouped_dataframes[i]['Age'] <= 60),grouped_dataframes[i]['Age'] > 60], \n",
    "        ['Children', 'Teen', 'youth','Middle Adulthood','elder'], default=None)"
   ]
  },
  {
   "cell_type": "code",
   "execution_count": 100,
   "id": "3aa3dbce",
   "metadata": {},
   "outputs": [],
   "source": [
    "df_grouped_Age={}\n",
    "for i in top_10_countries:\n",
    "    df_grouped_Age[i] = grouped_dataframes[i].groupby('age_group')"
   ]
  },
  {
   "cell_type": "code",
   "execution_count": 101,
   "id": "eeeb1ff4",
   "metadata": {},
   "outputs": [
    {
     "name": "stdout",
     "output_type": "stream",
     "text": [
      "Most read book by age_group in   USA is\n",
      "age_group\n",
      "Children            [Harry Potter and the Sorcerer's Stone (Harry ...\n",
      "Middle Adulthood                                    The Da Vinci Code\n",
      "Teen                  [The Catcher in the Rye, To Kill a Mockingbird]\n",
      "elder                                               The Da Vinci Code\n",
      "youth                                       The Lovely Bones: A Novel\n",
      "Name: Book-Title, dtype: object \n",
      "\n",
      "\n",
      "Most read book by age_group in   CANADA is\n",
      "age_group\n",
      "Children            [Artemis Fowl (Artemis Fowl, Book 1), Captain ...\n",
      "Middle Adulthood                            The Lovely Bones: A Novel\n",
      "Teen                                           The Catcher in the Rye\n",
      "elder               [A Prayer for Owen Meany, A Time to Kill, Ange...\n",
      "youth                                       The Lovely Bones: A Novel\n",
      "Name: Book-Title, dtype: object \n",
      "\n",
      "\n",
      "Most read book by age_group in   UNITED KINGDOM is\n",
      "age_group\n",
      "Children                              The Secret Life of Sally Tomato\n",
      "Middle Adulthood                                                 Free\n",
      "Teen                                                      Wild Animus\n",
      "elder               [Bridget Jones's Diary, Call of Cthulhu, Dracu...\n",
      "youth                                           Bridget Jones's Diary\n",
      "Name: Book-Title, dtype: object \n",
      "\n",
      "\n",
      "Most read book by age_group in   GERMANY is\n",
      "age_group\n",
      "Children            ['Mit Verlaub, Sie sind ein Arschloch.' Joschk...\n",
      "Middle Adulthood                           [Der Campus., Illuminati.]\n",
      "Teen                [Der Kleine Hobbit, Harry Potter und die Kamme...\n",
      "elder                                                   Die Tauschung\n",
      "youth                                                    Russendisko.\n",
      "Name: Book-Title, dtype: object \n",
      "\n",
      "\n",
      "Most read book by age_group in  UNKNOWN is\n",
      "age_group\n",
      "Children            [Captain Underpants and the Attack of the Talk...\n",
      "Middle Adulthood                            The Lovely Bones: A Novel\n",
      "Teen                  The Golden Compass (His Dark Materials, Book 1)\n",
      "elder                                                     The Summons\n",
      "youth                                       The Lovely Bones: A Novel\n",
      "Name: Book-Title, dtype: object \n",
      "\n",
      "\n",
      "Most read book by age_group in   SPAIN is\n",
      "age_group\n",
      "Children            [El mÃ©dico, Historia De Una Gaviota Y Del Gat...\n",
      "Middle Adulthood           La Sombra Del VientoThe Shadow Of The Wind\n",
      "Teen                                                        El Hobbit\n",
      "elder               [A Los Pies De Omphalos, Almas Gemelas, Amor P...\n",
      "youth                                                       El Hobbit\n",
      "Name: Book-Title, dtype: object \n",
      "\n",
      "\n",
      "Most read book by age_group in   AUSTRALIA is\n",
      "age_group\n",
      "Children            [84 Charing Cross Road, A Case of Need, A Dams...\n",
      "Middle Adulthood                                          Wild Animus\n",
      "Teen                                                      Wild Animus\n",
      "elder                                                     Wild Animus\n",
      "youth                                                     Wild Animus\n",
      "Name: Book-Title, dtype: object \n",
      "\n",
      "\n",
      "Most read book by age_group in   N/A is\n",
      "age_group\n",
      "Middle Adulthood    [AN ACCIDENTAL MP, Ricochet baby, The Hiding P...\n",
      "Teen                Chocolate For A Teens Soul : Lifechanging Stor...\n",
      "youth                                                    Pet Sematary\n",
      "Name: Book-Title, dtype: object \n",
      "\n",
      "\n",
      "Most read book by age_group in   FRANCE is\n",
      "age_group\n",
      "Middle Adulthood    [Au bonheur des ogres (Collectiom Folio), Jour...\n",
      "Teen                [Les Thanatonautes, Pourquoi j'ai mangÃÂ© mon ...\n",
      "elder               [A la recherche des racines : Anthologie perso...\n",
      "youth                Je Voudrais Que Quelqu'un M'Attende Quelque Part\n",
      "Name: Book-Title, dtype: object \n",
      "\n",
      "\n",
      "Most read book by age_group in   PORTUGAL is\n",
      "age_group\n",
      "Children            [Bambi's Hide and Seek (Step-Into-Reading, Ste...\n",
      "Middle Adulthood    [As mulheres deviam vir com livro de instruÃ§Ã...\n",
      "Teen                [Fagin the Jew : A Graphic Novel, Inventem-se ...\n",
      "youth                                                        Coraline\n",
      "Name: Book-Title, dtype: object \n",
      "\n",
      "\n"
     ]
    }
   ],
   "source": [
    "for i in top_10_countries:\n",
    "    print(\"Most read book by age_group in \",i,'is')\n",
    "    print(df_grouped_Age[i]['Book-Title'].agg(pd.Series.mode),'\\n\\n')"
   ]
  },
  {
   "cell_type": "code",
   "execution_count": 102,
   "id": "db45ac46",
   "metadata": {},
   "outputs": [
    {
     "data": {
      "image/png": "[encoded data removed]",
      "text/plain": [
       "<Figure size 2000x1400 with 10 Axes>"
      ]
     },
     "metadata": {},
     "output_type": "display_data"
    }
   ],
   "source": [
    "fig=plt.figure(figsize=(20,14))\n",
    "i=1\n",
    "for group  in ['children','teens','youth','middle adulthood','elder']:\n",
    "  age_df=df.loc[df['age_group']==group].groupby(['Book-Title']).agg(No_of_users=('User-ID','nunique'),total_rating=('Book-Rating','sum')).reset_index() \n",
    "  plt.subplot(5,2,i)\n",
    "  age_df.sort_values(by='No_of_users',ascending=False,inplace=True)\n",
    "  sns.barplot(x='No_of_users',y='Book-Title',palette='Paired',data=age_df.head(5))\n",
    "  plt.title('Top 5 Popular books among  {}'.format(group),size=16)\n",
    "  i+=1\n",
    "  plt.subplot(5,2,i)\n",
    "  age_df.sort_values(by='total_rating',ascending=False,inplace=True)\n",
    "  sns.barplot(x='total_rating',y='Book-Title',palette='Set2',data=age_df.head(5))\n",
    "  plt.title('Top rated books by {} '.format(group),size=16)\n",
    "  i+=1\n",
    "  \n",
    "plt.tight_layout()"
   ]
  },
  {
   "cell_type": "markdown",
   "id": "335d13ba",
   "metadata": {},
   "source": [
    "## Model Building"
   ]
  },
  {
   "cell_type": "markdown",
   "id": "98e587ef",
   "metadata": {},
   "source": [
    "### Popularity based Recommendation System(General Recommendation)"
   ]
  },
  {
   "cell_type": "code",
   "execution_count": 103,
   "id": "e572f48e",
   "metadata": {},
   "outputs": [
    {
     "data": {
      "text/html": [
       "<div>\n",
       "<style scoped>\n",
       "    .dataframe tbody tr th:only-of-type {\n",
       "        vertical-align: middle;\n",
       "    }\n",
       "\n",
       "    .dataframe tbody tr th {\n",
       "        vertical-align: top;\n",
       "    }\n",
       "\n",
       "    .dataframe thead th {\n",
       "        text-align: right;\n",
       "    }\n",
       "</style>\n",
       "<table border=\"1\" class=\"dataframe\">\n",
       "  <thead>\n",
       "    <tr style=\"text-align: right;\">\n",
       "      <th></th>\n",
       "      <th>Book-Title</th>\n",
       "      <th>Book-Author</th>\n",
       "      <th>Image-URL-M</th>\n",
       "      <th>num_rating</th>\n",
       "      <th>avg_rating</th>\n",
       "    </tr>\n",
       "  </thead>\n",
       "  <tbody>\n",
       "    <tr>\n",
       "      <th>0</th>\n",
       "      <td>Harry Potter and the Goblet of Fire (Book 4)</td>\n",
       "      <td>J. K. Rowling</td>\n",
       "      <td>http://images.amazon.com/images/P/0439139597.0...</td>\n",
       "      <td>247</td>\n",
       "      <td>9.125506</td>\n",
       "    </tr>\n",
       "    <tr>\n",
       "      <th>2</th>\n",
       "      <td>Harry Potter and the Prisoner of Azkaban (Book 3)</td>\n",
       "      <td>J. K. Rowling</td>\n",
       "      <td>http://images.amazon.com/images/P/0439136350.0...</td>\n",
       "      <td>277</td>\n",
       "      <td>9.043321</td>\n",
       "    </tr>\n",
       "    <tr>\n",
       "      <th>5</th>\n",
       "      <td>Harry Potter and the Order of the Phoenix (Boo...</td>\n",
       "      <td>J. K. Rowling</td>\n",
       "      <td>http://images.amazon.com/images/P/043935806X.0...</td>\n",
       "      <td>210</td>\n",
       "      <td>9.042857</td>\n",
       "    </tr>\n",
       "    <tr>\n",
       "      <th>8</th>\n",
       "      <td>To Kill a Mockingbird</td>\n",
       "      <td>Harper Lee</td>\n",
       "      <td>http://images.amazon.com/images/P/0446310786.0...</td>\n",
       "      <td>267</td>\n",
       "      <td>8.977528</td>\n",
       "    </tr>\n",
       "    <tr>\n",
       "      <th>16</th>\n",
       "      <td>Harry Potter and the Sorcerer's Stone (Harry P...</td>\n",
       "      <td>J. K. Rowling</td>\n",
       "      <td>http://images.amazon.com/images/P/059035342X.0...</td>\n",
       "      <td>313</td>\n",
       "      <td>8.939297</td>\n",
       "    </tr>\n",
       "  </tbody>\n",
       "</table>\n",
       "</div>"
      ],
      "text/plain": [
       "                                           Book-Title    Book-Author  \\\n",
       "0        Harry Potter and the Goblet of Fire (Book 4)  J. K. Rowling   \n",
       "2   Harry Potter and the Prisoner of Azkaban (Book 3)  J. K. Rowling   \n",
       "5   Harry Potter and the Order of the Phoenix (Boo...  J. K. Rowling   \n",
       "8                               To Kill a Mockingbird     Harper Lee   \n",
       "16  Harry Potter and the Sorcerer's Stone (Harry P...  J. K. Rowling   \n",
       "\n",
       "                                          Image-URL-M  num_rating  avg_rating  \n",
       "0   http://images.amazon.com/images/P/0439139597.0...         247    9.125506  \n",
       "2   http://images.amazon.com/images/P/0439136350.0...         277    9.043321  \n",
       "5   http://images.amazon.com/images/P/043935806X.0...         210    9.042857  \n",
       "8   http://images.amazon.com/images/P/0446310786.0...         267    8.977528  \n",
       "16  http://images.amazon.com/images/P/059035342X.0...         313    8.939297  "
      ]
     },
     "execution_count": 103,
     "metadata": {},
     "output_type": "execute_result"
    }
   ],
   "source": [
    "popularity_model=num_rating_df.merge(avg_rating_df,on=\"Book-Title\")\n",
    "# we will consider only those group whose rating is greater than 200\n",
    "popularity_model=popularity_model[popularity_model['num_rating']>=200].sort_values('avg_rating',ascending=False).head(50)\n",
    "popularity_model=popularity_model.merge(books,on=\"Book-Title\").drop_duplicates('Book-Title')[[\"Book-Title\",\"Book-Author\",\"Image-URL-M\",\"num_rating\",\"avg_rating\"]]\n",
    "popularity_model.head()"
   ]
  },
  {
   "cell_type": "code",
   "execution_count": 104,
   "id": "477ab187",
   "metadata": {},
   "outputs": [
    {
     "data": {
      "text/plain": [
       "(50, 5)"
      ]
     },
     "execution_count": 104,
     "metadata": {},
     "output_type": "execute_result"
    }
   ],
   "source": [
    "popularity_model.shape"
   ]
  },
  {
   "cell_type": "markdown",
   "id": "0b0bf416",
   "metadata": {},
   "source": [
    "### User based Model"
   ]
  },
  {
   "cell_type": "code",
   "execution_count": 105,
   "id": "bc81106a",
   "metadata": {},
   "outputs": [
    {
     "data": {
      "text/html": [
       "<div>\n",
       "<style scoped>\n",
       "    .dataframe tbody tr th:only-of-type {\n",
       "        vertical-align: middle;\n",
       "    }\n",
       "\n",
       "    .dataframe tbody tr th {\n",
       "        vertical-align: top;\n",
       "    }\n",
       "\n",
       "    .dataframe thead th {\n",
       "        text-align: right;\n",
       "    }\n",
       "</style>\n",
       "<table border=\"1\" class=\"dataframe\">\n",
       "  <thead>\n",
       "    <tr style=\"text-align: right;\">\n",
       "      <th></th>\n",
       "      <th>ISBN</th>\n",
       "      <th>Book-Title</th>\n",
       "      <th>Book-Author</th>\n",
       "      <th>Year-Of-Publication</th>\n",
       "      <th>Publisher</th>\n",
       "      <th>Image-URL-M</th>\n",
       "      <th>user_id</th>\n",
       "      <th>rating</th>\n",
       "    </tr>\n",
       "  </thead>\n",
       "  <tbody>\n",
       "    <tr>\n",
       "      <th>0</th>\n",
       "      <td>0002005018</td>\n",
       "      <td>Clara Callan</td>\n",
       "      <td>Richard Bruce Wright</td>\n",
       "      <td>2001</td>\n",
       "      <td>HarperFlamingo Canada</td>\n",
       "      <td>http://images.amazon.com/images/P/0002005018.0...</td>\n",
       "      <td>8</td>\n",
       "      <td>5</td>\n",
       "    </tr>\n",
       "    <tr>\n",
       "      <th>1</th>\n",
       "      <td>074322678X</td>\n",
       "      <td>Where You'll Find Me: And Other Stories</td>\n",
       "      <td>Ann Beattie</td>\n",
       "      <td>2002</td>\n",
       "      <td>Scribner</td>\n",
       "      <td>http://images.amazon.com/images/P/074322678X.0...</td>\n",
       "      <td>8</td>\n",
       "      <td>5</td>\n",
       "    </tr>\n",
       "    <tr>\n",
       "      <th>2</th>\n",
       "      <td>0887841740</td>\n",
       "      <td>The Middle Stories</td>\n",
       "      <td>Sheila Heti</td>\n",
       "      <td>2004</td>\n",
       "      <td>House of Anansi Press</td>\n",
       "      <td>http://images.amazon.com/images/P/0887841740.0...</td>\n",
       "      <td>8</td>\n",
       "      <td>5</td>\n",
       "    </tr>\n",
       "    <tr>\n",
       "      <th>3</th>\n",
       "      <td>1552041778</td>\n",
       "      <td>Jane Doe</td>\n",
       "      <td>R. J. Kaiser</td>\n",
       "      <td>1999</td>\n",
       "      <td>Mira Books</td>\n",
       "      <td>http://images.amazon.com/images/P/1552041778.0...</td>\n",
       "      <td>8</td>\n",
       "      <td>5</td>\n",
       "    </tr>\n",
       "    <tr>\n",
       "      <th>4</th>\n",
       "      <td>1567407781</td>\n",
       "      <td>The Witchfinder (Amos Walker Mystery Series)</td>\n",
       "      <td>Loren D. Estleman</td>\n",
       "      <td>1998</td>\n",
       "      <td>Brilliance Audio - Trade</td>\n",
       "      <td>http://images.amazon.com/images/P/1567407781.0...</td>\n",
       "      <td>8</td>\n",
       "      <td>6</td>\n",
       "    </tr>\n",
       "  </tbody>\n",
       "</table>\n",
       "</div>"
      ],
      "text/plain": [
       "         ISBN                                    Book-Title  \\\n",
       "0  0002005018                                  Clara Callan   \n",
       "1  074322678X       Where You'll Find Me: And Other Stories   \n",
       "2  0887841740                            The Middle Stories   \n",
       "3  1552041778                                      Jane Doe   \n",
       "4  1567407781  The Witchfinder (Amos Walker Mystery Series)   \n",
       "\n",
       "            Book-Author  Year-Of-Publication                 Publisher  \\\n",
       "0  Richard Bruce Wright                 2001     HarperFlamingo Canada   \n",
       "1           Ann Beattie                 2002                  Scribner   \n",
       "2           Sheila Heti                 2004     House of Anansi Press   \n",
       "3          R. J. Kaiser                 1999                Mira Books   \n",
       "4     Loren D. Estleman                 1998  Brilliance Audio - Trade   \n",
       "\n",
       "                                         Image-URL-M  user_id  rating  \n",
       "0  http://images.amazon.com/images/P/0002005018.0...        8       5  \n",
       "1  http://images.amazon.com/images/P/074322678X.0...        8       5  \n",
       "2  http://images.amazon.com/images/P/0887841740.0...        8       5  \n",
       "3  http://images.amazon.com/images/P/1552041778.0...        8       5  \n",
       "4  http://images.amazon.com/images/P/1567407781.0...        8       6  "
      ]
     },
     "execution_count": 105,
     "metadata": {},
     "output_type": "execute_result"
    }
   ],
   "source": [
    "# taking only needed columns\n",
    "dfs=df.drop([\"Country\",\"Age\",'age_group','Image-URL-S','Image-URL-L'], axis=1).rename(columns={\"User-ID\":\"user_id\",\"Book-Rating\":\"rating\"})\n",
    "dfs.head()"
   ]
  },
  {
   "cell_type": "code",
   "execution_count": 106,
   "id": "077d71f5",
   "metadata": {},
   "outputs": [],
   "source": [
    "user_model=num_rating_df.merge(avg_rating_df,on=\"Book-Title\")\n",
    "# selecting books having no of ratings greater than 100\n",
    "user_model.sort_values(by='num_rating', ascending=False).head()\n",
    "user_model= user_model[user_model['num_rating'] >= 250]\n",
    "user_models=dfs.merge(user_model, on='Book-Title', how='inner').drop_duplicates(['Book-Title','user_id']).sort_index().drop(['num_rating','avg_rating'],axis=1)\n",
    "user_models_1=user_models.groupby('user_id').count()[\"rating\"].reset_index().sort_values(by='rating',ascending=False)\n",
    "user_models_1=user_models_1[user_models_1['rating'] >= 3].merge(user_models, on='user_id', how='inner').drop(['rating_x'],axis=1).rename(columns={'rating_y':'rating'})"
   ]
  },
  {
   "cell_type": "markdown",
   "id": "8223b894",
   "metadata": {},
   "source": [
    "### Recommendations"
   ]
  },
  {
   "cell_type": "code",
   "execution_count": 107,
   "id": "41d1aa39",
   "metadata": {},
   "outputs": [],
   "source": [
    "def recommend(target_user):\n",
    "    user_books=user_models[user_models['user_id']==target_user]\n",
    "    new_user=user_books[['user_id', 'Book-Title', 'rating']]\n",
    "    other_user = user_models[user_models['Book-Title'].isin(new_user['Book-Title'].values)]\n",
    "    other_users=other_user[other_user['user_id'] != target_user].drop([\"Year-Of-Publication\",'ISBN','Publisher','Image-URL-M','Book-Author'], axis=1)\n",
    "    users_mutual_books = other_users.groupby('user_id')\n",
    "    top_users = sorted(users_mutual_books, key=lambda x: len(x[1]), reverse=True)[:50]\n",
    "    \n",
    "    from scipy.stats import pearsonr\n",
    "    pearson_corr = {}\n",
    "    for user_id, book_s in top_users:\n",
    "        # Books should be sorted\n",
    "        books_new = book_s.sort_values(by='user_id')\n",
    "        book_list = books_new['Book-Title'].values\n",
    "\n",
    "        new_user_ratings = new_user[new_user['Book-Title'].isin(book_list)]['rating'].values \n",
    "        user_ratings = books_new[books_new['Book-Title'].isin(book_list)]['rating'].values\n",
    "\n",
    "        corr = pearsonr(new_user_ratings, user_ratings)\n",
    "        pearson_corr[user_id] = corr[0]\n",
    "    pearson_df = pd.DataFrame(columns=['user_id', 'similarity_index'], data=pearson_corr.items())\n",
    "    pearson_df = pearson_df.sort_values(by='similarity_index', ascending=False)[:5]\n",
    "    users_rating = pearson_df.merge(user_models, on='user_id', how='inner')\n",
    "    users_rating['weighted_rating'] = users_rating['rating'] * users_rating['similarity_index']\n",
    "\n",
    "    #removing books that already read by target\n",
    "    users_ratings = users_rating.merge(new_user, how=\"left\", on=[\"Book-Title\"], indicator=True)\n",
    "    users_ratings=users_ratings[users_ratings['_merge']=='left_only'].drop(['user_id_y', 'rating_y','_merge'],\n",
    "                            axis=1).rename(columns={\"user_id_x\":\"user_id\",'rating_x':\"rating\"})\n",
    "    grouped_ratings = users_ratings.groupby('Book-Title').sum()[['similarity_index', 'weighted_rating']]\n",
    "    recommend_books = pd.DataFrame()\n",
    "\n",
    "    # Add average recommendation score\n",
    "    recommend_books['avg_reccomend_score'] = grouped_ratings['weighted_rating']/grouped_ratings['similarity_index']\n",
    "    recommend_books['Book-Title'] = grouped_ratings.index\n",
    "    recommend_books = recommend_books.reset_index(drop=True).drop_duplicates('Book-Title')\n",
    "    recommend_books = recommend_books.merge(user_models,on='Book-Title',how='inner').drop(['ISBN', 'Year-Of-Publication', 'Publisher'], axis=1)\n",
    "\n",
    "    # Left books with the highest 10 score\n",
    "    recommend_books = recommend_books[(recommend_books['avg_reccomend_score'] >= 1)].drop_duplicates('Book-Title').sort_values(by='avg_reccomend_score', \n",
    "                                                                                                 ascending=False).head(10)\n",
    "    return recommend_books"
   ]
  },
  {
   "cell_type": "code",
   "execution_count": 108,
   "id": "c239a5db",
   "metadata": {},
   "outputs": [
    {
     "data": {
      "text/html": [
       "<div>\n",
       "<style scoped>\n",
       "    .dataframe tbody tr th:only-of-type {\n",
       "        vertical-align: middle;\n",
       "    }\n",
       "\n",
       "    .dataframe tbody tr th {\n",
       "        vertical-align: top;\n",
       "    }\n",
       "\n",
       "    .dataframe thead th {\n",
       "        text-align: right;\n",
       "    }\n",
       "</style>\n",
       "<table border=\"1\" class=\"dataframe\">\n",
       "  <thead>\n",
       "    <tr style=\"text-align: right;\">\n",
       "      <th></th>\n",
       "      <th>avg_reccomend_score</th>\n",
       "      <th>Book-Title</th>\n",
       "      <th>Book-Author</th>\n",
       "      <th>Image-URL-M</th>\n",
       "      <th>user_id</th>\n",
       "      <th>rating</th>\n",
       "    </tr>\n",
       "  </thead>\n",
       "  <tbody>\n",
       "    <tr>\n",
       "      <th>729</th>\n",
       "      <td>10.0</td>\n",
       "      <td>Harry Potter and the Sorcerer's Stone (Harry P...</td>\n",
       "      <td>J. K. Rowling</td>\n",
       "      <td>http://images.amazon.com/images/P/059035342X.0...</td>\n",
       "      <td>11676</td>\n",
       "      <td>10</td>\n",
       "    </tr>\n",
       "    <tr>\n",
       "      <th>362</th>\n",
       "      <td>9.0</td>\n",
       "      <td>Bridget Jones's Diary</td>\n",
       "      <td>Helen Fielding</td>\n",
       "      <td>http://images.amazon.com/images/P/014028009X.0...</td>\n",
       "      <td>11676</td>\n",
       "      <td>8</td>\n",
       "    </tr>\n",
       "    <tr>\n",
       "      <th>1433</th>\n",
       "      <td>9.0</td>\n",
       "      <td>The Secret Life of Bees</td>\n",
       "      <td>Sue Monk Kidd</td>\n",
       "      <td>http://images.amazon.com/images/P/0670894605.0...</td>\n",
       "      <td>11676</td>\n",
       "      <td>10</td>\n",
       "    </tr>\n",
       "    <tr>\n",
       "      <th>1042</th>\n",
       "      <td>8.0</td>\n",
       "      <td>The Nanny Diaries: A Novel</td>\n",
       "      <td>Emma McLaughlin</td>\n",
       "      <td>http://images.amazon.com/images/P/0312278586.0...</td>\n",
       "      <td>11676</td>\n",
       "      <td>6</td>\n",
       "    </tr>\n",
       "    <tr>\n",
       "      <th>2143</th>\n",
       "      <td>7.0</td>\n",
       "      <td>To Kill a Mockingbird</td>\n",
       "      <td>Harper Lee</td>\n",
       "      <td>http://images.amazon.com/images/P/0060935464.0...</td>\n",
       "      <td>11676</td>\n",
       "      <td>10</td>\n",
       "    </tr>\n",
       "    <tr>\n",
       "      <th>0</th>\n",
       "      <td>6.0</td>\n",
       "      <td>A Painted House</td>\n",
       "      <td>John Grisham</td>\n",
       "      <td>http://images.amazon.com/images/P/044023722X.0...</td>\n",
       "      <td>11676</td>\n",
       "      <td>8</td>\n",
       "    </tr>\n",
       "    <tr>\n",
       "      <th>1835</th>\n",
       "      <td>6.0</td>\n",
       "      <td>The Summons</td>\n",
       "      <td>John Grisham</td>\n",
       "      <td>http://images.amazon.com/images/P/0440241073.0...</td>\n",
       "      <td>11676</td>\n",
       "      <td>8</td>\n",
       "    </tr>\n",
       "  </tbody>\n",
       "</table>\n",
       "</div>"
      ],
      "text/plain": [
       "      avg_reccomend_score                                         Book-Title  \\\n",
       "729                  10.0  Harry Potter and the Sorcerer's Stone (Harry P...   \n",
       "362                   9.0                              Bridget Jones's Diary   \n",
       "1433                  9.0                            The Secret Life of Bees   \n",
       "1042                  8.0                         The Nanny Diaries: A Novel   \n",
       "2143                  7.0                              To Kill a Mockingbird   \n",
       "0                     6.0                                    A Painted House   \n",
       "1835                  6.0                                        The Summons   \n",
       "\n",
       "          Book-Author                                        Image-URL-M  \\\n",
       "729     J. K. Rowling  http://images.amazon.com/images/P/059035342X.0...   \n",
       "362    Helen Fielding  http://images.amazon.com/images/P/014028009X.0...   \n",
       "1433    Sue Monk Kidd  http://images.amazon.com/images/P/0670894605.0...   \n",
       "1042  Emma McLaughlin  http://images.amazon.com/images/P/0312278586.0...   \n",
       "2143       Harper Lee  http://images.amazon.com/images/P/0060935464.0...   \n",
       "0        John Grisham  http://images.amazon.com/images/P/044023722X.0...   \n",
       "1835     John Grisham  http://images.amazon.com/images/P/0440241073.0...   \n",
       "\n",
       "      user_id  rating  \n",
       "729     11676      10  \n",
       "362     11676       8  \n",
       "1433    11676      10  \n",
       "1042    11676       6  \n",
       "2143    11676      10  \n",
       "0       11676       8  \n",
       "1835    11676       8  "
      ]
     },
     "execution_count": 108,
     "metadata": {},
     "output_type": "execute_result"
    }
   ],
   "source": [
    "recommend(204864)"
   ]
  },
  {
   "cell_type": "code",
   "execution_count": null,
   "id": "9738b1ff",
   "metadata": {},
   "outputs": [],
   "source": []
  },
  {
   "cell_type": "code",
   "execution_count": 109,
   "id": "ad672836",
   "metadata": {},
   "outputs": [],
   "source": [
    "import pickle"
   ]
  },
  {
   "cell_type": "code",
   "execution_count": 110,
   "id": "45c2c99a",
   "metadata": {},
   "outputs": [],
   "source": [
    "pickle.dump(user_models_1,open('user_model.pkl','wb'))"
   ]
  },
  {
   "cell_type": "code",
   "execution_count": 111,
   "id": "6c3e0618",
   "metadata": {},
   "outputs": [],
   "source": [
    "pickle.dump(popularity_model,open('popular.pkl','wb'))"
   ]
  }
 ],
 "metadata": {
  "kernelspec": {
   "display_name": "Python 3 (ipykernel)",
   "language": "python",
   "name": "python3"
  },
  "language_info": {
   "codemirror_mode": {
    "name": "ipython",
    "version": 3
   },
   "file_extension": ".py",
   "mimetype": "text/x-python",
   "name": "python",
   "nbconvert_exporter": "python",
   "pygments_lexer": "ipython3",
   "version": "3.9.13"
  }
 },
 "nbformat": 4,
 "nbformat_minor": 5
}
